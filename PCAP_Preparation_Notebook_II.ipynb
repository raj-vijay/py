{
  "nbformat": 4,
  "nbformat_minor": 0,
  "metadata": {
    "colab": {
      "name": "PCAP_Preparation_Notebook_II.ipynb",
      "provenance": [],
      "authorship_tag": "ABX9TyNumoNls3iUhj/Sin1P24dR",
      "include_colab_link": true
    },
    "kernelspec": {
      "name": "python3",
      "display_name": "Python 3"
    }
  },
  "cells": [
    {
      "cell_type": "markdown",
      "metadata": {
        "id": "view-in-github",
        "colab_type": "text"
      },
      "source": [
        "<a href=\"https://colab.research.google.com/github/raj-vijay/py/blob/master/PCAP_Preparation_Notebook_II.ipynb\" target=\"_parent\"><img src=\"https://colab.research.google.com/assets/colab-badge.svg\" alt=\"Open In Colab\"/></a>"
      ]
    },
    {
      "cell_type": "markdown",
      "metadata": {
        "id": "mudFEp_hmxa7",
        "colab_type": "text"
      },
      "source": [
        "Q1. An operator able to check whether two values are equal is coded as:\n",
        "1. =\n",
        "2. ===\n",
        "3. **==**\n",
        "4. !="
      ]
    },
    {
      "cell_type": "code",
      "metadata": {
        "id": "46Uf_vwemvyx",
        "colab_type": "code",
        "outputId": "78c740d6-9553-448c-e10d-7d3d6a3d933b",
        "colab": {
          "base_uri": "https://localhost:8080/",
          "height": 34
        }
      },
      "source": [
        "if 1 == 1:\n",
        "  print(\" == checks values are equal.\")"
      ],
      "execution_count": 0,
      "outputs": [
        {
          "output_type": "stream",
          "text": [
            " == checks values are equal.\n"
          ],
          "name": "stdout"
        }
      ]
    },
    {
      "cell_type": "markdown",
      "metadata": {
        "id": "IfQMueZenHcN",
        "colab_type": "text"
      },
      "source": [
        "Q2. The value eventually assigned to x is equal to:\n",
        "\n",
        "```\n",
        "x = 1\n",
        "x = x == x\n",
        "```\n",
        "1. False\n",
        "2. 1\n",
        "3. **True**\n",
        "4. 0"
      ]
    },
    {
      "cell_type": "code",
      "metadata": {
        "id": "I46ego1CnXN9",
        "colab_type": "code",
        "outputId": "44159c24-963d-4dad-d0bd-43d8524f8daa",
        "colab": {
          "base_uri": "https://localhost:8080/",
          "height": 34
        }
      },
      "source": [
        "x = 1\n",
        "# == has more precedence than = operator\n",
        "x = x == x\n",
        "print(x)"
      ],
      "execution_count": 0,
      "outputs": [
        {
          "output_type": "stream",
          "text": [
            "True\n"
          ],
          "name": "stdout"
        }
      ]
    },
    {
      "cell_type": "markdown",
      "metadata": {
        "id": "PDXSLg-cnvSa",
        "colab_type": "text"
      },
      "source": [
        "Q3. How many stars will the following snippet send to the console?\n",
        "```\n",
        "i = 0\n",
        "while i <= 3 :\n",
        "i += 2\n",
        "print(“*”)\n",
        "```\n",
        "1. **two**\n",
        "2. zero\n",
        "3. one\n",
        "4. three"
      ]
    },
    {
      "cell_type": "code",
      "metadata": {
        "id": "jtVOxYT7oWmf",
        "colab_type": "code",
        "outputId": "9428e8b4-d089-4ca6-8eb7-8e46c2029a0f",
        "colab": {
          "base_uri": "https://localhost:8080/",
          "height": 51
        }
      },
      "source": [
        "i = 0\n",
        "while i <= 3:\n",
        "  i += 2\n",
        "  print('*')"
      ],
      "execution_count": 0,
      "outputs": [
        {
          "output_type": "stream",
          "text": [
            "*\n",
            "*\n"
          ],
          "name": "stdout"
        }
      ]
    },
    {
      "cell_type": "markdown",
      "metadata": {
        "id": "z334ad5VokwR",
        "colab_type": "text"
      },
      "source": [
        "Q4. How many stars will the following snippet send to the console?\n",
        "```\n",
        "i = 0\n",
        "while i <= 5 :\n",
        "i += 1\n",
        "if i % 2 == 0:\n",
        "break\n",
        "print(“*”)\n",
        "```\n",
        "1. zero\n",
        "2. **one**\n",
        "3. two\n",
        "4. three"
      ]
    },
    {
      "cell_type": "code",
      "metadata": {
        "id": "gBUBkwXupyU-",
        "colab_type": "code",
        "outputId": "c8ada327-bbf4-474b-85fc-de3a78d21ae1",
        "colab": {
          "base_uri": "https://localhost:8080/",
          "height": 34
        }
      },
      "source": [
        "i = 0\n",
        "while i <= 5:\n",
        "  i += 1\n",
        "  if i % 2 == 0:\n",
        "    break\n",
        "print('*')"
      ],
      "execution_count": 0,
      "outputs": [
        {
          "output_type": "stream",
          "text": [
            "*\n"
          ],
          "name": "stdout"
        }
      ]
    },
    {
      "cell_type": "markdown",
      "metadata": {
        "id": "32PBW8ADqn0E",
        "colab_type": "text"
      },
      "source": [
        "Q5. How many hashes will the following snippet send to the console?\n",
        "```\n",
        "for i in range(1):\n",
        "  print(“#”)\n",
        "else:\n",
        "  print(“#”)\n",
        "```\n",
        "1. one\n",
        "2. **two**\n",
        "3. zero\n",
        "4. three"
      ]
    },
    {
      "cell_type": "code",
      "metadata": {
        "id": "orRuktXmrVaD",
        "colab_type": "code",
        "outputId": "716a7d6a-fbd8-4825-a462-d8def48050ec",
        "colab": {
          "base_uri": "https://localhost:8080/",
          "height": 51
        }
      },
      "source": [
        "for i in range(1):\n",
        "    print('#')\n",
        "else:\n",
        "    print('#')"
      ],
      "execution_count": 0,
      "outputs": [
        {
          "output_type": "stream",
          "text": [
            "#\n",
            "#\n"
          ],
          "name": "stdout"
        }
      ]
    },
    {
      "cell_type": "markdown",
      "metadata": {
        "id": "7xmIIZf0rmiW",
        "colab_type": "text"
      },
      "source": [
        "Q6. How many hashes will the following snippet send to the console?\n",
        "```\n",
        "var = 0\n",
        "while var < 6:\n",
        "  var += 1\n",
        "if var % 2 == 0:\n",
        "  continue\n",
        "  print(“#”)\n",
        "```\n",
        "1. two\n",
        "2. zero\n",
        "3. one\n",
        "4. **three**"
      ]
    },
    {
      "cell_type": "code",
      "metadata": {
        "id": "-lJAEfIkr2aV",
        "colab_type": "code",
        "outputId": "73dea9e9-7dce-4772-ce11-981bc390ffb9",
        "colab": {
          "base_uri": "https://localhost:8080/",
          "height": 68
        }
      },
      "source": [
        "var = 0\n",
        "while var < 6:\n",
        "  var += 1\n",
        "  if var % 2 == 0: \n",
        "    continue \n",
        "  print('#')"
      ],
      "execution_count": 0,
      "outputs": [
        {
          "output_type": "stream",
          "text": [
            "#\n",
            "#\n",
            "#\n"
          ],
          "name": "stdout"
        }
      ]
    },
    {
      "cell_type": "markdown",
      "metadata": {
        "id": "dmUKP1BWsfxu",
        "colab_type": "text"
      },
      "source": [
        "Q7. How many hashes will the following snippet send to the console?\n",
        "```\n",
        "var = 1\n",
        "while var < 10:\n",
        "  print(“#”)\n",
        "  var = var << 1\n",
        "```\n",
        "1. eight\n",
        "2. one\n",
        "3. four\n",
        "4. two"
      ]
    },
    {
      "cell_type": "code",
      "metadata": {
        "id": "PCN9ONEX-oPm",
        "colab_type": "code",
        "outputId": "2a9acd4e-a9b1-4581-ceb9-a72eab66cf4b",
        "colab": {
          "base_uri": "https://localhost:8080/",
          "height": 153
        }
      },
      "source": [
        "var = 1\n",
        "while var < 10:\n",
        "  print('#')\n",
        "  var = var << 1\n",
        "  \n",
        "var = 1\n",
        "while var < 10:\n",
        "  var = var << 1  \n",
        "  print(var)"
      ],
      "execution_count": 0,
      "outputs": [
        {
          "output_type": "stream",
          "text": [
            "#\n",
            "#\n",
            "#\n",
            "#\n",
            "2\n",
            "4\n",
            "8\n",
            "16\n"
          ],
          "name": "stdout"
        }
      ]
    },
    {
      "cell_type": "markdown",
      "metadata": {
        "id": "V6A3B3Kd_dlv",
        "colab_type": "text"
      },
      "source": [
        "**Bitwise Operators in Python**\n",
        "\n",
        "x << y\n",
        "\n",
        "Returns x with the bits shifted to the left by y places (and new bits on the right-hand-side are zeros). This is the same as multiplying x by 2**y.\n",
        "\n",
        "x >> y\n",
        "\n",
        "Returns x with the bits shifted to the right by y places. This is the same as dividing x by 2**y."
      ]
    },
    {
      "cell_type": "markdown",
      "metadata": {
        "id": "MKStP9hRBakF",
        "colab_type": "text"
      },
      "source": [
        "Q8. What value will be assigned to the x variable?\n",
        "```\n",
        "z = 10\n",
        "y = 0\n",
        "x = y < z and z > y or y > z and z < y\n",
        "```\n",
        "1. 0\n",
        "2. 1\n",
        "3. **True**\n",
        "4. False"
      ]
    },
    {
      "cell_type": "code",
      "metadata": {
        "id": "hWVvrMbEBx43",
        "colab_type": "code",
        "outputId": "8ee8d37d-0475-42d0-a2ce-e7b1b4603f7c",
        "colab": {
          "base_uri": "https://localhost:8080/",
          "height": 34
        }
      },
      "source": [
        "z = 10\n",
        "y = 0\n",
        "x = y < z and z > y or y > z and z < y\n",
        "print(x)"
      ],
      "execution_count": 0,
      "outputs": [
        {
          "output_type": "stream",
          "text": [
            "True\n"
          ],
          "name": "stdout"
        }
      ]
    },
    {
      "cell_type": "markdown",
      "metadata": {
        "id": "P7NPZlvfB7Lq",
        "colab_type": "text"
      },
      "source": [
        "Q9. What is the output of the following snippet?\n",
        "\n",
        "```\n",
        "a = 1\n",
        "b = 0\n",
        "c = a & b\n",
        "d = a | b\n",
        "e = a ^ b\n",
        "print(c + d + e)\n",
        "```\n",
        "1. 1\n",
        "2. 3\n",
        "3. **2**\n",
        "4. 0"
      ]
    },
    {
      "cell_type": "code",
      "metadata": {
        "id": "-XWDZMNOC_Xv",
        "colab_type": "code",
        "outputId": "d176de0c-c774-478b-dfe7-d77647713103",
        "colab": {
          "base_uri": "https://localhost:8080/",
          "height": 34
        }
      },
      "source": [
        "a = 1\n",
        "b = 0\n",
        "c = a & b\n",
        "d = a | b\n",
        "e = a ^ b\n",
        "print(c, d, e, c + d + e)"
      ],
      "execution_count": 0,
      "outputs": [
        {
          "output_type": "stream",
          "text": [
            "0 1 1 2\n"
          ],
          "name": "stdout"
        }
      ]
    },
    {
      "cell_type": "markdown",
      "metadata": {
        "id": "cOQ3rV5eFGwH",
        "colab_type": "text"
      },
      "source": [
        "**Bitwise XOR (^)**\n",
        "\n",
        "A bitwise XOR is a binary operation that takes two bit patterns of equal length and performs the logical exclusive OR operation on each pair of corresponding bits. \n",
        "\n",
        "The result in each position is 1 if only the first bit is 1 or only the second bit is 1, but will be 0 if both are 0 or both are 1. In this we perform the comparison of two bits, being 1 if the two bits are different, and 0 if they are the same."
      ]
    },
    {
      "cell_type": "markdown",
      "metadata": {
        "id": "LRs24AS0D6EI",
        "colab_type": "text"
      },
      "source": [
        "Q10. What is the output of the following snippet?\n",
        "```\n",
        "lst = [3, 1, -2]\n",
        "print(lst[lst[-1]])\n",
        "```\n",
        "1. **1**\n",
        "2. -2\n",
        "3. 3\n",
        "4. -1"
      ]
    },
    {
      "cell_type": "code",
      "metadata": {
        "id": "JkGJzObSEJ5f",
        "colab_type": "code",
        "outputId": "9f6c298b-57f1-4b2f-ddb1-d845797f3465",
        "colab": {
          "base_uri": "https://localhost:8080/",
          "height": 34
        }
      },
      "source": [
        "lst = [3, 1, -2]\n",
        "print(lst[lst[-1]])"
      ],
      "execution_count": 0,
      "outputs": [
        {
          "output_type": "stream",
          "text": [
            "1\n"
          ],
          "name": "stdout"
        }
      ]
    },
    {
      "cell_type": "markdown",
      "metadata": {
        "id": "wUZurxZyERWd",
        "colab_type": "text"
      },
      "source": [
        "Q11. What is the output of the following snippet?\n",
        "```\n",
        "lst = [1,2,3,4]\n",
        "print(lst[-3:-2])\n",
        "```\n",
        "1. [2,3,4]\n",
        "2. **[2]**\n",
        "3. []\n",
        "4. [2,3]"
      ]
    },
    {
      "cell_type": "code",
      "metadata": {
        "id": "zQXWxbtKEfV9",
        "colab_type": "code",
        "outputId": "9087ab9b-47fb-4a60-fc70-71578dde9d28",
        "colab": {
          "base_uri": "https://localhost:8080/",
          "height": 34
        }
      },
      "source": [
        "lst = [1,2,3,4]\n",
        "print(lst[-3:-2])"
      ],
      "execution_count": 0,
      "outputs": [
        {
          "output_type": "stream",
          "text": [
            "[2]\n"
          ],
          "name": "stdout"
        }
      ]
    },
    {
      "cell_type": "markdown",
      "metadata": {
        "id": "9zftWQgbFhtR",
        "colab_type": "text"
      },
      "source": [
        "Q12. The second assignment:\n",
        "```\n",
        "vals = [0, 1, 2]\n",
        "vals[0], vals[2] = vals[2], vals[0]\n",
        "```\n",
        "1. doesn’t change the list\n",
        "2. extends the list\n",
        "3. shortens the list\n",
        "4. **reverses the list**"
      ]
    },
    {
      "cell_type": "code",
      "metadata": {
        "id": "XN-wPyTGGUIA",
        "colab_type": "code",
        "outputId": "21e99e4c-b565-43f1-8584-6a0c9edf2762",
        "colab": {
          "base_uri": "https://localhost:8080/",
          "height": 34
        }
      },
      "source": [
        "vals = [0, 1, 2]\n",
        "vals[0], vals[2] = vals[2], vals[0]\n",
        "print(vals)"
      ],
      "execution_count": 0,
      "outputs": [
        {
          "output_type": "stream",
          "text": [
            "[2, 1, 0]\n"
          ],
          "name": "stdout"
        }
      ]
    },
    {
      "cell_type": "markdown",
      "metadata": {
        "id": "NWeKjThmIk-H",
        "colab_type": "text"
      },
      "source": [
        "Q13. After execution of the following snippet, the sum of all vals elements will be equal to:\n",
        "```\n",
        "vals = [0, 1, 2]\n",
        "vals.insert(0,1)\n",
        "del vals[1]\n",
        "```\n",
        "1. 2\n",
        "2. 5\n",
        "3. 3\n",
        "4. **4**"
      ]
    },
    {
      "cell_type": "code",
      "metadata": {
        "id": "4sK8WfdeLdtc",
        "colab_type": "code",
        "outputId": "bb79ce4d-930e-4de1-d7a7-2f0a15456dd4",
        "colab": {
          "base_uri": "https://localhost:8080/",
          "height": 34
        }
      },
      "source": [
        "vals = [0, 1, 2]\n",
        "vals.insert(0,1)\n",
        "del vals[1]\n",
        "print(sum(vals))"
      ],
      "execution_count": 0,
      "outputs": [
        {
          "output_type": "stream",
          "text": [
            "4\n"
          ],
          "name": "stdout"
        }
      ]
    },
    {
      "cell_type": "markdown",
      "metadata": {
        "id": "7nrz1A4aL6S0",
        "colab_type": "text"
      },
      "source": [
        "Q15. Take a look at the snippet, and choose the true statement:\n",
        "\n",
        "```\n",
        "nums = [1,2,3]\n",
        "vals = nums\n",
        "del vals[1:2]\n",
        "```\n",
        "1. nums is longer than vals\n",
        "2. vals is longer than nums\n",
        "3. **nums and vals are of the same length**\n",
        "4. the snippet will cause a runtime error"
      ]
    },
    {
      "cell_type": "code",
      "metadata": {
        "id": "-T9vHIH9MLWJ",
        "colab_type": "code",
        "outputId": "d3a85567-5822-4177-8cec-d58805c8018f",
        "colab": {
          "base_uri": "https://localhost:8080/",
          "height": 34
        }
      },
      "source": [
        "nums = [1,2,3]\n",
        "vals = nums\n",
        "del vals[1:2]\n",
        "print(\"Length of nums = \", len(nums), \"and length of vals = \", len(vals))"
      ],
      "execution_count": 0,
      "outputs": [
        {
          "output_type": "stream",
          "text": [
            "Length of nums =  2 and length of vals =  2\n"
          ],
          "name": "stdout"
        }
      ]
    },
    {
      "cell_type": "markdown",
      "metadata": {
        "id": "WVar2SlEMjS3",
        "colab_type": "text"
      },
      "source": [
        "**List Reference and List Copy**"
      ]
    },
    {
      "cell_type": "code",
      "metadata": {
        "id": "e1ICGRkCRmax",
        "colab_type": "code",
        "outputId": "20a80153-239b-4267-af71-4e6d857ef182",
        "colab": {
          "base_uri": "https://localhost:8080/",
          "height": 34
        }
      },
      "source": [
        "old = [1, 2, 3]\n",
        "# With python lists, the assignment operator is essentially a pointer, pointing to the memory address of the original list. \n",
        "new = old\n",
        "# The method copy(), copies one list to another.\n",
        "copy = old.copy()\n",
        "del old[1]\n",
        "print(old, new, copy)"
      ],
      "execution_count": 0,
      "outputs": [
        {
          "output_type": "stream",
          "text": [
            "[1, 3] [1, 3] [1, 2, 3]\n"
          ],
          "name": "stdout"
        }
      ]
    },
    {
      "cell_type": "markdown",
      "metadata": {
        "id": "k2U4KpVjS957",
        "colab_type": "text"
      },
      "source": [
        "Q16. What is the output of the following snippet?\n",
        "```\n",
        "l1 = [1,2,3]\n",
        "l2 = []\n",
        "for v in l1:\n",
        "  l2.insert(0,v)\n",
        "  print(l2)\n",
        "```\n",
        "1. **[3,2,1]**\n",
        "2. [1,2,3]\n",
        "3. [3,3,3]\n",
        "4. [1,1,1]"
      ]
    },
    {
      "cell_type": "code",
      "metadata": {
        "id": "xnb3yg6xTVpB",
        "colab_type": "code",
        "outputId": "5922070b-926d-4454-9c20-37595581bc65",
        "colab": {
          "base_uri": "https://localhost:8080/",
          "height": 34
        }
      },
      "source": [
        "l1 = [1,2,3]\n",
        "l2 = []\n",
        "for v in l1:\n",
        "  l2.insert(0,v)\n",
        "print(l2)"
      ],
      "execution_count": 0,
      "outputs": [
        {
          "output_type": "stream",
          "text": [
            "[3, 2, 1]\n"
          ],
          "name": "stdout"
        }
      ]
    },
    {
      "cell_type": "markdown",
      "metadata": {
        "id": "nclPG9AnTsZH",
        "colab_type": "text"
      },
      "source": [
        "Q17. What is the output of the following snippet?\n",
        "```\n",
        "l1 = [1,2,3]\n",
        "for v in range(len(l1)):\n",
        "  l1.insert(1,l1[v])\n",
        "print(l1)\n",
        "```\n",
        "1. [1, 2, 3, 3, 2, 1]\n",
        "2. [1, 2, 3, 1, 2, 3]\n",
        "3. [3, 2, 1, 1, 2, 3]\n",
        "4. **[1, 1, 1, 1, 2, 3]**"
      ]
    },
    {
      "cell_type": "code",
      "metadata": {
        "id": "w8EPOOXDU9lD",
        "colab_type": "code",
        "outputId": "dcf9c3aa-83f1-41ae-cbe6-6858bf008534",
        "colab": {
          "base_uri": "https://localhost:8080/",
          "height": 34
        }
      },
      "source": [
        "l1 = [1,2,3]\n",
        "for v in range(len(l1)):\n",
        "  l1.insert(1,l1[v])\n",
        "print(l1)"
      ],
      "execution_count": 0,
      "outputs": [
        {
          "output_type": "stream",
          "text": [
            "[1, 1, 1, 1, 2, 3]\n"
          ],
          "name": "stdout"
        }
      ]
    },
    {
      "cell_type": "markdown",
      "metadata": {
        "id": "J4kaqEqpVPYj",
        "colab_type": "text"
      },
      "source": [
        "Q18. How many elements does the L list contain?\n",
        "```\n",
        "L = [i for i in range(-1,2)]\n",
        "```\n",
        "1. one\n",
        "2. four\n",
        "3. **three**\n",
        "4. two"
      ]
    },
    {
      "cell_type": "code",
      "metadata": {
        "id": "UZUQl97OVeIy",
        "colab_type": "code",
        "outputId": "eb538713-d77a-492f-ba78-46410f24dd05",
        "colab": {
          "base_uri": "https://localhost:8080/",
          "height": 34
        }
      },
      "source": [
        "L = [i for i in range(-1,2)]\n",
        "print(L)"
      ],
      "execution_count": 0,
      "outputs": [
        {
          "output_type": "stream",
          "text": [
            "[-1, 0, 1]\n"
          ],
          "name": "stdout"
        }
      ]
    },
    {
      "cell_type": "markdown",
      "metadata": {
        "id": "B6tLpJYsAk2_",
        "colab_type": "text"
      },
      "source": [
        "Q19. What is the output of the following snippet?\n",
        "```\n",
        "T = [[3-i for i in range (3)] for j in range (3)]\n",
        "s = 0\n",
        "for i in range(3):\n",
        "  s += T[i][i]\n",
        "print(s)\n",
        "```\n",
        "1. 4\n",
        "2. 2\n",
        "3. 7\n",
        "4. **6**"
      ]
    },
    {
      "cell_type": "code",
      "metadata": {
        "id": "5B5HboKADGsq",
        "colab_type": "code",
        "outputId": "d373e2f3-4372-487b-e782-7983dc6a6cde",
        "colab": {
          "base_uri": "https://localhost:8080/",
          "height": 34
        }
      },
      "source": [
        "T = [[3-i for i in range (3)] for j in range (3)]\n",
        "print(T)"
      ],
      "execution_count": 0,
      "outputs": [
        {
          "output_type": "stream",
          "text": [
            "[[3, 2, 1], [3, 2, 1], [3, 2, 1]]\n"
          ],
          "name": "stdout"
        }
      ]
    },
    {
      "cell_type": "code",
      "metadata": {
        "id": "Y9eQ3kYKA4_y",
        "colab_type": "code",
        "outputId": "d12d8e02-7de8-47b1-9f5a-70973c5f10df",
        "colab": {
          "base_uri": "https://localhost:8080/",
          "height": 34
        }
      },
      "source": [
        "T = [[3-i for i in range (3)] for j in range (3)]\n",
        "s = 0\n",
        "for i in range(3):\n",
        "  s += T[i][i]\n",
        "print(s)"
      ],
      "execution_count": 0,
      "outputs": [
        {
          "output_type": "stream",
          "text": [
            "6\n"
          ],
          "name": "stdout"
        }
      ]
    },
    {
      "cell_type": "markdown",
      "metadata": {
        "id": "c9ZV-WpPDksf",
        "colab_type": "text"
      },
      "source": [
        "Q20. What is the output of the following snippet?\n",
        "```\n",
        "L = [[0, 1, 2, 3] for i in range(2)]\n",
        "print(L[2][0])\n",
        "```\n",
        "1. **the snippet will cause a runtime error**\n",
        "2. 1\n",
        "3. 2\n",
        "4. 0"
      ]
    },
    {
      "cell_type": "code",
      "metadata": {
        "id": "YOkDG7vZENNW",
        "colab_type": "code",
        "outputId": "0447ae5e-ceaf-4fd6-f21a-8b057bf1cfc7",
        "colab": {
          "base_uri": "https://localhost:8080/",
          "height": 34
        }
      },
      "source": [
        "L = [[0, 1, 2, 3] for i in range(2)]\n",
        "print(L)"
      ],
      "execution_count": 0,
      "outputs": [
        {
          "output_type": "stream",
          "text": [
            "[[0, 1, 2, 3], [0, 1, 2, 3]]\n"
          ],
          "name": "stdout"
        }
      ]
    },
    {
      "cell_type": "code",
      "metadata": {
        "id": "_HdFbnITEJ8o",
        "colab_type": "code",
        "outputId": "5300b729-846b-42d3-c7a1-55a52869d2dd",
        "colab": {
          "base_uri": "https://localhost:8080/",
          "height": 180
        }
      },
      "source": [
        "L = [[0, 1, 2, 3] for i in range(2)]\n",
        "print(L[2][0])"
      ],
      "execution_count": 0,
      "outputs": [
        {
          "output_type": "error",
          "ename": "IndexError",
          "evalue": "ignored",
          "traceback": [
            "\u001b[0;31m---------------------------------------------------------------------------\u001b[0m",
            "\u001b[0;31mIndexError\u001b[0m                                Traceback (most recent call last)",
            "\u001b[0;32m<ipython-input-3-9f428a3ed708>\u001b[0m in \u001b[0;36m<module>\u001b[0;34m()\u001b[0m\n\u001b[1;32m      1\u001b[0m \u001b[0mL\u001b[0m \u001b[0;34m=\u001b[0m \u001b[0;34m[\u001b[0m\u001b[0;34m[\u001b[0m\u001b[0;36m0\u001b[0m\u001b[0;34m,\u001b[0m \u001b[0;36m1\u001b[0m\u001b[0;34m,\u001b[0m \u001b[0;36m2\u001b[0m\u001b[0;34m,\u001b[0m \u001b[0;36m3\u001b[0m\u001b[0;34m]\u001b[0m \u001b[0;32mfor\u001b[0m \u001b[0mi\u001b[0m \u001b[0;32min\u001b[0m \u001b[0mrange\u001b[0m\u001b[0;34m(\u001b[0m\u001b[0;36m2\u001b[0m\u001b[0;34m)\u001b[0m\u001b[0;34m]\u001b[0m\u001b[0;34m\u001b[0m\u001b[0;34m\u001b[0m\u001b[0m\n\u001b[0;32m----> 2\u001b[0;31m \u001b[0mprint\u001b[0m\u001b[0;34m(\u001b[0m\u001b[0mL\u001b[0m\u001b[0;34m[\u001b[0m\u001b[0;36m2\u001b[0m\u001b[0;34m]\u001b[0m\u001b[0;34m[\u001b[0m\u001b[0;36m0\u001b[0m\u001b[0;34m]\u001b[0m\u001b[0;34m)\u001b[0m\u001b[0;34m\u001b[0m\u001b[0;34m\u001b[0m\u001b[0m\n\u001b[0m",
            "\u001b[0;31mIndexError\u001b[0m: list index out of range"
          ]
        }
      ]
    }
  ]
}