{
  "nbformat": 4,
  "nbformat_minor": 0,
  "metadata": {
    "colab": {
      "name": "PCAP_Preparation_Summary_SII.ipynb",
      "provenance": [],
      "authorship_tag": "ABX9TyOyaX65QF0/SlPmQkjuBZpZ",
      "include_colab_link": true
    },
    "kernelspec": {
      "name": "python3",
      "display_name": "Python 3"
    }
  },
  "cells": [
    {
      "cell_type": "markdown",
      "metadata": {
        "id": "view-in-github",
        "colab_type": "text"
      },
      "source": [
        "<a href=\"https://colab.research.google.com/github/raj-vijay/py/blob/master/PCAP_Preparation_Summary_SII.ipynb\" target=\"_parent\"><img src=\"https://colab.research.google.com/assets/colab-badge.svg\" alt=\"Open In Colab\"/></a>"
      ]
    },
    {
      "cell_type": "markdown",
      "metadata": {
        "id": "UC13pOjtfyrK",
        "colab_type": "text"
      },
      "source": [
        "Q1. Knowing that a function named f() resides in a module named m, and was imported using the following statement\n",
        "```\n",
        "from mod import fun\n",
        "```\n",
        "choose the right way to invoke it:\n",
        "1. **fun()**\n",
        "2. mod.fun()\n",
        "3. mod::fun()\n",
        "4. mod:fun()"
      ]
    },
    {
      "cell_type": "code",
      "metadata": {
        "id": "fXrYsIk5fk1z",
        "colab_type": "code",
        "outputId": "1f04ee6a-f0d2-4414-f005-1784de2541a3",
        "colab": {
          "base_uri": "https://localhost:8080/",
          "height": 34
        }
      },
      "source": [
        "from math import sqrt\n",
        "sqrt(25)"
      ],
      "execution_count": 0,
      "outputs": [
        {
          "output_type": "execute_result",
          "data": {
            "text/plain": [
              "5.0"
            ]
          },
          "metadata": {
            "tags": []
          },
          "execution_count": 1
        }
      ]
    },
    {
      "cell_type": "markdown",
      "metadata": {
        "id": "SFu7pvY8gFgC",
        "colab_type": "text"
      },
      "source": [
        "Q2. What output will appear after running the following snippet?\n",
        " \n",
        "```\n",
        "import math\n",
        "print(dir(math))\n",
        "```\n",
        "1. an error message\n",
        "2. a string containing the fully qualified name of the module\n",
        "3. **a list of all the entities residing in the math module**\n",
        "4. the number of all the entities residing in the math module"
      ]
    },
    {
      "cell_type": "code",
      "metadata": {
        "id": "-0AvONzOgP0a",
        "colab_type": "code",
        "outputId": "0bee2921-26bd-4a37-be91-d2744847a649",
        "colab": {
          "base_uri": "https://localhost:8080/",
          "height": 54
        }
      },
      "source": [
        "import math\n",
        "print(dir(math))"
      ],
      "execution_count": 0,
      "outputs": [
        {
          "output_type": "stream",
          "text": [
            "['__doc__', '__loader__', '__name__', '__package__', '__spec__', 'acos', 'acosh', 'asin', 'asinh', 'atan', 'atan2', 'atanh', 'ceil', 'copysign', 'cos', 'cosh', 'degrees', 'e', 'erf', 'erfc', 'exp', 'expm1', 'fabs', 'factorial', 'floor', 'fmod', 'frexp', 'fsum', 'gamma', 'gcd', 'hypot', 'inf', 'isclose', 'isfinite', 'isinf', 'isnan', 'ldexp', 'lgamma', 'log', 'log10', 'log1p', 'log2', 'modf', 'nan', 'pi', 'pow', 'radians', 'sin', 'sinh', 'sqrt', 'tan', 'tanh', 'tau', 'trunc']\n"
          ],
          "name": "stdout"
        }
      ]
    },
    {
      "cell_type": "markdown",
      "metadata": {
        "id": "hc9yQU2wgVpB",
        "colab_type": "text"
      },
      "source": [
        "Q3. The compiled Python bytecode is stored in files having names ending with:\n",
        "1. py\n",
        "2. pyb\n",
        "3. pc\n",
        "4. **pyc**"
      ]
    },
    {
      "cell_type": "markdown",
      "metadata": {
        "id": "kc7Qy7rEgfOZ",
        "colab_type": "text"
      },
      "source": [
        "Q4. Assuming that all three files, a.py, b.py, and c.py reside in the same folder, what will be the output produced by running the c.py file?\n",
        "```\n",
        "# file a.py\n",
        "print(“a”,end=”)\n",
        "#file b.py\n",
        "import a\n",
        "print(“b”,end=”)\n",
        "#file c.py\n",
        "print(“c”,end=”)\n",
        "import a\n",
        "import b\n",
        "```\n",
        "1. cba\n",
        "2. abc\n",
        "3. bac\n",
        "4. **cab**"
      ]
    },
    {
      "cell_type": "markdown",
      "metadata": {
        "id": "rQiJwa-IhBBr",
        "colab_type": "text"
      },
      "source": [
        "Q5. What will be the output of the following code, located in file p.py?\n",
        "```\n",
        "print(__name__)\n",
        "```\n",
        "1. p.py\n",
        "2. main\n",
        "3. __ p.py __\n",
        "4. **__ main __**"
      ]
    },
    {
      "cell_type": "code",
      "metadata": {
        "id": "oPB0Lhneho_K",
        "colab_type": "code",
        "outputId": "c58039f6-d6a3-4aad-d3af-5011d4028f74",
        "colab": {
          "base_uri": "https://localhost:8080/",
          "height": 34
        }
      },
      "source": [
        "print(__name__)"
      ],
      "execution_count": 0,
      "outputs": [
        {
          "output_type": "stream",
          "text": [
            "__main__\n"
          ],
          "name": "stdout"
        }
      ]
    },
    {
      "cell_type": "markdown",
      "metadata": {
        "id": "ym-rEzWHhtbB",
        "colab_type": "text"
      },
      "source": [
        "Q6. The following statement\n",
        "```\n",
        "from a.b import c\n",
        "```\n",
        "causes the import of:\n",
        "1. entity a from module b from package c\n",
        "2. entity b from module a from package c\n",
        "3. **entity c from module b from package a**\n",
        "4. entity c from module a from package b"
      ]
    },
    {
      "cell_type": "code",
      "metadata": {
        "id": "OoOZpViXh72z",
        "colab_type": "code",
        "outputId": "67890afa-3a6c-433a-fcdd-322b28eae769",
        "colab": {
          "base_uri": "https://localhost:8080/",
          "height": 282
        }
      },
      "source": [
        "import random\n",
        "from matplotlib.pyplot import plot\n",
        "x = [random.randint(0, 25) for i in range(10)]\n",
        "plot(x)"
      ],
      "execution_count": 0,
      "outputs": [
        {
          "output_type": "execute_result",
          "data": {
            "text/plain": [
              "[<matplotlib.lines.Line2D at 0x7f8409826908>]"
            ]
          },
          "metadata": {
            "tags": []
          },
          "execution_count": 5
        },
        {
          "output_type": "display_data",
          "data": {
            "image/png": "[encoded data removed]",
            "text/plain": [
              "<Figure size 432x288 with 1 Axes>"
            ]
          },
          "metadata": {
            "tags": []
          }
        }
      ]
    },
    {
      "cell_type": "markdown",
      "metadata": {
        "id": "b9moUeTOiV9b",
        "colab_type": "text"
      },
      "source": [
        "Q7. If there are more than one except: branches after the try:, we can say that:\n",
        "1. one or more of the try: blocks will be executed\n",
        "2. none of the try: blocks will be executed\n",
        "3. **not more than one try: block will be executed**\n",
        "4. exactly one of the try: blocks will be executed"
      ]
    },
    {
      "cell_type": "code",
      "metadata": {
        "id": "oVS69e7mi89r",
        "colab_type": "code",
        "outputId": "d4540c0e-10ac-4900-e48f-6aa84fdd1811",
        "colab": {
          "base_uri": "https://localhost:8080/",
          "height": 34
        }
      },
      "source": [
        "# No try block is executed\n",
        "try:\n",
        "  print(1/0)\n",
        "except ArithmeticError:\n",
        "  print(\"Arithmetic Error.\")\n",
        "except:\n",
        "  print(\"Any other error.\")"
      ],
      "execution_count": 0,
      "outputs": [
        {
          "output_type": "stream",
          "text": [
            "Arithmetic Error.\n"
          ],
          "name": "stdout"
        }
      ]
    },
    {
      "cell_type": "code",
      "metadata": {
        "id": "zbx7q7i8jSaz",
        "colab_type": "code",
        "outputId": "72227051-ea01-4005-b09d-e8285a28b710",
        "colab": {
          "base_uri": "https://localhost:8080/",
          "height": 51
        }
      },
      "source": [
        "# Portion of the try block is executed and except block is executed\n",
        "try:\n",
        "  print(3)\n",
        "  print(1/0)\n",
        "except ArithmeticError:\n",
        "  print(\"Arithmetic Error.\")\n",
        "except:\n",
        "  print(\"Any other error.\")"
      ],
      "execution_count": 0,
      "outputs": [
        {
          "output_type": "stream",
          "text": [
            "3\n",
            "Arithmetic Error.\n"
          ],
          "name": "stdout"
        }
      ]
    },
    {
      "cell_type": "code",
      "metadata": {
        "id": "-Z2yKmfHjbmK",
        "colab_type": "code",
        "outputId": "2bdf0d1d-7b6f-4140-d2b5-799fb438b677",
        "colab": {
          "base_uri": "https://localhost:8080/",
          "height": 34
        }
      },
      "source": [
        "# All of try block is executed, no except block is executed.\n",
        "try:\n",
        "  print(3)\n",
        "except ArithmeticError:\n",
        "  print(\"Arithmetic Error.\")\n",
        "except:\n",
        "  print(\"Any other error.\")"
      ],
      "execution_count": 0,
      "outputs": [
        {
          "output_type": "stream",
          "text": [
            "3\n"
          ],
          "name": "stdout"
        }
      ]
    },
    {
      "cell_type": "markdown",
      "metadata": {
        "id": "zQ4cklBGjlMT",
        "colab_type": "text"
      },
      "source": [
        "Q8. What will be the output of the following snippet?\n",
        "```\n",
        "try:      \n",
        "raise Exception   \n",
        "except BaseException:\n",
        "  print(“a”)\n",
        "except Exception:\n",
        "  print(“b”)\n",
        "except:\n",
        "  print(“c”)\n",
        "```\n",
        "1. c\n",
        "2. b\n",
        "3. it will cause an error\n",
        "4. **a**"
      ]
    },
    {
      "cell_type": "code",
      "metadata": {
        "id": "NRGd3gzyj-OM",
        "colab_type": "code",
        "outputId": "7c9ee6c1-7086-432b-999d-beeeb8952a2e",
        "colab": {
          "base_uri": "https://localhost:8080/",
          "height": 34
        }
      },
      "source": [
        "try:      \n",
        "  raise Exception   \n",
        "except BaseException:\n",
        "  print('a')\n",
        "except Exception:\n",
        "  print('b')\n",
        "except:\n",
        "  print('c')"
      ],
      "execution_count": 0,
      "outputs": [
        {
          "output_type": "stream",
          "text": [
            "a\n"
          ],
          "name": "stdout"
        }
      ]
    },
    {
      "cell_type": "markdown",
      "metadata": {
        "id": "-QcwpVcukHtI",
        "colab_type": "text"
      },
      "source": [
        "Q9. The following line of code:\n",
        "```\n",
        "for line in open(‘text.txt’,’rt’):\n",
        "```\n",
        "1. **is valid as open returns an iterable object**\n",
        "2. is invalid as open returns a non-iterable object\n",
        "3. is invalid as open returns nothing\n",
        "4. may be valid if line is a list"
      ]
    },
    {
      "cell_type": "code",
      "metadata": {
        "id": "YeirW5KJkZJD",
        "colab_type": "code",
        "outputId": "0d87df4a-1570-4a68-869e-4416e387d153",
        "colab": {
          "base_uri": "https://localhost:8080/",
          "height": 34
        }
      },
      "source": [
        "for line in open('text.txt','rt'):\n",
        "  print(line)"
      ],
      "execution_count": 0,
      "outputs": [
        {
          "output_type": "stream",
          "text": [
            "This is a text file.\n"
          ],
          "name": "stdout"
        }
      ]
    },
    {
      "cell_type": "markdown",
      "metadata": {
        "id": "apTx4fSjlIE7",
        "colab_type": "text"
      },
      "source": [
        "Q10. What will be the output of the following snippet?\n",
        "```\n",
        "try:\n",
        "  raise Exception\n",
        "except:\n",
        "  print(“c”)\n",
        "except BaseException:\n",
        "  print(“a”)\n",
        "except Exception:\n",
        "  print(“b”)\n",
        "```\n",
        "1. a\n",
        "2. c\n",
        "3. b\n",
        "4. **it will cause an error**"
      ]
    },
    {
      "cell_type": "code",
      "metadata": {
        "id": "ukOdWTTFlXlC",
        "colab_type": "code",
        "outputId": "324bb610-9b2d-4cb2-b021-d4cbeaeabf45",
        "colab": {
          "base_uri": "https://localhost:8080/",
          "height": 129
        }
      },
      "source": [
        "# Returns SyntaxError: default 'except:' must be last\n",
        "try:\n",
        "  raise Exception\n",
        "except:\n",
        "  print('c')\n",
        "except BaseException:\n",
        "  print('a')\n",
        "except Exception:\n",
        "  print('b')"
      ],
      "execution_count": 0,
      "outputs": [
        {
          "output_type": "error",
          "ename": "SyntaxError",
          "evalue": "ignored",
          "traceback": [
            "\u001b[0;36m  File \u001b[0;32m\"<ipython-input-18-d8928c977a16>\"\u001b[0;36m, line \u001b[0;32m2\u001b[0m\n\u001b[0;31m    raise Exception\u001b[0m\n\u001b[0m         ^\u001b[0m\n\u001b[0;31mSyntaxError\u001b[0m\u001b[0;31m:\u001b[0m default 'except:' must be last\n"
          ]
        }
      ]
    },
    {
      "cell_type": "markdown",
      "metadata": {
        "id": "kaNYpkt9ljbK",
        "colab_type": "text"
      },
      "source": [
        "Q11. The following statement:\n",
        "```\n",
        "assert var != 0\n",
        "```\n",
        "1. **will stop the program when var == 0**\n",
        "2. is erroneous\n",
        "3. has no effect\n",
        "4. will stop the program when var != 0"
      ]
    },
    {
      "cell_type": "code",
      "metadata": {
        "id": "M48yVK6Elusp",
        "colab_type": "code",
        "outputId": "7b09833a-1aa5-44c8-8426-b679aae76163",
        "colab": {
          "base_uri": "https://localhost:8080/",
          "height": 299
        }
      },
      "source": [
        "i = 0\n",
        "var = 5\n",
        "while i < 10:\n",
        "  print(i, var)\n",
        "  var -= 1\n",
        "  # \"Assertion stoped the program without leading to an infinite loop when v == 0.\"\n",
        "  assert var != 0\n",
        "\n"
      ],
      "execution_count": 0,
      "outputs": [
        {
          "output_type": "stream",
          "text": [
            "0 5\n",
            "0 4\n",
            "0 3\n",
            "0 2\n",
            "0 1\n"
          ],
          "name": "stdout"
        },
        {
          "output_type": "error",
          "ename": "AssertionError",
          "evalue": "ignored",
          "traceback": [
            "\u001b[0;31m---------------------------------------------------------------------------\u001b[0m",
            "\u001b[0;31mAssertionError\u001b[0m                            Traceback (most recent call last)",
            "\u001b[0;32m<ipython-input-22-e28ec00c6c15>\u001b[0m in \u001b[0;36m<module>\u001b[0;34m()\u001b[0m\n\u001b[1;32m      5\u001b[0m   \u001b[0mvar\u001b[0m \u001b[0;34m-=\u001b[0m \u001b[0;36m1\u001b[0m\u001b[0;34m\u001b[0m\u001b[0;34m\u001b[0m\u001b[0m\n\u001b[1;32m      6\u001b[0m   \u001b[0;31m# \"Assertion stoped the program without leading to an infinite loop when v == 0.\"\u001b[0m\u001b[0;34m\u001b[0m\u001b[0;34m\u001b[0m\u001b[0;34m\u001b[0m\u001b[0m\n\u001b[0;32m----> 7\u001b[0;31m   \u001b[0;32massert\u001b[0m \u001b[0mvar\u001b[0m \u001b[0;34m!=\u001b[0m \u001b[0;36m0\u001b[0m\u001b[0;34m\u001b[0m\u001b[0;34m\u001b[0m\u001b[0m\n\u001b[0m\u001b[1;32m      8\u001b[0m \u001b[0;34m\u001b[0m\u001b[0m\n",
            "\u001b[0;31mAssertionError\u001b[0m: "
          ]
        }
      ]
    },
    {
      "cell_type": "markdown",
      "metadata": {
        "id": "JTZ77U1jmgxq",
        "colab_type": "text"
      },
      "source": [
        "Q12. The following code prints:\n",
        "```\n",
        "x = “\\\\\\\\”\n",
        "print(len(x))\n",
        "```\n",
        "1. **2**\n",
        "2. 1\n",
        "3. 3\n",
        "4. the code will cause an error\n"
      ]
    },
    {
      "cell_type": "code",
      "metadata": {
        "id": "B_Qne8ESmtLC",
        "colab_type": "code",
        "outputId": "ce375609-54e5-43e3-81a3-bd54a548f2a1",
        "colab": {
          "base_uri": "https://localhost:8080/",
          "height": 34
        }
      },
      "source": [
        "x = '\\\\\\\\'\n",
        "print(len(x))"
      ],
      "execution_count": 0,
      "outputs": [
        {
          "output_type": "stream",
          "text": [
            "2\n"
          ],
          "name": "stdout"
        }
      ]
    },
    {
      "cell_type": "markdown",
      "metadata": {
        "id": "h6TtX-3Vm3u3",
        "colab_type": "text"
      },
      "source": [
        "Q13. The following code prints:\n",
        "```\n",
        "x = “\\\\\\”\n",
        "print(len(x))\n",
        "```\n",
        "1. 3\n",
        "2. **the code will cause an error**\n",
        "3. 1\n",
        "4. 2"
      ]
    },
    {
      "cell_type": "code",
      "metadata": {
        "id": "tajsa2PPnBty",
        "colab_type": "code",
        "outputId": "8689b591-0539-4edd-b882-258a96866a64",
        "colab": {
          "base_uri": "https://localhost:8080/",
          "height": 129
        }
      },
      "source": [
        "x = '\\\\\\'\n",
        "print(len(x))"
      ],
      "execution_count": 0,
      "outputs": [
        {
          "output_type": "error",
          "ename": "SyntaxError",
          "evalue": "ignored",
          "traceback": [
            "\u001b[0;36m  File \u001b[0;32m\"<ipython-input-33-7b55018b19aa>\"\u001b[0;36m, line \u001b[0;32m1\u001b[0m\n\u001b[0;31m    x = '\\\\\\'\u001b[0m\n\u001b[0m             ^\u001b[0m\n\u001b[0;31mSyntaxError\u001b[0m\u001b[0;31m:\u001b[0m EOL while scanning string literal\n"
          ]
        }
      ]
    },
    {
      "cell_type": "markdown",
      "metadata": {
        "id": "z6V6GQymnZHy",
        "colab_type": "text"
      },
      "source": [
        "Q14. The following code prints:\n",
        "```\n",
        "print(chr(ord(‘p’) + 2))\n",
        "```\n",
        "1. s\n",
        "2. t\n",
        "3. q\n",
        "4. **r**"
      ]
    },
    {
      "cell_type": "code",
      "metadata": {
        "id": "d6B7WDaZnqRy",
        "colab_type": "code",
        "outputId": "754cc192-504c-445f-e358-fa9524df27e9",
        "colab": {
          "base_uri": "https://localhost:8080/",
          "height": 34
        }
      },
      "source": [
        "print(chr(ord('p') + 2))"
      ],
      "execution_count": 0,
      "outputs": [
        {
          "output_type": "stream",
          "text": [
            "r\n"
          ],
          "name": "stdout"
        }
      ]
    },
    {
      "cell_type": "markdown",
      "metadata": {
        "id": "cuLPGo0mnz4Q",
        "colab_type": "text"
      },
      "source": [
        "Q15. The following code:\n",
        "```\n",
        "print(float(“1.3”))\n",
        "```\n",
        "1. raises a ValueError exception\n",
        "2. prints 13\n",
        "3. prints 1,3\n",
        "4. **1.3**"
      ]
    },
    {
      "cell_type": "code",
      "metadata": {
        "id": "9k1BDWq7oGaC",
        "colab_type": "code",
        "outputId": "fb582f7d-2919-4141-fcd2-dbd64a7cf9b8",
        "colab": {
          "base_uri": "https://localhost:8080/",
          "height": 34
        }
      },
      "source": [
        "print(float('1.3'))"
      ],
      "execution_count": 0,
      "outputs": [
        {
          "output_type": "stream",
          "text": [
            "1.3\n"
          ],
          "name": "stdout"
        }
      ]
    },
    {
      "cell_type": "markdown",
      "metadata": {
        "id": "VNTNYjmgoUQb",
        "colab_type": "text"
      },
      "source": [
        "Q16. If the class’s constructor is declared as below, which one of the assignments is invalid?\n",
        "```\n",
        "class Class:\n",
        "  def __init__(self,val=0):\n",
        "    pass\n",
        "```\n",
        "1. object = Class(None)\n",
        "2. object = Class(1)\n",
        "3. object = Class()\n",
        "4. **object = Class(1,2)**"
      ]
    },
    {
      "cell_type": "code",
      "metadata": {
        "id": "tbeIr2_-ohdD",
        "colab_type": "code",
        "colab": {}
      },
      "source": [
        "class Class:\n",
        "  def __init__(self,val=0):\n",
        "    pass"
      ],
      "execution_count": 0,
      "outputs": []
    },
    {
      "cell_type": "code",
      "metadata": {
        "id": "Fhu5iJGdomkB",
        "colab_type": "code",
        "outputId": "f3db8389-74a1-41bb-ba7b-a564724a4371",
        "colab": {
          "base_uri": "https://localhost:8080/",
          "height": 163
        }
      },
      "source": [
        "# The assignment will lead to TypeError: __init__() takes from 1 to 2 positional arguments but 3 were given\n",
        "object = Class(1,2)"
      ],
      "execution_count": 0,
      "outputs": [
        {
          "output_type": "error",
          "ename": "TypeError",
          "evalue": "ignored",
          "traceback": [
            "\u001b[0;31m---------------------------------------------------------------------------\u001b[0m",
            "\u001b[0;31mTypeError\u001b[0m                                 Traceback (most recent call last)",
            "\u001b[0;32m<ipython-input-39-7a916713adbb>\u001b[0m in \u001b[0;36m<module>\u001b[0;34m()\u001b[0m\n\u001b[0;32m----> 1\u001b[0;31m \u001b[0mobject\u001b[0m \u001b[0;34m=\u001b[0m \u001b[0mClass\u001b[0m\u001b[0;34m(\u001b[0m\u001b[0;36m1\u001b[0m\u001b[0;34m,\u001b[0m\u001b[0;36m2\u001b[0m\u001b[0;34m)\u001b[0m\u001b[0;34m\u001b[0m\u001b[0;34m\u001b[0m\u001b[0m\n\u001b[0m",
            "\u001b[0;31mTypeError\u001b[0m: __init__() takes from 1 to 2 positional arguments but 3 were given"
          ]
        }
      ]
    },
    {
      "cell_type": "code",
      "metadata": {
        "id": "wu9RARiUo4vg",
        "colab_type": "code",
        "colab": {}
      },
      "source": [
        "# All the below declarations are valid.\n",
        "object = Class(None)\n",
        "object = Class(1)\n",
        "object = Class()"
      ],
      "execution_count": 0,
      "outputs": []
    },
    {
      "cell_type": "markdown",
      "metadata": {
        "id": "apktAA7xpFOz",
        "colab_type": "text"
      },
      "source": [
        "Q17. What will be output of the following code?\n",
        "```\n",
        "class A:\n",
        "  def __init__(self,v = 2):\n",
        "    self.v = v\n",
        "  def set(self,v = 1):\n",
        "    self.v += v\n",
        "    return self.v\n",
        "a = A()\n",
        "b = a\n",
        "b.set()\n",
        "\n",
        "print(a.v)\n",
        "```\n",
        "1. 0\n",
        "2. **3**\n",
        "3. 1\n",
        "4. 2"
      ]
    },
    {
      "cell_type": "code",
      "metadata": {
        "id": "lq2ikK_spU9i",
        "colab_type": "code",
        "outputId": "a7372c5e-607e-433c-db42-6bc2ac166d77",
        "colab": {
          "base_uri": "https://localhost:8080/",
          "height": 34
        }
      },
      "source": [
        "class A:\n",
        "  def __init__(self,v = 2):\n",
        "    self.v = v\n",
        "  def set(self,v = 1):\n",
        "    self.v += v\n",
        "    return self.v\n",
        "a = A()\n",
        "b = a\n",
        "b.set()\n",
        "print(a.v)"
      ],
      "execution_count": 0,
      "outputs": [
        {
          "output_type": "stream",
          "text": [
            "3\n"
          ],
          "name": "stdout"
        }
      ]
    },
    {
      "cell_type": "markdown",
      "metadata": {
        "id": "NhcDqQlK2EOv",
        "colab_type": "text"
      },
      "source": [
        "Q18. What will be output of the following code?\n",
        "\n",
        "```\n",
        "class A:\n",
        "  A = 1\n",
        "  def __init__(self):\n",
        "    self.a = 0\n",
        "print(hasattr(A,’a’))\n",
        "```\n",
        "1. 1\n",
        "2. **False**\n",
        "3. 0\n",
        "4. True"
      ]
    },
    {
      "cell_type": "code",
      "metadata": {
        "id": "6EGcIMST2QtU",
        "colab_type": "code",
        "colab": {
          "base_uri": "https://localhost:8080/",
          "height": 34
        },
        "outputId": "e606dd45-f1e9-44d9-d858-dbda54b2b0be"
      },
      "source": [
        "class A:\n",
        "  A = 1\n",
        "  def __init__(self):\n",
        "    self.a = 0\n",
        "print(hasattr(A,'a'))"
      ],
      "execution_count": 3,
      "outputs": [
        {
          "output_type": "stream",
          "text": [
            "False\n"
          ],
          "name": "stdout"
        }
      ]
    },
    {
      "cell_type": "markdown",
      "metadata": {
        "id": "VMEfW4fE2Zc8",
        "colab_type": "text"
      },
      "source": [
        "Q19. What will be the result of executing the following code?\n",
        "```\n",
        "class A:\n",
        "  pass\n",
        "class B(A):\n",
        "  pass\n",
        "class C(B):\n",
        "  pass\n",
        "print(issubclass(A,C))\n",
        "```\n",
        "1. **it will print False**\n",
        "2. it will print True\n",
        "3. it will print 1\n",
        "4. it will raise an exception"
      ]
    },
    {
      "cell_type": "code",
      "metadata": {
        "id": "kt2i1UBr2pC8",
        "colab_type": "code",
        "colab": {
          "base_uri": "https://localhost:8080/",
          "height": 34
        },
        "outputId": "e33e62be-d0f7-44f8-f3c4-85269fe5de9d"
      },
      "source": [
        "class A:\n",
        "  pass\n",
        "class B(A):\n",
        "  pass\n",
        "class C(B):\n",
        "  pass\n",
        "print(issubclass(A,C))"
      ],
      "execution_count": 4,
      "outputs": [
        {
          "output_type": "stream",
          "text": [
            "False\n"
          ],
          "name": "stdout"
        }
      ]
    },
    {
      "cell_type": "markdown",
      "metadata": {
        "id": "saI4PtgH2sTk",
        "colab_type": "text"
      },
      "source": [
        "Q20. The sys.stderr stream is normally associated with:\n",
        "1. the keyboard\n",
        "2. a null device\n",
        "3. **the screen**\n",
        "4. the printer\n"
      ]
    },
    {
      "cell_type": "markdown",
      "metadata": {
        "id": "MBO8X4Ix21M0",
        "colab_type": "text"
      },
      "source": [
        "Q21. What will be the effect of running the following code?\n",
        "```\n",
        "class A:\n",
        "  def __init__(self,v):\n",
        "    self.__a = v + 1\n",
        "a = A(0)\n",
        "print(a.__a)\n",
        "```\n",
        "1. it will print 1\n",
        "2. it will print 2\n",
        "3. **it will raise an AttributeError exception**\n",
        "4. it will print 0"
      ]
    },
    {
      "cell_type": "code",
      "metadata": {
        "id": "80welO4b3BXL",
        "colab_type": "code",
        "colab": {
          "base_uri": "https://localhost:8080/",
          "height": 197
        },
        "outputId": "72eb0b51-301d-4931-f886-c377ab355c5e"
      },
      "source": [
        "class A:\n",
        "  def __init__(self,v):\n",
        "    self.__a = v + 1\n",
        "a = A(0)\n",
        "print(a.__a)"
      ],
      "execution_count": 5,
      "outputs": [
        {
          "output_type": "error",
          "ename": "AttributeError",
          "evalue": "ignored",
          "traceback": [
            "\u001b[0;31m---------------------------------------------------------------------------\u001b[0m",
            "\u001b[0;31mAttributeError\u001b[0m                            Traceback (most recent call last)",
            "\u001b[0;32m<ipython-input-5-779aabd6d830>\u001b[0m in \u001b[0;36m<module>\u001b[0;34m()\u001b[0m\n\u001b[1;32m      3\u001b[0m     \u001b[0mself\u001b[0m\u001b[0;34m.\u001b[0m\u001b[0m__a\u001b[0m \u001b[0;34m=\u001b[0m \u001b[0mv\u001b[0m \u001b[0;34m+\u001b[0m \u001b[0;36m1\u001b[0m\u001b[0;34m\u001b[0m\u001b[0;34m\u001b[0m\u001b[0m\n\u001b[1;32m      4\u001b[0m \u001b[0ma\u001b[0m \u001b[0;34m=\u001b[0m \u001b[0mA\u001b[0m\u001b[0;34m(\u001b[0m\u001b[0;36m0\u001b[0m\u001b[0;34m)\u001b[0m\u001b[0;34m\u001b[0m\u001b[0;34m\u001b[0m\u001b[0m\n\u001b[0;32m----> 5\u001b[0;31m \u001b[0mprint\u001b[0m\u001b[0;34m(\u001b[0m\u001b[0ma\u001b[0m\u001b[0;34m.\u001b[0m\u001b[0m__a\u001b[0m\u001b[0;34m)\u001b[0m\u001b[0;34m\u001b[0m\u001b[0;34m\u001b[0m\u001b[0m\n\u001b[0m",
            "\u001b[0;31mAttributeError\u001b[0m: 'A' object has no attribute '__a'"
          ]
        }
      ]
    },
    {
      "cell_type": "markdown",
      "metadata": {
        "id": "UIu7AXjS3Gsc",
        "colab_type": "text"
      },
      "source": [
        "Q22. What will be the result of executing the following code?\n",
        "```\n",
        "class A:\n",
        "  def __init__(self):\n",
        "    pass\n",
        "a = A(1)\n",
        "print(hasattr(a,'A'))\n",
        "```\n",
        "1. it will print True\n",
        "2. **it will raise an exception**\n",
        "3. it will print False\n",
        "4. it will print 1"
      ]
    },
    {
      "cell_type": "code",
      "metadata": {
        "id": "aHbExK643WHU",
        "colab_type": "code",
        "colab": {
          "base_uri": "https://localhost:8080/",
          "height": 214
        },
        "outputId": "4b735a8c-4606-4779-e4f4-65e03be6dd8a"
      },
      "source": [
        "class A:\n",
        "  def __init__(self):\n",
        "    pass\n",
        "a = A(1)\n",
        "print(hasattr(a,'A'))"
      ],
      "execution_count": 6,
      "outputs": [
        {
          "output_type": "error",
          "ename": "TypeError",
          "evalue": "ignored",
          "traceback": [
            "\u001b[0;31m---------------------------------------------------------------------------\u001b[0m",
            "\u001b[0;31mTypeError\u001b[0m                                 Traceback (most recent call last)",
            "\u001b[0;32m<ipython-input-6-48ed91c9afc6>\u001b[0m in \u001b[0;36m<module>\u001b[0;34m()\u001b[0m\n\u001b[1;32m      2\u001b[0m   \u001b[0;32mdef\u001b[0m \u001b[0m__init__\u001b[0m\u001b[0;34m(\u001b[0m\u001b[0mself\u001b[0m\u001b[0;34m)\u001b[0m\u001b[0;34m:\u001b[0m\u001b[0;34m\u001b[0m\u001b[0;34m\u001b[0m\u001b[0m\n\u001b[1;32m      3\u001b[0m     \u001b[0;32mpass\u001b[0m\u001b[0;34m\u001b[0m\u001b[0;34m\u001b[0m\u001b[0m\n\u001b[0;32m----> 4\u001b[0;31m \u001b[0ma\u001b[0m \u001b[0;34m=\u001b[0m \u001b[0mA\u001b[0m\u001b[0;34m(\u001b[0m\u001b[0;36m1\u001b[0m\u001b[0;34m)\u001b[0m\u001b[0;34m\u001b[0m\u001b[0;34m\u001b[0m\u001b[0m\n\u001b[0m\u001b[1;32m      5\u001b[0m \u001b[0mprint\u001b[0m\u001b[0;34m(\u001b[0m\u001b[0mhasattr\u001b[0m\u001b[0;34m(\u001b[0m\u001b[0ma\u001b[0m\u001b[0;34m,\u001b[0m\u001b[0;34m'A'\u001b[0m\u001b[0;34m)\u001b[0m\u001b[0;34m)\u001b[0m\u001b[0;34m\u001b[0m\u001b[0;34m\u001b[0m\u001b[0m\n",
            "\u001b[0;31mTypeError\u001b[0m: __init__() takes 1 positional argument but 2 were given"
          ]
        }
      ]
    },
    {
      "cell_type": "markdown",
      "metadata": {
        "id": "On3uXY8I3cKj",
        "colab_type": "text"
      },
      "source": [
        "Q23. What will be the result of executing the following code?\n",
        "```\n",
        "class A:\n",
        "  def a(self):\n",
        "    print(‘a’)\n",
        "class B:\n",
        "  def a(self):\n",
        "    print(‘b’)\n",
        "class C(B,A):\n",
        "  def c(self):\n",
        "    self.a()\n",
        "o = C()\n",
        "o.c()\n",
        "```\n",
        "1. it will print c\n",
        "2. it will raise an exception\n",
        "3. **it will print b**\n",
        "4. it will print a"
      ]
    },
    {
      "cell_type": "code",
      "metadata": {
        "id": "kwtARlk47eRm",
        "colab_type": "code",
        "colab": {
          "base_uri": "https://localhost:8080/",
          "height": 34
        },
        "outputId": "3ed711d3-a3af-4445-ad09-0c6e496deb20"
      },
      "source": [
        "class A:\n",
        "  def a(self):\n",
        "    print('a')\n",
        "class B:\n",
        "  def a(self):\n",
        "    print('b')\n",
        "class C(B,A):\n",
        "  def c(self):\n",
        "    self.a()\n",
        "o = C()\n",
        "o.c()"
      ],
      "execution_count": 7,
      "outputs": [
        {
          "output_type": "stream",
          "text": [
            "b\n"
          ],
          "name": "stdout"
        }
      ]
    },
    {
      "cell_type": "markdown",
      "metadata": {
        "id": "1EDUIf1-8J_N",
        "colab_type": "text"
      },
      "source": [
        "Q24. What will be the result of executing the following code?\n",
        "```\n",
        "try:\n",
        "  raise Exception(1,2,3)\n",
        "except Exception as e:\n",
        "  print(len(e.args))\n",
        "```\n",
        "1. it will print 2\n",
        "2. it will print 1\n",
        "3. it will raise an unhandled exception\n",
        "4. **it will print 3**"
      ]
    },
    {
      "cell_type": "code",
      "metadata": {
        "id": "dDwoHPfJ8S91",
        "colab_type": "code",
        "colab": {
          "base_uri": "https://localhost:8080/",
          "height": 34
        },
        "outputId": "8edea951-1fe4-4c87-d9d4-7b3fe526c943"
      },
      "source": [
        "try:\n",
        "  raise Exception(1,2,3)\n",
        "except Exception as e:\n",
        "  print(len(e.args))"
      ],
      "execution_count": 8,
      "outputs": [
        {
          "output_type": "stream",
          "text": [
            "3\n"
          ],
          "name": "stdout"
        }
      ]
    },
    {
      "cell_type": "markdown",
      "metadata": {
        "id": "bD4fiasB8WEN",
        "colab_type": "text"
      },
      "source": [
        "Q25. What will be the result of executing the following code?\n",
        "```\n",
        "def I(n):\n",
        "  s = ‘+’\n",
        "for i in range(n):\n",
        "  s += s\n",
        "  yield s\n",
        "for x in I(2):\n",
        "  print(x,end=”)\n",
        "```\n",
        "1. it will print ++\n",
        "2. **it will print ++++++**\n",
        "3. it will print +\n",
        "4. it will print +++"
      ]
    },
    {
      "cell_type": "code",
      "metadata": {
        "id": "a_4ugxBX8hrE",
        "colab_type": "code",
        "colab": {
          "base_uri": "https://localhost:8080/",
          "height": 34
        },
        "outputId": "a3ceb385-dc90-4498-b272-84dedf754762"
      },
      "source": [
        "def I(n):\n",
        "  s = '+'\n",
        "  for i in range(n):\n",
        "    s += s\n",
        "    yield s\n",
        "for x in I(2):\n",
        "  print(x,end='')"
      ],
      "execution_count": 10,
      "outputs": [
        {
          "output_type": "stream",
          "text": [
            "++++++"
          ],
          "name": "stdout"
        }
      ]
    },
    {
      "cell_type": "markdown",
      "metadata": {
        "id": "XJgHC98N8qtN",
        "colab_type": "text"
      },
      "source": [
        "Q26. What will be the result of executing the following code?\n",
        "```\n",
        "class I:\n",
        "  def __init__(self):\n",
        "    self.s = ‘abc’\n",
        "      self.i = 0\n",
        "  def __iter__(self):\n",
        "    return self\n",
        "  def __next__(self):\n",
        "    if self.i == len(self.s):\n",
        "      raise StopIteration\n",
        "      v = self.s[self.i]\n",
        "      self.i += 1\n",
        "      return v\n",
        "for x in I():\n",
        "print(x,end=”)\n",
        "```\n",
        "1. 012\n",
        "2. **abc**\n",
        "3. cba\n",
        "4. 210"
      ]
    },
    {
      "cell_type": "code",
      "metadata": {
        "id": "YwW37xvd9Da9",
        "colab_type": "code",
        "colab": {
          "base_uri": "https://localhost:8080/",
          "height": 34
        },
        "outputId": "ad511491-03d3-4438-a4bc-d6a5b56efc23"
      },
      "source": [
        "class I:\n",
        "  def __init__(self):\n",
        "    self.s = 'abc'\n",
        "    self.i = 0\n",
        "  def __iter__(self):\n",
        "    return self\n",
        "  def __next__(self):\n",
        "    if self.i == len(self.s):\n",
        "      raise StopIteration\n",
        "    v = self.s[self.i]\n",
        "    self.i += 1\n",
        "    return v\n",
        "for x in I():\n",
        "  print(x,end='')"
      ],
      "execution_count": 14,
      "outputs": [
        {
          "output_type": "stream",
          "text": [
            "abc"
          ],
          "name": "stdout"
        }
      ]
    },
    {
      "cell_type": "markdown",
      "metadata": {
        "id": "f4E7e70d9T83",
        "colab_type": "text"
      },
      "source": [
        "Q27. What will be the result of executing the following code?\n",
        "```\n",
        "def o(p):\n",
        "  def q():\n",
        "    return ‘*’ * p\n",
        "  return q\n",
        "r = o(1)\n",
        "s = o(2)\n",
        "print(r() + s())\n",
        "```\n",
        "1. it will print ****\n",
        "2. it will print **\n",
        "3. it will print *** (answer)\n",
        "4. it will print *"
      ]
    },
    {
      "cell_type": "code",
      "metadata": {
        "id": "-9Vb0qS-9gp9",
        "colab_type": "code",
        "colab": {
          "base_uri": "https://localhost:8080/",
          "height": 34
        },
        "outputId": "ffddd0c6-8984-4d1c-a1be-1210b6e86eff"
      },
      "source": [
        "def o(p):\n",
        "  def q():\n",
        "    return '*' * p\n",
        "  return q\n",
        "r = o(1)\n",
        "s = o(2)\n",
        "print(r() + s())"
      ],
      "execution_count": 15,
      "outputs": [
        {
          "output_type": "stream",
          "text": [
            "***\n"
          ],
          "name": "stdout"
        }
      ]
    },
    {
      "cell_type": "markdown",
      "metadata": {
        "id": "mHJFHnBx9nHm",
        "colab_type": "text"
      },
      "source": [
        "Q28. If s is a stream opened in read mode, the following line will:\n",
        "```\n",
        "q = s.read(1)\n",
        "```\n",
        "1. **read 1 character from the stream**\n",
        "2. read 1 kilobyte from the stream\n",
        "3. read 1 line from the stream\n",
        "4. read 1 buffer from the stream"
      ]
    },
    {
      "cell_type": "markdown",
      "metadata": {
        "id": "xuXSFY_r9xH8",
        "colab_type": "text"
      },
      "source": [
        "Q29. Assuming that the open() invocation has gone successfully, the following snippet will:\n",
        "```\n",
        "for x in open(‘file’,’rt’):\n",
        "  print(x)\n",
        "```\n",
        "1. read the file character by character\n",
        "2. cause an exception\n",
        "3. read the whole file at once\n",
        "4. **read the file line by line**"
      ]
    },
    {
      "cell_type": "markdown",
      "metadata": {
        "id": "NpczLZJS-CMd",
        "colab_type": "text"
      },
      "source": [
        "Q30. If you want to fill a byte array with data read in from a stream, you’d use:\n",
        "1. **the readinto() method**\n",
        "2. the read() method\n",
        "3. the readbytes() method\n",
        "4. the readfrom() method"
      ]
    }
  ]
}