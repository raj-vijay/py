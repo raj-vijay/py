{
  "nbformat": 4,
  "nbformat_minor": 0,
  "metadata": {
    "colab": {
      "name": "PCAP_Preparation_Summary_SII.ipynb",
      "provenance": [],
      "authorship_tag": "ABX9TyP6APAQ3pV3VDaPQXFNx4df",
      "include_colab_link": true
    },
    "kernelspec": {
      "name": "python3",
      "display_name": "Python 3"
    }
  },
  "cells": [
    {
      "cell_type": "markdown",
      "metadata": {
        "id": "view-in-github",
        "colab_type": "text"
      },
      "source": [
        "<a href=\"https://colab.research.google.com/github/raj-vijay/py/blob/master/PCAP_Preparation_Summary_SII.ipynb\" target=\"_parent\"><img src=\"https://colab.research.google.com/assets/colab-badge.svg\" alt=\"Open In Colab\"/></a>"
      ]
    },
    {
      "cell_type": "markdown",
      "metadata": {
        "id": "UC13pOjtfyrK",
        "colab_type": "text"
      },
      "source": [
        "Q1. Knowing that a function named f() resides in a module named m, and was imported using the following statement\n",
        "```\n",
        "from mod import fun\n",
        "```\n",
        "choose the right way to invoke it:\n",
        "1. **fun()**\n",
        "2. mod.fun()\n",
        "3. mod::fun()\n",
        "4. mod:fun()"
      ]
    },
    {
      "cell_type": "code",
      "metadata": {
        "id": "fXrYsIk5fk1z",
        "colab_type": "code",
        "colab": {
          "base_uri": "https://localhost:8080/",
          "height": 34
        },
        "outputId": "1f04ee6a-f0d2-4414-f005-1784de2541a3"
      },
      "source": [
        "from math import sqrt\n",
        "sqrt(25)"
      ],
      "execution_count": 1,
      "outputs": [
        {
          "output_type": "execute_result",
          "data": {
            "text/plain": [
              "5.0"
            ]
          },
          "metadata": {
            "tags": []
          },
          "execution_count": 1
        }
      ]
    },
    {
      "cell_type": "markdown",
      "metadata": {
        "id": "SFu7pvY8gFgC",
        "colab_type": "text"
      },
      "source": [
        "Q2. What output will appear after running the following snippet?\n",
        " \n",
        "```\n",
        "import math\n",
        "print(dir(math))\n",
        "```\n",
        "1. an error message\n",
        "2. a string containing the fully qualified name of the module\n",
        "3. **a list of all the entities residing in the math module**\n",
        "4. the number of all the entities residing in the math module"
      ]
    },
    {
      "cell_type": "code",
      "metadata": {
        "id": "-0AvONzOgP0a",
        "colab_type": "code",
        "colab": {
          "base_uri": "https://localhost:8080/",
          "height": 54
        },
        "outputId": "0bee2921-26bd-4a37-be91-d2744847a649"
      },
      "source": [
        "import math\n",
        "print(dir(math))"
      ],
      "execution_count": 2,
      "outputs": [
        {
          "output_type": "stream",
          "text": [
            "['__doc__', '__loader__', '__name__', '__package__', '__spec__', 'acos', 'acosh', 'asin', 'asinh', 'atan', 'atan2', 'atanh', 'ceil', 'copysign', 'cos', 'cosh', 'degrees', 'e', 'erf', 'erfc', 'exp', 'expm1', 'fabs', 'factorial', 'floor', 'fmod', 'frexp', 'fsum', 'gamma', 'gcd', 'hypot', 'inf', 'isclose', 'isfinite', 'isinf', 'isnan', 'ldexp', 'lgamma', 'log', 'log10', 'log1p', 'log2', 'modf', 'nan', 'pi', 'pow', 'radians', 'sin', 'sinh', 'sqrt', 'tan', 'tanh', 'tau', 'trunc']\n"
          ],
          "name": "stdout"
        }
      ]
    },
    {
      "cell_type": "markdown",
      "metadata": {
        "id": "hc9yQU2wgVpB",
        "colab_type": "text"
      },
      "source": [
        "Q3. The compiled Python bytecode is stored in files having names ending with:\n",
        "1. py\n",
        "2. pyb\n",
        "3. pc\n",
        "4. **pyc**"
      ]
    },
    {
      "cell_type": "markdown",
      "metadata": {
        "id": "kc7Qy7rEgfOZ",
        "colab_type": "text"
      },
      "source": [
        "Q4. Assuming that all three files, a.py, b.py, and c.py reside in the same folder, what will be the output produced by running the c.py file?\n",
        "```\n",
        "# file a.py\n",
        "print(“a”,end=”)\n",
        "#file b.py\n",
        "import a\n",
        "print(“b”,end=”)\n",
        "#file c.py\n",
        "print(“c”,end=”)\n",
        "import a\n",
        "import b\n",
        "```\n",
        "1. cba\n",
        "2. abc\n",
        "3. bac\n",
        "4. **cab**"
      ]
    },
    {
      "cell_type": "markdown",
      "metadata": {
        "id": "rQiJwa-IhBBr",
        "colab_type": "text"
      },
      "source": [
        "Q5. What will be the output of the following code, located in file p.py?\n",
        "```\n",
        "print(__name__)\n",
        "```\n",
        "1. p.py\n",
        "2. main\n",
        "3. __ p.py __\n",
        "4. **__ main __**"
      ]
    },
    {
      "cell_type": "code",
      "metadata": {
        "id": "oPB0Lhneho_K",
        "colab_type": "code",
        "colab": {
          "base_uri": "https://localhost:8080/",
          "height": 34
        },
        "outputId": "c58039f6-d6a3-4aad-d3af-5011d4028f74"
      },
      "source": [
        "print(__name__)"
      ],
      "execution_count": 3,
      "outputs": [
        {
          "output_type": "stream",
          "text": [
            "__main__\n"
          ],
          "name": "stdout"
        }
      ]
    },
    {
      "cell_type": "markdown",
      "metadata": {
        "id": "ym-rEzWHhtbB",
        "colab_type": "text"
      },
      "source": [
        "Q6. The following statement\n",
        "```\n",
        "from a.b import c\n",
        "```\n",
        "causes the import of:\n",
        "1. entity a from module b from package c\n",
        "2. entity b from module a from package c\n",
        "3. **entity c from module b from package a**\n",
        "4. entity c from module a from package b"
      ]
    },
    {
      "cell_type": "code",
      "metadata": {
        "id": "OoOZpViXh72z",
        "colab_type": "code",
        "colab": {
          "base_uri": "https://localhost:8080/",
          "height": 282
        },
        "outputId": "67890afa-3a6c-433a-fcdd-322b28eae769"
      },
      "source": [
        "import random\n",
        "from matplotlib.pyplot import plot\n",
        "x = [random.randint(0, 25) for i in range(10)]\n",
        "plot(x)"
      ],
      "execution_count": 5,
      "outputs": [
        {
          "output_type": "execute_result",
          "data": {
            "text/plain": [
              "[<matplotlib.lines.Line2D at 0x7f8409826908>]"
            ]
          },
          "metadata": {
            "tags": []
          },
          "execution_count": 5
        },
        {
          "output_type": "display_data",
          "data": {
            "image/png": "[encoded data removed]",
            "text/plain": [
              "<Figure size 432x288 with 1 Axes>"
            ]
          },
          "metadata": {
            "tags": []
          }
        }
      ]
    },
    {
      "cell_type": "markdown",
      "metadata": {
        "id": "b9moUeTOiV9b",
        "colab_type": "text"
      },
      "source": [
        "Q7. If there are more than one except: branches after the try:, we can say that:\n",
        "1. one or more of the try: blocks will be executed\n",
        "2. none of the try: blocks will be executed\n",
        "3. **not more than one try: block will be executed**\n",
        "4. exactly one of the try: blocks will be executed"
      ]
    },
    {
      "cell_type": "code",
      "metadata": {
        "id": "oVS69e7mi89r",
        "colab_type": "code",
        "colab": {
          "base_uri": "https://localhost:8080/",
          "height": 34
        },
        "outputId": "d4540c0e-10ac-4900-e48f-6aa84fdd1811"
      },
      "source": [
        "# No try block is executed\n",
        "try:\n",
        "  print(1/0)\n",
        "except ArithmeticError:\n",
        "  print(\"Arithmetic Error.\")\n",
        "except:\n",
        "  print(\"Any other error.\")"
      ],
      "execution_count": 7,
      "outputs": [
        {
          "output_type": "stream",
          "text": [
            "Arithmetic Error.\n"
          ],
          "name": "stdout"
        }
      ]
    },
    {
      "cell_type": "code",
      "metadata": {
        "id": "zbx7q7i8jSaz",
        "colab_type": "code",
        "colab": {
          "base_uri": "https://localhost:8080/",
          "height": 51
        },
        "outputId": "72227051-ea01-4005-b09d-e8285a28b710"
      },
      "source": [
        "# Portion of the try block is executed and except block is executed\n",
        "try:\n",
        "  print(3)\n",
        "  print(1/0)\n",
        "except ArithmeticError:\n",
        "  print(\"Arithmetic Error.\")\n",
        "except:\n",
        "  print(\"Any other error.\")"
      ],
      "execution_count": 9,
      "outputs": [
        {
          "output_type": "stream",
          "text": [
            "3\n",
            "Arithmetic Error.\n"
          ],
          "name": "stdout"
        }
      ]
    },
    {
      "cell_type": "code",
      "metadata": {
        "id": "-Z2yKmfHjbmK",
        "colab_type": "code",
        "colab": {
          "base_uri": "https://localhost:8080/",
          "height": 34
        },
        "outputId": "2bdf0d1d-7b6f-4140-d2b5-799fb438b677"
      },
      "source": [
        "# All of try block is executed, no except block is executed.\n",
        "try:\n",
        "  print(3)\n",
        "except ArithmeticError:\n",
        "  print(\"Arithmetic Error.\")\n",
        "except:\n",
        "  print(\"Any other error.\")"
      ],
      "execution_count": 10,
      "outputs": [
        {
          "output_type": "stream",
          "text": [
            "3\n"
          ],
          "name": "stdout"
        }
      ]
    },
    {
      "cell_type": "markdown",
      "metadata": {
        "id": "zQ4cklBGjlMT",
        "colab_type": "text"
      },
      "source": [
        "Q8. What will be the output of the following snippet?\n",
        "```\n",
        "try:      \n",
        "raise Exception   \n",
        "except BaseException:\n",
        "  print(“a”)\n",
        "except Exception:\n",
        "  print(“b”)\n",
        "except:\n",
        "  print(“c”)\n",
        "```\n",
        "1. c\n",
        "2. b\n",
        "3. it will cause an error\n",
        "4. **a**"
      ]
    },
    {
      "cell_type": "code",
      "metadata": {
        "id": "NRGd3gzyj-OM",
        "colab_type": "code",
        "colab": {
          "base_uri": "https://localhost:8080/",
          "height": 34
        },
        "outputId": "7c9ee6c1-7086-432b-999d-beeeb8952a2e"
      },
      "source": [
        "try:      \n",
        "  raise Exception   \n",
        "except BaseException:\n",
        "  print('a')\n",
        "except Exception:\n",
        "  print('b')\n",
        "except:\n",
        "  print('c')"
      ],
      "execution_count": 12,
      "outputs": [
        {
          "output_type": "stream",
          "text": [
            "a\n"
          ],
          "name": "stdout"
        }
      ]
    },
    {
      "cell_type": "markdown",
      "metadata": {
        "id": "-QcwpVcukHtI",
        "colab_type": "text"
      },
      "source": [
        "Q9. The following line of code:\n",
        "```\n",
        "for line in open(‘text.txt’,’rt’):\n",
        "```\n",
        "1. **is valid as open returns an iterable object**\n",
        "2. is invalid as open returns a non-iterable object\n",
        "3. is invalid as open returns nothing\n",
        "4. may be valid if line is a list"
      ]
    },
    {
      "cell_type": "code",
      "metadata": {
        "id": "YeirW5KJkZJD",
        "colab_type": "code",
        "colab": {
          "base_uri": "https://localhost:8080/",
          "height": 34
        },
        "outputId": "0d87df4a-1570-4a68-869e-4416e387d153"
      },
      "source": [
        "for line in open('text.txt','rt'):\n",
        "  print(line)"
      ],
      "execution_count": 16,
      "outputs": [
        {
          "output_type": "stream",
          "text": [
            "This is a text file.\n"
          ],
          "name": "stdout"
        }
      ]
    }
  ]
}