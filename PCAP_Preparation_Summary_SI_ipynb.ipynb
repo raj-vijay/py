{
  "nbformat": 4,
  "nbformat_minor": 0,
  "metadata": {
    "colab": {
      "name": "PCAP_Preparation_Summary_SI.ipynb.ipynb",
      "provenance": [],
      "authorship_tag": "ABX9TyPCaBviignbehNqqWisSsDj",
      "include_colab_link": true
    },
    "kernelspec": {
      "name": "python3",
      "display_name": "Python 3"
    }
  },
  "cells": [
    {
      "cell_type": "markdown",
      "metadata": {
        "id": "view-in-github",
        "colab_type": "text"
      },
      "source": [
        "<a href=\"https://colab.research.google.com/github/raj-vijay/py/blob/master/PCAP_Preparation_Summary_SI_ipynb.ipynb\" target=\"_parent\"><img src=\"https://colab.research.google.com/assets/colab-badge.svg\" alt=\"Open In Colab\"/></a>"
      ]
    },
    {
      "cell_type": "markdown",
      "metadata": {
        "id": "Vf7DHNSRtm1S",
        "colab_type": "text"
      },
      "source": [
        "Q1. What is the output of the following snippet?\n",
        "\n",
        "l1 = [1,2]\n",
        "\n",
        "for v in range(2):\n",
        "\n",
        "   l1.insert(-1,l1[v])\n",
        "\n",
        "print(l1)\n",
        "\n",
        "1. [1, 2, 2, 2]\n",
        "2. **[1, 1, 1, 2]**\n",
        "3. [1, 2, 1, 2]\n",
        "4. [1, 1, 2, 2]"
      ]
    },
    {
      "cell_type": "code",
      "metadata": {
        "id": "-2L7ToPLtP0H",
        "colab_type": "code",
        "colab": {
          "base_uri": "https://localhost:8080/",
          "height": 34
        },
        "outputId": "f8cd6461-ad44-4f09-ce5b-2b285c3f0ca8"
      },
      "source": [
        "l1 = [1,2]\n",
        "for v in range(2):\n",
        "  l1.insert(-1,l1[v])\n",
        "print(l1)"
      ],
      "execution_count": 1,
      "outputs": [
        {
          "output_type": "stream",
          "text": [
            "[1, 1, 1, 2]\n"
          ],
          "name": "stdout"
        }
      ]
    },
    {
      "cell_type": "markdown",
      "metadata": {
        "id": "27A4A5Y9uVpz",
        "colab_type": "text"
      },
      "source": [
        "Q2. The meaning of a positional argument is determined by:\n",
        "\n",
        "1. the argument’s name specified along with its value\n",
        "2. its connection with existing variables\n",
        "3. its value\n",
        "4. **its position within the argument list**"
      ]
    },
    {
      "cell_type": "markdown",
      "metadata": {
        "id": "9Q0n1kYEucT4",
        "colab_type": "text"
      },
      "source": [
        "Q3. Which of the following sentences are true? Choose all that apply.\n",
        "\n",
        "nums = [1,2,3]\n",
        "\n",
        "vals = nums\n",
        "\n",
        "1. vals is longer than nums\n",
        "2. nums is longer than vals\n",
        "3. **nums and vals are different names of the same list**\n",
        "4. nums and vals are different lists"
      ]
    },
    {
      "cell_type": "code",
      "metadata": {
        "id": "MxXiCtm6ujYJ",
        "colab_type": "code",
        "colab": {}
      },
      "source": [
        "nums = [1,2,3]\n",
        "vals = nums"
      ],
      "execution_count": 0,
      "outputs": []
    },
    {
      "cell_type": "code",
      "metadata": {
        "id": "dZbiy-mVusnA",
        "colab_type": "code",
        "colab": {
          "base_uri": "https://localhost:8080/",
          "height": 34
        },
        "outputId": "4e1741e1-43a4-4731-c452-8f8aa6f6922a"
      },
      "source": [
        "len(nums)"
      ],
      "execution_count": 5,
      "outputs": [
        {
          "output_type": "execute_result",
          "data": {
            "text/plain": [
              "3"
            ]
          },
          "metadata": {
            "tags": []
          },
          "execution_count": 5
        }
      ]
    },
    {
      "cell_type": "code",
      "metadata": {
        "id": "njOtErEOu0Kr",
        "colab_type": "code",
        "colab": {
          "base_uri": "https://localhost:8080/",
          "height": 34
        },
        "outputId": "500283f3-2dc3-4859-c9d1-04d6ba466133"
      },
      "source": [
        "len(vals)"
      ],
      "execution_count": 6,
      "outputs": [
        {
          "output_type": "execute_result",
          "data": {
            "text/plain": [
              "3"
            ]
          },
          "metadata": {
            "tags": []
          },
          "execution_count": 6
        }
      ]
    },
    {
      "cell_type": "code",
      "metadata": {
        "id": "2ioSQgC7u1AQ",
        "colab_type": "code",
        "colab": {}
      },
      "source": [
        "# Append to test is both lists are the same\n",
        "nums.append(4)"
      ],
      "execution_count": 0,
      "outputs": []
    },
    {
      "cell_type": "code",
      "metadata": {
        "id": "E0H71wqsu3XR",
        "colab_type": "code",
        "colab": {
          "base_uri": "https://localhost:8080/",
          "height": 34
        },
        "outputId": "218fba84-033b-4074-e257-70bea0721c56"
      },
      "source": [
        "print(nums, vals)"
      ],
      "execution_count": 8,
      "outputs": [
        {
          "output_type": "stream",
          "text": [
            "[1, 2, 3, 4] [1, 2, 3, 4]\n"
          ],
          "name": "stdout"
        }
      ]
    },
    {
      "cell_type": "markdown",
      "metadata": {
        "id": "SrxXeNDmvDr1",
        "colab_type": "text"
      },
      "source": [
        "Q4. An operator able to check whether two values are not equal is coded as:\n",
        "\n",
        "1. not ==\n",
        "2. <>\n",
        "3. **!=**\n",
        "4. =/="
      ]
    },
    {
      "cell_type": "code",
      "metadata": {
        "id": "IU00dm8pvK9J",
        "colab_type": "code",
        "colab": {
          "base_uri": "https://localhost:8080/",
          "height": 34
        },
        "outputId": "329c9e9e-39a3-4487-c2c5-a38d15f2f649"
      },
      "source": [
        "if 1 != 2:\n",
        "  print(\" 1 is not equal to 2 and != is the not equal operator\")"
      ],
      "execution_count": 9,
      "outputs": [
        {
          "output_type": "stream",
          "text": [
            " 1 is not equal to 2 and != is the not equal operator\n"
          ],
          "name": "stdout"
        }
      ]
    },
    {
      "cell_type": "markdown",
      "metadata": {
        "id": "c7t4vj75vUnK",
        "colab_type": "text"
      },
      "source": [
        "Q5. The following snippet:\n",
        "\n",
        "def func1(a):\n",
        "\n",
        "  return None\n",
        "\n",
        "def func2(a):\n",
        "\n",
        "  return func1(a)*func1(a)\n",
        "\n",
        "print(func2(2))\n",
        "\n",
        "1. will output 2\n",
        "2. **will cause a runtime error**\n",
        "3. will output 4\n",
        "4. will output 16"
      ]
    },
    {
      "cell_type": "code",
      "metadata": {
        "id": "5dYrHlbov0-a",
        "colab_type": "code",
        "colab": {
          "base_uri": "https://localhost:8080/",
          "height": 316
        },
        "outputId": "c4e029fd-e056-4413-aec5-3e36c11258b7"
      },
      "source": [
        "# Returns TypeError: unsupported operand type(s) for *: 'NoneType' and 'NoneType'\n",
        "def func1(a):\n",
        "  return None\n",
        "def func2(a):\n",
        "  return func1(a)*func1(a)\n",
        "\n",
        "print(func2(2))"
      ],
      "execution_count": 10,
      "outputs": [
        {
          "output_type": "error",
          "ename": "TypeError",
          "evalue": "ignored",
          "traceback": [
            "\u001b[0;31m---------------------------------------------------------------------------\u001b[0m",
            "\u001b[0;31mTypeError\u001b[0m                                 Traceback (most recent call last)",
            "\u001b[0;32m<ipython-input-10-118366f92296>\u001b[0m in \u001b[0;36m<module>\u001b[0;34m()\u001b[0m\n\u001b[1;32m      4\u001b[0m   \u001b[0;32mreturn\u001b[0m \u001b[0mfunc1\u001b[0m\u001b[0;34m(\u001b[0m\u001b[0ma\u001b[0m\u001b[0;34m)\u001b[0m\u001b[0;34m*\u001b[0m\u001b[0mfunc1\u001b[0m\u001b[0;34m(\u001b[0m\u001b[0ma\u001b[0m\u001b[0;34m)\u001b[0m\u001b[0;34m\u001b[0m\u001b[0;34m\u001b[0m\u001b[0m\n\u001b[1;32m      5\u001b[0m \u001b[0;34m\u001b[0m\u001b[0m\n\u001b[0;32m----> 6\u001b[0;31m \u001b[0mprint\u001b[0m\u001b[0;34m(\u001b[0m\u001b[0mfunc2\u001b[0m\u001b[0;34m(\u001b[0m\u001b[0;36m2\u001b[0m\u001b[0;34m)\u001b[0m\u001b[0;34m)\u001b[0m\u001b[0;34m\u001b[0m\u001b[0;34m\u001b[0m\u001b[0m\n\u001b[0m",
            "\u001b[0;32m<ipython-input-10-118366f92296>\u001b[0m in \u001b[0;36mfunc2\u001b[0;34m(a)\u001b[0m\n\u001b[1;32m      2\u001b[0m   \u001b[0;32mreturn\u001b[0m \u001b[0;32mNone\u001b[0m\u001b[0;34m\u001b[0m\u001b[0;34m\u001b[0m\u001b[0m\n\u001b[1;32m      3\u001b[0m \u001b[0;32mdef\u001b[0m \u001b[0mfunc2\u001b[0m\u001b[0;34m(\u001b[0m\u001b[0ma\u001b[0m\u001b[0;34m)\u001b[0m\u001b[0;34m:\u001b[0m\u001b[0;34m\u001b[0m\u001b[0;34m\u001b[0m\u001b[0m\n\u001b[0;32m----> 4\u001b[0;31m   \u001b[0;32mreturn\u001b[0m \u001b[0mfunc1\u001b[0m\u001b[0;34m(\u001b[0m\u001b[0ma\u001b[0m\u001b[0;34m)\u001b[0m\u001b[0;34m*\u001b[0m\u001b[0mfunc1\u001b[0m\u001b[0;34m(\u001b[0m\u001b[0ma\u001b[0m\u001b[0;34m)\u001b[0m\u001b[0;34m\u001b[0m\u001b[0;34m\u001b[0m\u001b[0m\n\u001b[0m\u001b[1;32m      5\u001b[0m \u001b[0;34m\u001b[0m\u001b[0m\n\u001b[1;32m      6\u001b[0m \u001b[0mprint\u001b[0m\u001b[0;34m(\u001b[0m\u001b[0mfunc2\u001b[0m\u001b[0;34m(\u001b[0m\u001b[0;36m2\u001b[0m\u001b[0;34m)\u001b[0m\u001b[0;34m)\u001b[0m\u001b[0;34m\u001b[0m\u001b[0;34m\u001b[0m\u001b[0m\n",
            "\u001b[0;31mTypeError\u001b[0m: unsupported operand type(s) for *: 'NoneType' and 'NoneType'"
          ]
        }
      ]
    },
    {
      "cell_type": "markdown",
      "metadata": {
        "id": "P6CpvHl_wEZ5",
        "colab_type": "text"
      },
      "source": [
        "Q6. The result of the following division:\n",
        "\n",
        "1 // 2\n",
        "\n",
        "1. cannot be predicted\n",
        "2. is equal to 0.5\n",
        "3. is equal to 0.0\n",
        "4. **is equal to 0**"
      ]
    },
    {
      "cell_type": "code",
      "metadata": {
        "id": "nu3D2HEGwOQS",
        "colab_type": "code",
        "colab": {
          "base_uri": "https://localhost:8080/",
          "height": 34
        },
        "outputId": "854e1aa8-f8c8-4699-cbbd-e552a4cf5ed8"
      },
      "source": [
        "print(1//2)"
      ],
      "execution_count": 11,
      "outputs": [
        {
          "output_type": "stream",
          "text": [
            "0\n"
          ],
          "name": "stdout"
        }
      ]
    },
    {
      "cell_type": "markdown",
      "metadata": {
        "id": "3lpDDr8vwUPh",
        "colab_type": "text"
      },
      "source": [
        "Q7. The following snippet:\n",
        "   \n",
        "def func(a,b):\n",
        "  \n",
        "  return b ** a\n",
        "\n",
        "print(func(b=2,2))\n",
        "\n",
        "1. will output 4\n",
        "2. **is erroneous**\n",
        "3. will return None\n",
        "4. will output 2"
      ]
    },
    {
      "cell_type": "code",
      "metadata": {
        "id": "wJfBR1DfwfRq",
        "colab_type": "code",
        "colab": {
          "base_uri": "https://localhost:8080/",
          "height": 129
        },
        "outputId": "87de7360-5574-4ae4-b21f-18527cd62afd"
      },
      "source": [
        "# The code returns SyntaxError: positional argument follows keyword argument\n",
        "\n",
        "def func(a,b):\n",
        "  return b ** a\n",
        "\n",
        "print(func(b=2,2))"
      ],
      "execution_count": 12,
      "outputs": [
        {
          "output_type": "error",
          "ename": "SyntaxError",
          "evalue": "ignored",
          "traceback": [
            "\u001b[0;36m  File \u001b[0;32m\"<ipython-input-12-c9a0a06fec99>\"\u001b[0;36m, line \u001b[0;32m4\u001b[0m\n\u001b[0;31m    print(func(b=2,2))\u001b[0m\n\u001b[0m                  ^\u001b[0m\n\u001b[0;31mSyntaxError\u001b[0m\u001b[0;31m:\u001b[0m positional argument follows keyword argument\n"
          ]
        }
      ]
    },
    {
      "cell_type": "markdown",
      "metadata": {
        "id": "JqTrrzn-wtSK",
        "colab_type": "text"
      },
      "source": [
        "Q8. What value will be assigned to the x variable?\n",
        "\n",
        "z = 0\n",
        "\n",
        "y = 10\n",
        "\n",
        "x = y < z and z > y or y > z and z < y\n",
        "\n",
        "1. 0\n",
        "2. False\n",
        "3. 1\n",
        "4. **True**"
      ]
    },
    {
      "cell_type": "code",
      "metadata": {
        "id": "9oEY3o_fw_C7",
        "colab_type": "code",
        "colab": {
          "base_uri": "https://localhost:8080/",
          "height": 34
        },
        "outputId": "88640bc6-277f-4923-c638-51df37c4af51"
      },
      "source": [
        "z = 0\n",
        "y = 10\n",
        "x = y < z and z > y or y > z and z < y\n",
        "\n",
        "print(x)"
      ],
      "execution_count": 13,
      "outputs": [
        {
          "output_type": "stream",
          "text": [
            "True\n"
          ],
          "name": "stdout"
        }
      ]
    },
    {
      "cell_type": "markdown",
      "metadata": {
        "id": "axAZ55l7xCkx",
        "colab_type": "text"
      },
      "source": [
        "Q9. One of the following variables’ names is illegal – which one?\n",
        "\n",
        "1. in_\n",
        "2. IN\n",
        "3. **in**\n",
        "4. In"
      ]
    },
    {
      "cell_type": "code",
      "metadata": {
        "id": "Y6m33dy1xJ3p",
        "colab_type": "code",
        "colab": {
          "base_uri": "https://localhost:8080/",
          "height": 129
        },
        "outputId": "8a07d0a1-37cb-4c52-e190-c654a3c65c25"
      },
      "source": [
        "# in is a keyword and returns SyntaxError: invalid syntax \n",
        "in = 2"
      ],
      "execution_count": 14,
      "outputs": [
        {
          "output_type": "error",
          "ename": "SyntaxError",
          "evalue": "ignored",
          "traceback": [
            "\u001b[0;36m  File \u001b[0;32m\"<ipython-input-14-06c327162209>\"\u001b[0;36m, line \u001b[0;32m2\u001b[0m\n\u001b[0;31m    in = 2\u001b[0m\n\u001b[0m     ^\u001b[0m\n\u001b[0;31mSyntaxError\u001b[0m\u001b[0;31m:\u001b[0m invalid syntax\n"
          ]
        }
      ]
    },
    {
      "cell_type": "markdown",
      "metadata": {
        "id": "2BmRMHr8xTCZ",
        "colab_type": "text"
      },
      "source": [
        "Q10. What is the output of the following snippet?\n",
        "    \n",
        "list =  [x*x for x in range(5)]\n",
        "\n",
        "def fun(L):\n",
        "\n",
        "  del L[L[2]]\n",
        "\n",
        "  return L\n",
        "    \n",
        "print(fun(list))\n",
        "\n",
        "1. [0, 1, 4, 16]\n",
        "2. [1, 4, 9, 16]\n",
        "3. [0, 1, 4, 16]\n",
        "4. **[0, 1, 4, 9]**"
      ]
    },
    {
      "cell_type": "code",
      "metadata": {
        "id": "avqYE3N3xfJ0",
        "colab_type": "code",
        "colab": {
          "base_uri": "https://localhost:8080/",
          "height": 34
        },
        "outputId": "91f54e87-9a9f-43b1-8137-8349942f0aca"
      },
      "source": [
        "list =  [x*x for x in range(5)]\n",
        "def fun(L):\n",
        "  del L[L[2]]\n",
        "  return L\n",
        "    \n",
        "print(fun(list))"
      ],
      "execution_count": 15,
      "outputs": [
        {
          "output_type": "stream",
          "text": [
            "[0, 1, 4, 9]\n"
          ],
          "name": "stdout"
        }
      ]
    }
  ]
}