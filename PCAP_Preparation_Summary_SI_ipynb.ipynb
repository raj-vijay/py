{
  "nbformat": 4,
  "nbformat_minor": 0,
  "metadata": {
    "colab": {
      "name": "PCAP_Preparation_Summary_SI.ipynb.ipynb",
      "provenance": [],
      "authorship_tag": "ABX9TyMFOKdJ+RLfb4QeD6JNKI1n",
      "include_colab_link": true
    },
    "kernelspec": {
      "name": "python3",
      "display_name": "Python 3"
    }
  },
  "cells": [
    {
      "cell_type": "markdown",
      "metadata": {
        "id": "view-in-github",
        "colab_type": "text"
      },
      "source": [
        "<a href=\"https://colab.research.google.com/github/raj-vijay/py/blob/master/PCAP_Preparation_Summary_SI_ipynb.ipynb\" target=\"_parent\"><img src=\"https://colab.research.google.com/assets/colab-badge.svg\" alt=\"Open In Colab\"/></a>"
      ]
    },
    {
      "cell_type": "markdown",
      "metadata": {
        "id": "Vf7DHNSRtm1S",
        "colab_type": "text"
      },
      "source": [
        "Q1. What is the output of the following snippet?\n",
        "\n",
        "```\n",
        "l1 = [1,2]\n",
        "for v in range(2):\n",
        "   l1.insert(-1,l1[v])\n",
        "print(l1)\n",
        "```\n",
        "\n",
        "\n",
        "\n",
        "1. [1, 2, 2, 2]\n",
        "2. **[1, 1, 1, 2]**\n",
        "3. [1, 2, 1, 2]\n",
        "4. [1, 1, 2, 2]"
      ]
    },
    {
      "cell_type": "code",
      "metadata": {
        "id": "-2L7ToPLtP0H",
        "colab_type": "code",
        "colab": {
          "base_uri": "https://localhost:8080/",
          "height": 34
        },
        "outputId": "f8cd6461-ad44-4f09-ce5b-2b285c3f0ca8"
      },
      "source": [
        "l1 = [1,2]\n",
        "for v in range(2):\n",
        "  l1.insert(-1,l1[v])\n",
        "print(l1)"
      ],
      "execution_count": 1,
      "outputs": [
        {
          "output_type": "stream",
          "text": [
            "[1, 1, 1, 2]\n"
          ],
          "name": "stdout"
        }
      ]
    },
    {
      "cell_type": "markdown",
      "metadata": {
        "id": "27A4A5Y9uVpz",
        "colab_type": "text"
      },
      "source": [
        "Q2. The meaning of a positional argument is determined by:\n",
        "\n",
        "1. the argument’s name specified along with its value\n",
        "2. its connection with existing variables\n",
        "3. its value\n",
        "4. **its position within the argument list**"
      ]
    },
    {
      "cell_type": "markdown",
      "metadata": {
        "id": "9Q0n1kYEucT4",
        "colab_type": "text"
      },
      "source": [
        "Q3. Which of the following sentences are true? Choose all that apply.\n",
        "\n",
        "```\n",
        "nums = [1,2,3]\n",
        "vals = nums\n",
        "```\n",
        "1. vals is longer than nums\n",
        "2. nums is longer than vals\n",
        "3. **nums and vals are different names of the same list**\n",
        "4. nums and vals are different lists"
      ]
    },
    {
      "cell_type": "code",
      "metadata": {
        "id": "MxXiCtm6ujYJ",
        "colab_type": "code",
        "colab": {}
      },
      "source": [
        "nums = [1,2,3]\n",
        "vals = nums"
      ],
      "execution_count": 0,
      "outputs": []
    },
    {
      "cell_type": "code",
      "metadata": {
        "id": "dZbiy-mVusnA",
        "colab_type": "code",
        "colab": {
          "base_uri": "https://localhost:8080/",
          "height": 34
        },
        "outputId": "3ac24dc7-2ce2-4a96-aca1-6a335d022502"
      },
      "source": [
        "# Length of nums\n",
        "len(nums)"
      ],
      "execution_count": 29,
      "outputs": [
        {
          "output_type": "execute_result",
          "data": {
            "text/plain": [
              "3"
            ]
          },
          "metadata": {
            "tags": []
          },
          "execution_count": 29
        }
      ]
    },
    {
      "cell_type": "code",
      "metadata": {
        "id": "njOtErEOu0Kr",
        "colab_type": "code",
        "colab": {
          "base_uri": "https://localhost:8080/",
          "height": 34
        },
        "outputId": "5732550d-3b03-4b60-fe4d-fb6f6e9088ad"
      },
      "source": [
        "# Length of vals\n",
        "len(vals)"
      ],
      "execution_count": 30,
      "outputs": [
        {
          "output_type": "execute_result",
          "data": {
            "text/plain": [
              "3"
            ]
          },
          "metadata": {
            "tags": []
          },
          "execution_count": 30
        }
      ]
    },
    {
      "cell_type": "code",
      "metadata": {
        "id": "2ioSQgC7u1AQ",
        "colab_type": "code",
        "colab": {}
      },
      "source": [
        "# Append to test is both lists are the same\n",
        "nums.append(4)"
      ],
      "execution_count": 0,
      "outputs": []
    },
    {
      "cell_type": "code",
      "metadata": {
        "id": "E0H71wqsu3XR",
        "colab_type": "code",
        "colab": {
          "base_uri": "https://localhost:8080/",
          "height": 34
        },
        "outputId": "81e135dc-1b5a-4bed-d114-1f551218a951"
      },
      "source": [
        "print(nums, vals)"
      ],
      "execution_count": 32,
      "outputs": [
        {
          "output_type": "stream",
          "text": [
            "[1, 2, 3, 4] [1, 2, 3, 4]\n"
          ],
          "name": "stdout"
        }
      ]
    },
    {
      "cell_type": "markdown",
      "metadata": {
        "id": "SrxXeNDmvDr1",
        "colab_type": "text"
      },
      "source": [
        "Q4. An operator able to check whether two values are not equal is coded as:\n",
        "\n",
        "1. not ==\n",
        "2. <>\n",
        "3. **!=**\n",
        "4. =/="
      ]
    },
    {
      "cell_type": "code",
      "metadata": {
        "id": "IU00dm8pvK9J",
        "colab_type": "code",
        "colab": {
          "base_uri": "https://localhost:8080/",
          "height": 34
        },
        "outputId": "329c9e9e-39a3-4487-c2c5-a38d15f2f649"
      },
      "source": [
        "if 1 != 2:\n",
        "  print(\" 1 is not equal to 2 and != is the not equal operator\")"
      ],
      "execution_count": 9,
      "outputs": [
        {
          "output_type": "stream",
          "text": [
            " 1 is not equal to 2 and != is the not equal operator\n"
          ],
          "name": "stdout"
        }
      ]
    },
    {
      "cell_type": "markdown",
      "metadata": {
        "id": "c7t4vj75vUnK",
        "colab_type": "text"
      },
      "source": [
        "Q5. The following snippet:\n",
        "\n",
        "```\n",
        "def func1(a):\n",
        "  return None\n",
        "def func2(a):\n",
        "  return func1(a)*func1(a)\n",
        "print(func2(2))\n",
        "```\n",
        "1. will output 2\n",
        "2. **will cause a runtime error**\n",
        "3. will output 4\n",
        "4. will output 16"
      ]
    },
    {
      "cell_type": "code",
      "metadata": {
        "id": "5dYrHlbov0-a",
        "colab_type": "code",
        "colab": {
          "base_uri": "https://localhost:8080/",
          "height": 316
        },
        "outputId": "c4e029fd-e056-4413-aec5-3e36c11258b7"
      },
      "source": [
        "# Returns TypeError: unsupported operand type(s) for *: 'NoneType' and 'NoneType'\n",
        "def func1(a):\n",
        "  return None\n",
        "def func2(a):\n",
        "  return func1(a)*func1(a)\n",
        "\n",
        "print(func2(2))"
      ],
      "execution_count": 10,
      "outputs": [
        {
          "output_type": "error",
          "ename": "TypeError",
          "evalue": "ignored",
          "traceback": [
            "\u001b[0;31m---------------------------------------------------------------------------\u001b[0m",
            "\u001b[0;31mTypeError\u001b[0m                                 Traceback (most recent call last)",
            "\u001b[0;32m<ipython-input-10-118366f92296>\u001b[0m in \u001b[0;36m<module>\u001b[0;34m()\u001b[0m\n\u001b[1;32m      4\u001b[0m   \u001b[0;32mreturn\u001b[0m \u001b[0mfunc1\u001b[0m\u001b[0;34m(\u001b[0m\u001b[0ma\u001b[0m\u001b[0;34m)\u001b[0m\u001b[0;34m*\u001b[0m\u001b[0mfunc1\u001b[0m\u001b[0;34m(\u001b[0m\u001b[0ma\u001b[0m\u001b[0;34m)\u001b[0m\u001b[0;34m\u001b[0m\u001b[0;34m\u001b[0m\u001b[0m\n\u001b[1;32m      5\u001b[0m \u001b[0;34m\u001b[0m\u001b[0m\n\u001b[0;32m----> 6\u001b[0;31m \u001b[0mprint\u001b[0m\u001b[0;34m(\u001b[0m\u001b[0mfunc2\u001b[0m\u001b[0;34m(\u001b[0m\u001b[0;36m2\u001b[0m\u001b[0;34m)\u001b[0m\u001b[0;34m)\u001b[0m\u001b[0;34m\u001b[0m\u001b[0;34m\u001b[0m\u001b[0m\n\u001b[0m",
            "\u001b[0;32m<ipython-input-10-118366f92296>\u001b[0m in \u001b[0;36mfunc2\u001b[0;34m(a)\u001b[0m\n\u001b[1;32m      2\u001b[0m   \u001b[0;32mreturn\u001b[0m \u001b[0;32mNone\u001b[0m\u001b[0;34m\u001b[0m\u001b[0;34m\u001b[0m\u001b[0m\n\u001b[1;32m      3\u001b[0m \u001b[0;32mdef\u001b[0m \u001b[0mfunc2\u001b[0m\u001b[0;34m(\u001b[0m\u001b[0ma\u001b[0m\u001b[0;34m)\u001b[0m\u001b[0;34m:\u001b[0m\u001b[0;34m\u001b[0m\u001b[0;34m\u001b[0m\u001b[0m\n\u001b[0;32m----> 4\u001b[0;31m   \u001b[0;32mreturn\u001b[0m \u001b[0mfunc1\u001b[0m\u001b[0;34m(\u001b[0m\u001b[0ma\u001b[0m\u001b[0;34m)\u001b[0m\u001b[0;34m*\u001b[0m\u001b[0mfunc1\u001b[0m\u001b[0;34m(\u001b[0m\u001b[0ma\u001b[0m\u001b[0;34m)\u001b[0m\u001b[0;34m\u001b[0m\u001b[0;34m\u001b[0m\u001b[0m\n\u001b[0m\u001b[1;32m      5\u001b[0m \u001b[0;34m\u001b[0m\u001b[0m\n\u001b[1;32m      6\u001b[0m \u001b[0mprint\u001b[0m\u001b[0;34m(\u001b[0m\u001b[0mfunc2\u001b[0m\u001b[0;34m(\u001b[0m\u001b[0;36m2\u001b[0m\u001b[0;34m)\u001b[0m\u001b[0;34m)\u001b[0m\u001b[0;34m\u001b[0m\u001b[0;34m\u001b[0m\u001b[0m\n",
            "\u001b[0;31mTypeError\u001b[0m: unsupported operand type(s) for *: 'NoneType' and 'NoneType'"
          ]
        }
      ]
    },
    {
      "cell_type": "markdown",
      "metadata": {
        "id": "P6CpvHl_wEZ5",
        "colab_type": "text"
      },
      "source": [
        "Q6. The result of the following division:\n",
        "\n",
        "`1 // 2`\n",
        "1. cannot be predicted\n",
        "2. is equal to 0.5\n",
        "3. is equal to 0.0\n",
        "4. **is equal to 0**"
      ]
    },
    {
      "cell_type": "code",
      "metadata": {
        "id": "nu3D2HEGwOQS",
        "colab_type": "code",
        "colab": {
          "base_uri": "https://localhost:8080/",
          "height": 34
        },
        "outputId": "854e1aa8-f8c8-4699-cbbd-e552a4cf5ed8"
      },
      "source": [
        "print(1//2)"
      ],
      "execution_count": 11,
      "outputs": [
        {
          "output_type": "stream",
          "text": [
            "0\n"
          ],
          "name": "stdout"
        }
      ]
    },
    {
      "cell_type": "markdown",
      "metadata": {
        "id": "3lpDDr8vwUPh",
        "colab_type": "text"
      },
      "source": [
        "Q7. The following snippet:\n",
        "\n",
        "```\n",
        "def func(a,b):  \n",
        "  return b ** a\n",
        "print(func(b=2,2))\n",
        "```\n",
        "1. will output 4\n",
        "2. **is erroneous**\n",
        "3. will return None\n",
        "4. will output 2"
      ]
    },
    {
      "cell_type": "code",
      "metadata": {
        "id": "wJfBR1DfwfRq",
        "colab_type": "code",
        "colab": {
          "base_uri": "https://localhost:8080/",
          "height": 129
        },
        "outputId": "87de7360-5574-4ae4-b21f-18527cd62afd"
      },
      "source": [
        "# The code returns SyntaxError: positional argument follows keyword argument\n",
        "\n",
        "def func(a,b):\n",
        "  return b ** a\n",
        "\n",
        "print(func(b=2,2))"
      ],
      "execution_count": 12,
      "outputs": [
        {
          "output_type": "error",
          "ename": "SyntaxError",
          "evalue": "ignored",
          "traceback": [
            "\u001b[0;36m  File \u001b[0;32m\"<ipython-input-12-c9a0a06fec99>\"\u001b[0;36m, line \u001b[0;32m4\u001b[0m\n\u001b[0;31m    print(func(b=2,2))\u001b[0m\n\u001b[0m                  ^\u001b[0m\n\u001b[0;31mSyntaxError\u001b[0m\u001b[0;31m:\u001b[0m positional argument follows keyword argument\n"
          ]
        }
      ]
    },
    {
      "cell_type": "markdown",
      "metadata": {
        "id": "JqTrrzn-wtSK",
        "colab_type": "text"
      },
      "source": [
        "Q8. What value will be assigned to the x variable?\n",
        "\n",
        "```\n",
        "z = 0\n",
        "y = 10\n",
        "x = y < z and z > y or y > z and z < y\n",
        "```\n",
        "\n",
        "\n",
        "\n",
        "1. 0\n",
        "2. False\n",
        "3. 1\n",
        "4. **True**"
      ]
    },
    {
      "cell_type": "code",
      "metadata": {
        "id": "9oEY3o_fw_C7",
        "colab_type": "code",
        "colab": {
          "base_uri": "https://localhost:8080/",
          "height": 34
        },
        "outputId": "88640bc6-277f-4923-c638-51df37c4af51"
      },
      "source": [
        "z = 0\n",
        "y = 10\n",
        "x = y < z and z > y or y > z and z < y\n",
        "\n",
        "print(x)"
      ],
      "execution_count": 13,
      "outputs": [
        {
          "output_type": "stream",
          "text": [
            "True\n"
          ],
          "name": "stdout"
        }
      ]
    },
    {
      "cell_type": "markdown",
      "metadata": {
        "id": "axAZ55l7xCkx",
        "colab_type": "text"
      },
      "source": [
        "Q9. One of the following variables’ names is illegal – which one?\n",
        "\n",
        "1. in_\n",
        "2. IN\n",
        "3. **in**\n",
        "4. In"
      ]
    },
    {
      "cell_type": "code",
      "metadata": {
        "id": "Y6m33dy1xJ3p",
        "colab_type": "code",
        "colab": {
          "base_uri": "https://localhost:8080/",
          "height": 129
        },
        "outputId": "8a07d0a1-37cb-4c52-e190-c654a3c65c25"
      },
      "source": [
        "# in is a keyword and returns SyntaxError: invalid syntax \n",
        "in = 2"
      ],
      "execution_count": 14,
      "outputs": [
        {
          "output_type": "error",
          "ename": "SyntaxError",
          "evalue": "ignored",
          "traceback": [
            "\u001b[0;36m  File \u001b[0;32m\"<ipython-input-14-06c327162209>\"\u001b[0;36m, line \u001b[0;32m2\u001b[0m\n\u001b[0;31m    in = 2\u001b[0m\n\u001b[0m     ^\u001b[0m\n\u001b[0;31mSyntaxError\u001b[0m\u001b[0;31m:\u001b[0m invalid syntax\n"
          ]
        }
      ]
    },
    {
      "cell_type": "markdown",
      "metadata": {
        "id": "2BmRMHr8xTCZ",
        "colab_type": "text"
      },
      "source": [
        "Q10. What is the output of the following snippet?\n",
        "\n",
        "```\n",
        "list =  [x*x for x in range(5)]\n",
        "def fun(L):\n",
        "  del L[L[2]]\n",
        "  return L\n",
        "    \n",
        "print(fun(list))\n",
        "```\n",
        "\n",
        "\n",
        "\n",
        "1. [0, 1, 4, 16]\n",
        "2. [1, 4, 9, 16]\n",
        "3. [0, 1, 4, 16]\n",
        "4. **[0, 1, 4, 9]**"
      ]
    },
    {
      "cell_type": "code",
      "metadata": {
        "id": "avqYE3N3xfJ0",
        "colab_type": "code",
        "colab": {
          "base_uri": "https://localhost:8080/",
          "height": 34
        },
        "outputId": "91f54e87-9a9f-43b1-8137-8349942f0aca"
      },
      "source": [
        "list =  [x*x for x in range(5)]\n",
        "def fun(L):\n",
        "  del L[L[2]]\n",
        "  return L\n",
        "    \n",
        "print(fun(list))"
      ],
      "execution_count": 15,
      "outputs": [
        {
          "output_type": "stream",
          "text": [
            "[0, 1, 4, 9]\n"
          ],
          "name": "stdout"
        }
      ]
    },
    {
      "cell_type": "markdown",
      "metadata": {
        "id": "Weg5b6ASyOw7",
        "colab_type": "text"
      },
      "source": [
        "Q11. What is the output of the following piece of code?\n",
        "\n",
        "```\n",
        "x=1\n",
        "y=2\n",
        "\n",
        "x, y, z = x, x, y\n",
        "z, y, z = x, y, z\n",
        "\n",
        "print(x,y,z)\n",
        "```\n",
        "1. 1 1 2\n",
        "2. 1 2 2\n",
        "3. 2 1 2\n",
        "4. 1 2 1"
      ]
    },
    {
      "cell_type": "code",
      "metadata": {
        "id": "GJ8fpkmfyaOK",
        "colab_type": "code",
        "colab": {
          "base_uri": "https://localhost:8080/",
          "height": 34
        },
        "outputId": "3baded56-3ff2-448b-fea3-3cd504a0f79a"
      },
      "source": [
        "x=1\n",
        "y=2\n",
        "\n",
        "x, y, z = x, x, y\n",
        "z, y, z = x, y, z\n",
        "\n",
        "print(x,y,z)"
      ],
      "execution_count": 17,
      "outputs": [
        {
          "output_type": "stream",
          "text": [
            "1 1 2\n"
          ],
          "name": "stdout"
        }
      ]
    },
    {
      "cell_type": "markdown",
      "metadata": {
        "id": "99fNyiP10zxQ",
        "colab_type": "text"
      },
      "source": [
        "Here, the expression on the Right Hand Side of the Equal is evaluated first, and in this case builds a tuple, and then the assignment operator unpacks the tuple."
      ]
    },
    {
      "cell_type": "markdown",
      "metadata": {
        "id": "sLYbY3xz1YoQ",
        "colab_type": "text"
      },
      "source": [
        "Q12. What will the output of the following snippet?\n",
        "\n",
        "    a = 1\n",
        "\n",
        "    b = 0\n",
        "\n",
        "    a = a ^ b\n",
        "\n",
        "    b = a ^ b\n",
        "\n",
        "    a = a ^ b\n",
        "\n",
        "    print(a,b)\n",
        "\n",
        "1. 0 1\n",
        "2. 1 0\n",
        "3. 0 0\n",
        "4. 1 1"
      ]
    },
    {
      "cell_type": "code",
      "metadata": {
        "id": "BmcNWzxL1oji",
        "colab_type": "code",
        "colab": {
          "base_uri": "https://localhost:8080/",
          "height": 34
        },
        "outputId": "dbb51e4a-0c8c-4dd1-c54e-0c5ad7eea45b"
      },
      "source": [
        "# Executing the below code to test the bitwise operator\n",
        "a = 1\n",
        "b = 0\n",
        "a = a ^ b\n",
        "b = a ^ b\n",
        "a = a ^ b\n",
        "\n",
        "print(a,b)"
      ],
      "execution_count": 33,
      "outputs": [
        {
          "output_type": "stream",
          "text": [
            "0 1\n"
          ],
          "name": "stdout"
        }
      ]
    },
    {
      "cell_type": "code",
      "metadata": {
        "id": "T5VaRhqy3n0q",
        "colab_type": "code",
        "colab": {
          "base_uri": "https://localhost:8080/",
          "height": 85
        },
        "outputId": "3ace7e81-f5a0-4be2-f27a-d3b31775b82e"
      },
      "source": [
        "# ^ is the Bitwise Exclusive Or\t\n",
        "# a ^ b\txor(a, b)\n",
        "print(\"0 ^ 0 = \", 0 ^ 0)\n",
        "print(\"1 ^ 0 = \", 1 ^ 0)\n",
        "print(\"0 ^ 1 = \", 0 ^ 1)\n",
        "print(\"1 ^ 1 = \", 1 ^ 1)"
      ],
      "execution_count": 25,
      "outputs": [
        {
          "output_type": "stream",
          "text": [
            "0 ^ 0 =  0\n",
            "1 ^ 0 =  1\n",
            "0 ^ 1 =  1\n",
            "1 ^ 1 =  0\n"
          ],
          "name": "stdout"
        }
      ]
    },
    {
      "cell_type": "markdown",
      "metadata": {
        "id": "qKP7lgGY49_K",
        "colab_type": "text"
      },
      "source": [
        "Q13. What is the output of the following snippet?\n",
        "\n",
        "```\n",
        "def fun(x):\n",
        "  if x % 2 == 0:\n",
        "    return 1\n",
        "  else:\n",
        "    return 2\n",
        "print(fun(fun(2)))\n",
        "```\n",
        "\n",
        "\n",
        "1. None\n",
        "2. 1\n",
        "3. the code will cause a runtime error\n",
        "4. **2**"
      ]
    },
    {
      "cell_type": "code",
      "metadata": {
        "id": "d1B1P0fU6ncS",
        "colab_type": "code",
        "colab": {
          "base_uri": "https://localhost:8080/",
          "height": 34
        },
        "outputId": "96427f2a-ebd9-4bac-d7f2-894d604c4927"
      },
      "source": [
        "def fun(x):\n",
        "  if x % 2 == 0:\n",
        "    return 1\n",
        "  else:\n",
        "    return 2\n",
        "print(fun(fun(2)))"
      ],
      "execution_count": 34,
      "outputs": [
        {
          "output_type": "stream",
          "text": [
            "2\n"
          ],
          "name": "stdout"
        }
      ]
    },
    {
      "cell_type": "markdown",
      "metadata": {
        "id": "vGyrpslI7CXi",
        "colab_type": "text"
      },
      "source": [
        "Q14. Take a look at the snippet and choose the true statement:\n",
        "\n",
        "```\n",
        "nums = [1,2,3]\n",
        "vals = nums\n",
        "del vals[:]\n",
        "```\n",
        "1. **nums and vals are different names of the same list**\n",
        "2. vals is longer than nums\n",
        "3. the snippet will cause a runtime error\n",
        "4. nums and vals are different lists"
      ]
    },
    {
      "cell_type": "code",
      "metadata": {
        "id": "Q_Hzq7HH7YFi",
        "colab_type": "code",
        "colab": {}
      },
      "source": [
        "# Executing the below source code\n",
        "nums = [1,2,3]\n",
        "vals = nums\n",
        "del vals[:]"
      ],
      "execution_count": 0,
      "outputs": []
    },
    {
      "cell_type": "code",
      "metadata": {
        "id": "asv2m2uW7dfA",
        "colab_type": "code",
        "colab": {
          "base_uri": "https://localhost:8080/",
          "height": 34
        },
        "outputId": "9f309538-1fee-421f-c085-39b66476f89c"
      },
      "source": [
        "print(nums, vals)"
      ],
      "execution_count": 36,
      "outputs": [
        {
          "output_type": "stream",
          "text": [
            "[] []\n"
          ],
          "name": "stdout"
        }
      ]
    },
    {
      "cell_type": "markdown",
      "metadata": {
        "id": "v5u4jaz17iDO",
        "colab_type": "text"
      },
      "source": [
        "Q15. What is the output of the following piece of code if the user enters two lines containing 3 and 2 respectively?\n",
        "\n",
        "```\n",
        "x=int(input())\n",
        "y=int(input())\n",
        "x = x % y\n",
        "x = x % y\n",
        "y = y % x\n",
        "print(y)\n",
        "```\n",
        "1. 2\n",
        "2. 1\n",
        "3. **0**\n",
        "4. 3"
      ]
    },
    {
      "cell_type": "code",
      "metadata": {
        "id": "0z_8PSdv76VS",
        "colab_type": "code",
        "colab": {
          "base_uri": "https://localhost:8080/",
          "height": 68
        },
        "outputId": "cc60c529-7184-44f7-b89a-205c92f1d333"
      },
      "source": [
        "x=int(input())\n",
        "y=int(input())\n",
        "x = x % y\n",
        "x = x % y\n",
        "y = y % x\n",
        "print(y)"
      ],
      "execution_count": 37,
      "outputs": [
        {
          "output_type": "stream",
          "text": [
            "3\n",
            "2\n",
            "0\n"
          ],
          "name": "stdout"
        }
      ]
    },
    {
      "cell_type": "markdown",
      "metadata": {
        "id": "ivBm4fQ578j4",
        "colab_type": "text"
      },
      "source": [
        "Q16. What is the output of the following piece of code if the user enters two lines containing 3 and 6 respectively?\n",
        "```\n",
        "y=input()\n",
        "x=input()\n",
        "print(x+y)\n",
        "```\n",
        "1. 6\n",
        "2. 3\n",
        "3. 36\n",
        "4. **63**"
      ]
    },
    {
      "cell_type": "code",
      "metadata": {
        "id": "pHxoaPjz8TRh",
        "colab_type": "code",
        "colab": {
          "base_uri": "https://localhost:8080/",
          "height": 68
        },
        "outputId": "ff4a6c6a-5d4c-4616-9c46-6998bb3969d1"
      },
      "source": [
        "y=input()\n",
        "x=input()\n",
        "print(x+y)"
      ],
      "execution_count": 40,
      "outputs": [
        {
          "output_type": "stream",
          "text": [
            "3\n",
            "6\n",
            "63\n"
          ],
          "name": "stdout"
        }
      ]
    },
    {
      "cell_type": "markdown",
      "metadata": {
        "id": "jnUCyTZ08uga",
        "colab_type": "text"
      },
      "source": [
        "Q17. What is the output of the following piece of code?\n",
        "```\n",
        "print(“a”,”b”,”c”,sep=”sep”)\n",
        "```\n",
        "1. abc\n",
        "2. asepbsepcsep\n",
        "3. **asepbsepc**\n",
        "4. a b c"
      ]
    },
    {
      "cell_type": "code",
      "metadata": {
        "id": "CcAuA_qR9AAg",
        "colab_type": "code",
        "colab": {
          "base_uri": "https://localhost:8080/",
          "height": 34
        },
        "outputId": "4a39b99a-8354-49e8-b140-3eb6056bd8cb"
      },
      "source": [
        "print('a','b','c',sep='sep')"
      ],
      "execution_count": 42,
      "outputs": [
        {
          "output_type": "stream",
          "text": [
            "asepbsepc\n"
          ],
          "name": "stdout"
        }
      ]
    },
    {
      "cell_type": "markdown",
      "metadata": {
        "id": "Wgaq4pSm9IeX",
        "colab_type": "text"
      },
      "source": [
        "Q18. What is the output of the following piece of code?\n",
        "```\n",
        "X = 1 // 5 + 1 / 5\n",
        "print(X)\n",
        "```\n",
        "1. 0.4\n",
        "2. 0.0\n",
        "3. **0.2**\n",
        "4. 0"
      ]
    },
    {
      "cell_type": "code",
      "metadata": {
        "id": "zbNMnws29S1R",
        "colab_type": "code",
        "colab": {
          "base_uri": "https://localhost:8080/",
          "height": 34
        },
        "outputId": "04f7f55e-21e1-4a76-92fc-aecc5823d380"
      },
      "source": [
        "X = 1 // 5 + 1 / 5\n",
        "print(X)"
      ],
      "execution_count": 43,
      "outputs": [
        {
          "output_type": "stream",
          "text": [
            "0.2\n"
          ],
          "name": "stdout"
        }
      ]
    },
    {
      "cell_type": "markdown",
      "metadata": {
        "id": "FEEf7VHF9aMY",
        "colab_type": "text"
      },
      "source": [
        "Q19. Assuming that the tuple is a correctly created tuple, the fact that tuples are immutable means that the following instruction:\n",
        "```\n",
        "tuple[1] = tuple[1] + tuple[0]\n",
        "```\n",
        "1. is fully correct\n",
        "2. **is illegal**\n",
        "3. may be illegal if the tuple contains strings\n",
        "4. can be executed if and only if the tuple contains at least two elements"
      ]
    },
    {
      "cell_type": "code",
      "metadata": {
        "id": "MV2eeBjM9pfS",
        "colab_type": "code",
        "colab": {
          "base_uri": "https://localhost:8080/",
          "height": 180
        },
        "outputId": "2d3a0b0f-f94c-4410-a612-66482a170f96"
      },
      "source": [
        "# The code returns a TypeError: 'tuple' object does not support item assignment\n",
        "tuple = (1, 2, 3)\n",
        "tuple[1] = tuple[1] + tuple[0]"
      ],
      "execution_count": 44,
      "outputs": [
        {
          "output_type": "error",
          "ename": "TypeError",
          "evalue": "ignored",
          "traceback": [
            "\u001b[0;31m---------------------------------------------------------------------------\u001b[0m",
            "\u001b[0;31mTypeError\u001b[0m                                 Traceback (most recent call last)",
            "\u001b[0;32m<ipython-input-44-e3066a90c1d0>\u001b[0m in \u001b[0;36m<module>\u001b[0;34m()\u001b[0m\n\u001b[1;32m      1\u001b[0m \u001b[0mtuple\u001b[0m \u001b[0;34m=\u001b[0m \u001b[0;34m(\u001b[0m\u001b[0;36m1\u001b[0m\u001b[0;34m,\u001b[0m \u001b[0;36m2\u001b[0m\u001b[0;34m,\u001b[0m \u001b[0;36m3\u001b[0m\u001b[0;34m)\u001b[0m\u001b[0;34m\u001b[0m\u001b[0;34m\u001b[0m\u001b[0m\n\u001b[0;32m----> 2\u001b[0;31m \u001b[0mtuple\u001b[0m\u001b[0;34m[\u001b[0m\u001b[0;36m1\u001b[0m\u001b[0;34m]\u001b[0m \u001b[0;34m=\u001b[0m \u001b[0mtuple\u001b[0m\u001b[0;34m[\u001b[0m\u001b[0;36m1\u001b[0m\u001b[0;34m]\u001b[0m \u001b[0;34m+\u001b[0m \u001b[0mtuple\u001b[0m\u001b[0;34m[\u001b[0m\u001b[0;36m0\u001b[0m\u001b[0;34m]\u001b[0m\u001b[0;34m\u001b[0m\u001b[0;34m\u001b[0m\u001b[0m\n\u001b[0m",
            "\u001b[0;31mTypeError\u001b[0m: 'tuple' object does not support item assignment"
          ]
        }
      ]
    },
    {
      "cell_type": "markdown",
      "metadata": {
        "id": "5VrBScC69yMG",
        "colab_type": "text"
      },
      "source": [
        "Q20. What is the output of the following piece of code if the user enters two lines containing 2 and 4 respectively?\n",
        "```\n",
        "x=float(input())\n",
        "y=float(input())\n",
        "print(y ** (1/x))\n",
        "```\n",
        "1. 4.0\n",
        "2. **2.0**\n",
        "3. 1.0\n",
        "4. 0.0"
      ]
    },
    {
      "cell_type": "code",
      "metadata": {
        "id": "n_MSDg0p-DLS",
        "colab_type": "code",
        "colab": {
          "base_uri": "https://localhost:8080/",
          "height": 68
        },
        "outputId": "6eaba926-5079-4969-b1d1-fbb193751d79"
      },
      "source": [
        "x=float(input())\n",
        "y=float(input())\n",
        "print(y ** (1/x))"
      ],
      "execution_count": 45,
      "outputs": [
        {
          "output_type": "stream",
          "text": [
            "2\n",
            "4\n",
            "2.0\n"
          ],
          "name": "stdout"
        }
      ]
    },
    {
      "cell_type": "markdown",
      "metadata": {
        "id": "tHiz_Os_-F8C",
        "colab_type": "text"
      },
      "source": [
        "Q21. What is the output of the following snippet?\n",
        "```\n",
        "dct = { ‘one’:’two’, ‘three’:’one’, ‘two’:’three’ }\n",
        "v = dct[‘three’]\n",
        "for k in range(len(dct)):\n",
        "  v = dct[v]\n",
        "print(v)\n",
        "```\n",
        "1. two\n",
        "2. three\n",
        "3. **one**\n",
        "4. (‘one’, ‘two’, ‘three’)"
      ]
    },
    {
      "cell_type": "code",
      "metadata": {
        "id": "Lo1-3-nL-2zb",
        "colab_type": "code",
        "colab": {
          "base_uri": "https://localhost:8080/",
          "height": 102
        },
        "outputId": "362a5bda-0c08-41b0-fb11-8ffeba43029a"
      },
      "source": [
        "dct = {'one':'two', 'three':'one', 'two':'three'}\n",
        "v = dct['three']\n",
        "print(\"Initial v:\",v)\n",
        "for k in range(len(dct)):\n",
        "  v = dct[v]\n",
        "  print(k, \"v:\", v)\n",
        "print(\"Final v:\",v)"
      ],
      "execution_count": 53,
      "outputs": [
        {
          "output_type": "stream",
          "text": [
            "Initial v: one\n",
            "0 v: two\n",
            "1 v: three\n",
            "2 v: one\n",
            "Final v: one\n"
          ],
          "name": "stdout"
        }
      ]
    },
    {
      "cell_type": "markdown",
      "metadata": {
        "id": "Zd4bpFq3_tSo",
        "colab_type": "text"
      },
      "source": [
        "Q22. How many elements does the L list contain?\n",
        "```\n",
        "L = [i for i in range(-1,-2)]\n",
        "```\n",
        "1. 1\n",
        "2. 2\n",
        "3. **0**\n",
        "4. 3"
      ]
    },
    {
      "cell_type": "code",
      "metadata": {
        "id": "bS0ZntP5_4TA",
        "colab_type": "code",
        "colab": {
          "base_uri": "https://localhost:8080/",
          "height": 34
        },
        "outputId": "7d137004-953b-408f-ba04-4c85fc535cac"
      },
      "source": [
        "L = [i for i in range(-1,-2)]\n",
        "print(L)"
      ],
      "execution_count": 55,
      "outputs": [
        {
          "output_type": "stream",
          "text": [
            "[]\n"
          ],
          "name": "stdout"
        }
      ]
    },
    {
      "cell_type": "markdown",
      "metadata": {
        "id": "-4V1ebjjCtsy",
        "colab_type": "text"
      },
      "source": [
        "Q23. Which of the following lines improperly invokes the function defined as:\n",
        "```\n",
        "**def fun(a,b,c=0)**\n",
        "```\n",
        "Choose all that apply.\n",
        "1. **fun(b=1)**:\n",
        "2. fun(a=1,b=0,c=0):\n",
        "3. fun(a=0,b=0):\n",
        "4. fun(0,1,2):"
      ]
    },
    {
      "cell_type": "code",
      "metadata": {
        "id": "qCrRNkNmDgmr",
        "colab_type": "code",
        "colab": {}
      },
      "source": [
        "def fun(a,b,c=0):\n",
        "  return True"
      ],
      "execution_count": 0,
      "outputs": []
    },
    {
      "cell_type": "code",
      "metadata": {
        "id": "PpzVEGeGEEHL",
        "colab_type": "code",
        "colab": {
          "base_uri": "https://localhost:8080/",
          "height": 180
        },
        "outputId": "a340df82-3bbd-4a3d-bcfc-3ada3bda2294"
      },
      "source": [
        "a = fun(b=1)\n",
        "print(a)"
      ],
      "execution_count": 62,
      "outputs": [
        {
          "output_type": "error",
          "ename": "TypeError",
          "evalue": "ignored",
          "traceback": [
            "\u001b[0;31m---------------------------------------------------------------------------\u001b[0m",
            "\u001b[0;31mTypeError\u001b[0m                                 Traceback (most recent call last)",
            "\u001b[0;32m<ipython-input-62-f8ae5f11e337>\u001b[0m in \u001b[0;36m<module>\u001b[0;34m()\u001b[0m\n\u001b[0;32m----> 1\u001b[0;31m \u001b[0ma\u001b[0m \u001b[0;34m=\u001b[0m \u001b[0mfun\u001b[0m\u001b[0;34m(\u001b[0m\u001b[0mb\u001b[0m\u001b[0;34m=\u001b[0m\u001b[0;36m1\u001b[0m\u001b[0;34m)\u001b[0m\u001b[0;34m\u001b[0m\u001b[0;34m\u001b[0m\u001b[0m\n\u001b[0m\u001b[1;32m      2\u001b[0m \u001b[0mprint\u001b[0m\u001b[0;34m(\u001b[0m\u001b[0ma\u001b[0m\u001b[0;34m)\u001b[0m\u001b[0;34m\u001b[0m\u001b[0;34m\u001b[0m\u001b[0m\n",
            "\u001b[0;31mTypeError\u001b[0m: fun() missing 1 required positional argument: 'a'"
          ]
        }
      ]
    },
    {
      "cell_type": "code",
      "metadata": {
        "id": "sbXBwUioEIng",
        "colab_type": "code",
        "colab": {
          "base_uri": "https://localhost:8080/",
          "height": 34
        },
        "outputId": "4ec3e1d3-60bc-432e-a20e-78bed68cb870"
      },
      "source": [
        "a = fun(a=1,b=0,c=0)\n",
        "print(a)"
      ],
      "execution_count": 61,
      "outputs": [
        {
          "output_type": "stream",
          "text": [
            "True\n"
          ],
          "name": "stdout"
        }
      ]
    },
    {
      "cell_type": "code",
      "metadata": {
        "id": "CebViZaZETHh",
        "colab_type": "code",
        "colab": {
          "base_uri": "https://localhost:8080/",
          "height": 34
        },
        "outputId": "9ca7b107-7029-4c54-bafb-da03805f8890"
      },
      "source": [
        "a = fun(a=0,b=0)\n",
        "print(a)"
      ],
      "execution_count": 63,
      "outputs": [
        {
          "output_type": "stream",
          "text": [
            "True\n"
          ],
          "name": "stdout"
        }
      ]
    },
    {
      "cell_type": "code",
      "metadata": {
        "id": "Wm8bJDniEXIY",
        "colab_type": "code",
        "colab": {
          "base_uri": "https://localhost:8080/",
          "height": 34
        },
        "outputId": "461d2702-9a19-4b67-a664-5a9e5739f787"
      },
      "source": [
        "a = fun(0,1,2)\n",
        "print(a)"
      ],
      "execution_count": 64,
      "outputs": [
        {
          "output_type": "stream",
          "text": [
            "True\n"
          ],
          "name": "stdout"
        }
      ]
    },
    {
      "cell_type": "markdown",
      "metadata": {
        "id": "VllQgh9uEdMG",
        "colab_type": "text"
      },
      "source": [
        "Q24. What is the output of the following snippet?\n",
        "\n",
        "```\n",
        "def fun(x,y):\n",
        "  if x == y:\n",
        "    return x\n",
        "  else:\n",
        "    return fun(x,y-1)\n",
        "print(fun(0,3))\n",
        "```\n",
        "1. **0**\n",
        "2. 1\n",
        "3. the snippet will cause a runtime error\n",
        "4. 2"
      ]
    },
    {
      "cell_type": "code",
      "metadata": {
        "id": "vyU9pnswEpMK",
        "colab_type": "code",
        "colab": {
          "base_uri": "https://localhost:8080/",
          "height": 34
        },
        "outputId": "77e1bc27-0aa9-420e-ab4a-15d5ec2ad19d"
      },
      "source": [
        "def fun(x,y):\n",
        "  if x == y:\n",
        "    return x\n",
        "  else:\n",
        "    return fun(x,y-1)\n",
        "print(fun(0,3))"
      ],
      "execution_count": 65,
      "outputs": [
        {
          "output_type": "stream",
          "text": [
            "0\n"
          ],
          "name": "stdout"
        }
      ]
    },
    {
      "cell_type": "markdown",
      "metadata": {
        "id": "Gfa0Uf1FJXl4",
        "colab_type": "text"
      },
      "source": [
        "Q25. How many stars will the following snippet send to the console?\n",
        "\n",
        "```\n",
        "i = 0\n",
        "while i < i + 2:\n",
        "  i += 1\n",
        "  print(“*”)\n",
        "else:\n",
        "  print(“*”)\n",
        "```\n",
        "1. **the snippet will enter an infinite loop**\n",
        "2. zero\n",
        "3. one\n",
        "4. two"
      ]
    },
    {
      "cell_type": "markdown",
      "metadata": {
        "id": "ComdPkZYJ0F9",
        "colab_type": "text"
      },
      "source": [
        "Q26. What is the output of the following snippet?\n",
        "```\n",
        "tup = (1, 2, 4, 8)\n",
        "tup = tup[-2:-1]\n",
        "tup = tup[-1]\n",
        "print(tup)\n",
        "```\n",
        "1. **4**\n",
        "2. (4)\n",
        "3. 44\n",
        "4. (4,)"
      ]
    },
    {
      "cell_type": "code",
      "metadata": {
        "id": "ShFlqSQjKZAi",
        "colab_type": "code",
        "colab": {
          "base_uri": "https://localhost:8080/",
          "height": 34
        },
        "outputId": "808e79b0-ce0c-49a5-80cf-b93206a48f76"
      },
      "source": [
        "tup = (1, 2, 4, 8)\n",
        "tup = tup[-2:-1]\n",
        "tup = tup[-1]\n",
        "print(tup)"
      ],
      "execution_count": 66,
      "outputs": [
        {
          "output_type": "stream",
          "text": [
            "4\n"
          ],
          "name": "stdout"
        }
      ]
    },
    {
      "cell_type": "markdown",
      "metadata": {
        "id": "UGqYVjO5KaCL",
        "colab_type": "text"
      },
      "source": [
        "Q27. What is the output of the following snippet?\n",
        "```\n",
        "dd = { “1”:”0″, “0”:”1″ }\n",
        "for x in dd.vals():\n",
        "  print(x,end=””)\n",
        "```\n",
        "1. 1 0\n",
        "2. **the code is erroneous**\n",
        "3. 0 0\n",
        "4. 0 1"
      ]
    },
    {
      "cell_type": "code",
      "metadata": {
        "id": "a-LDP5RsKlew",
        "colab_type": "code",
        "colab": {
          "base_uri": "https://localhost:8080/",
          "height": 197
        },
        "outputId": "02711845-d56f-48a8-8147-0417d88fd4c6"
      },
      "source": [
        "# The code returns AttributeError: 'dict' object has no attribute 'vals'\n",
        "dd = {'1':'0', '0':'1'}\n",
        "for x in dd.vals():\n",
        "  print(x,end='')"
      ],
      "execution_count": 70,
      "outputs": [
        {
          "output_type": "error",
          "ename": "AttributeError",
          "evalue": "ignored",
          "traceback": [
            "\u001b[0;31m---------------------------------------------------------------------------\u001b[0m",
            "\u001b[0;31mAttributeError\u001b[0m                            Traceback (most recent call last)",
            "\u001b[0;32m<ipython-input-70-eb31caa1f0ca>\u001b[0m in \u001b[0;36m<module>\u001b[0;34m()\u001b[0m\n\u001b[1;32m      1\u001b[0m \u001b[0mdd\u001b[0m \u001b[0;34m=\u001b[0m \u001b[0;34m{\u001b[0m\u001b[0;34m'1'\u001b[0m\u001b[0;34m:\u001b[0m\u001b[0;34m'0'\u001b[0m\u001b[0;34m,\u001b[0m \u001b[0;34m'0'\u001b[0m\u001b[0;34m:\u001b[0m\u001b[0;34m'1'\u001b[0m\u001b[0;34m}\u001b[0m\u001b[0;34m\u001b[0m\u001b[0;34m\u001b[0m\u001b[0m\n\u001b[0;32m----> 2\u001b[0;31m \u001b[0;32mfor\u001b[0m \u001b[0mx\u001b[0m \u001b[0;32min\u001b[0m \u001b[0mdd\u001b[0m\u001b[0;34m.\u001b[0m\u001b[0mvals\u001b[0m\u001b[0;34m(\u001b[0m\u001b[0;34m)\u001b[0m\u001b[0;34m:\u001b[0m\u001b[0;34m\u001b[0m\u001b[0;34m\u001b[0m\u001b[0m\n\u001b[0m\u001b[1;32m      3\u001b[0m   \u001b[0mprint\u001b[0m\u001b[0;34m(\u001b[0m\u001b[0mx\u001b[0m\u001b[0;34m,\u001b[0m\u001b[0mend\u001b[0m\u001b[0;34m=\u001b[0m\u001b[0;34m''\u001b[0m\u001b[0;34m)\u001b[0m\u001b[0;34m\u001b[0m\u001b[0;34m\u001b[0m\u001b[0m\n",
            "\u001b[0;31mAttributeError\u001b[0m: 'dict' object has no attribute 'vals'"
          ]
        }
      ]
    },
    {
      "cell_type": "code",
      "metadata": {
        "id": "vdl79ThCK32U",
        "colab_type": "code",
        "colab": {
          "base_uri": "https://localhost:8080/",
          "height": 34
        },
        "outputId": "7d6afa64-a6db-42f3-ea75-e56b65e5ff6f"
      },
      "source": [
        "# The above code is fixed with the correct dictionary method .values()\n",
        "dd = {'1':'0', '0':'1'}\n",
        "for x in dd.values():\n",
        "  print(x,end='')"
      ],
      "execution_count": 71,
      "outputs": [
        {
          "output_type": "stream",
          "text": [
            "01"
          ],
          "name": "stdout"
        }
      ]
    },
    {
      "cell_type": "markdown",
      "metadata": {
        "id": "2o204ZLKLMbu",
        "colab_type": "text"
      },
      "source": [
        "Q28. What is the output of the following snippet?\n",
        "```\n",
        "dct = {}\n",
        "dct['1'] = (1,2)\n",
        "dct['2'] = (2,1)\n",
        "for x in dct.keys():\n",
        "  print(dct[x][1],end='')\n",
        "```\n",
        "1. **21**\n",
        "2. (1,2)\n",
        "3. (2,1)\n",
        "4. 12"
      ]
    },
    {
      "cell_type": "code",
      "metadata": {
        "id": "P3jYwvGtLcBK",
        "colab_type": "code",
        "colab": {
          "base_uri": "https://localhost:8080/",
          "height": 51
        },
        "outputId": "e8e2c255-e859-490f-82d0-d2c3ff5a722a"
      },
      "source": [
        "dct = {}\n",
        "dct['1'] = (1,2)\n",
        "dct['2'] = (2,1)\n",
        "# Dispay the dictonary dct\n",
        "print(\"dct =\", dct)\n",
        "for x in dct.keys():\n",
        "  print(dct[x][1],end='')"
      ],
      "execution_count": 75,
      "outputs": [
        {
          "output_type": "stream",
          "text": [
            "dct = {'1': (1, 2), '2': (2, 1)}\n",
            "21"
          ],
          "name": "stdout"
        }
      ]
    },
    {
      "cell_type": "markdown",
      "metadata": {
        "id": "Qj7CI91lL-cL",
        "colab_type": "text"
      },
      "source": [
        "Q29. What is the output of the following snippet?\n",
        "```\n",
        "def fun(inp=2,out=3):\n",
        "  return inp * out\n",
        "print(fun(out=2))\n",
        "```\n",
        "1. 2\n",
        "2. the snippet is erroneous\n",
        "3. 6\n",
        "4. **4**"
      ]
    },
    {
      "cell_type": "code",
      "metadata": {
        "id": "eJWA4LFWMKSJ",
        "colab_type": "code",
        "colab": {
          "base_uri": "https://localhost:8080/",
          "height": 34
        },
        "outputId": "95ed2b13-e8cd-4a2f-c0a8-c7ad6426adea"
      },
      "source": [
        "def fun(inp=2,out=3):\n",
        "  return inp * out\n",
        "print(fun(out=2))"
      ],
      "execution_count": 76,
      "outputs": [
        {
          "output_type": "stream",
          "text": [
            "4\n"
          ],
          "name": "stdout"
        }
      ]
    }
  ]
}