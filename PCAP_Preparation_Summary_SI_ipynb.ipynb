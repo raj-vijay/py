{
  "nbformat": 4,
  "nbformat_minor": 0,
  "metadata": {
    "colab": {
      "name": "PCAP_Preparation_Summary_SI.ipynb.ipynb",
      "provenance": [],
      "authorship_tag": "ABX9TyM2j1vCCslKUCLP4buXTB7F",
      "include_colab_link": true
    },
    "kernelspec": {
      "name": "python3",
      "display_name": "Python 3"
    }
  },
  "cells": [
    {
      "cell_type": "markdown",
      "metadata": {
        "id": "view-in-github",
        "colab_type": "text"
      },
      "source": [
        "<a href=\"https://colab.research.google.com/github/raj-vijay/py/blob/master/PCAP_Preparation_Summary_SI_ipynb.ipynb\" target=\"_parent\"><img src=\"https://colab.research.google.com/assets/colab-badge.svg\" alt=\"Open In Colab\"/></a>"
      ]
    },
    {
      "cell_type": "markdown",
      "metadata": {
        "id": "Vf7DHNSRtm1S",
        "colab_type": "text"
      },
      "source": [
        "Q1. What is the output of the following snippet?\n",
        "\n",
        "```\n",
        "l1 = [1,2]\n",
        "for v in range(2):\n",
        "   l1.insert(-1,l1[v])\n",
        "print(l1)\n",
        "```\n",
        "\n",
        "\n",
        "\n",
        "1. [1, 2, 2, 2]\n",
        "2. **[1, 1, 1, 2]**\n",
        "3. [1, 2, 1, 2]\n",
        "4. [1, 1, 2, 2]"
      ]
    },
    {
      "cell_type": "code",
      "metadata": {
        "id": "-2L7ToPLtP0H",
        "colab_type": "code",
        "colab": {
          "base_uri": "https://localhost:8080/",
          "height": 34
        },
        "outputId": "f8cd6461-ad44-4f09-ce5b-2b285c3f0ca8"
      },
      "source": [
        "l1 = [1,2]\n",
        "for v in range(2):\n",
        "  l1.insert(-1,l1[v])\n",
        "print(l1)"
      ],
      "execution_count": 1,
      "outputs": [
        {
          "output_type": "stream",
          "text": [
            "[1, 1, 1, 2]\n"
          ],
          "name": "stdout"
        }
      ]
    },
    {
      "cell_type": "markdown",
      "metadata": {
        "id": "27A4A5Y9uVpz",
        "colab_type": "text"
      },
      "source": [
        "Q2. The meaning of a positional argument is determined by:\n",
        "\n",
        "1. the argument’s name specified along with its value\n",
        "2. its connection with existing variables\n",
        "3. its value\n",
        "4. **its position within the argument list**"
      ]
    },
    {
      "cell_type": "markdown",
      "metadata": {
        "id": "9Q0n1kYEucT4",
        "colab_type": "text"
      },
      "source": [
        "Q3. Which of the following sentences are true? Choose all that apply.\n",
        "\n",
        "```\n",
        "nums = [1,2,3]\n",
        "vals = nums\n",
        "```\n",
        "1. vals is longer than nums\n",
        "2. nums is longer than vals\n",
        "3. **nums and vals are different names of the same list**\n",
        "4. nums and vals are different lists"
      ]
    },
    {
      "cell_type": "code",
      "metadata": {
        "id": "MxXiCtm6ujYJ",
        "colab_type": "code",
        "colab": {}
      },
      "source": [
        "nums = [1,2,3]\n",
        "vals = nums"
      ],
      "execution_count": 0,
      "outputs": []
    },
    {
      "cell_type": "code",
      "metadata": {
        "id": "dZbiy-mVusnA",
        "colab_type": "code",
        "colab": {
          "base_uri": "https://localhost:8080/",
          "height": 34
        },
        "outputId": "3ac24dc7-2ce2-4a96-aca1-6a335d022502"
      },
      "source": [
        "# Length of nums\n",
        "len(nums)"
      ],
      "execution_count": 29,
      "outputs": [
        {
          "output_type": "execute_result",
          "data": {
            "text/plain": [
              "3"
            ]
          },
          "metadata": {
            "tags": []
          },
          "execution_count": 29
        }
      ]
    },
    {
      "cell_type": "code",
      "metadata": {
        "id": "njOtErEOu0Kr",
        "colab_type": "code",
        "colab": {
          "base_uri": "https://localhost:8080/",
          "height": 34
        },
        "outputId": "5732550d-3b03-4b60-fe4d-fb6f6e9088ad"
      },
      "source": [
        "# Length of vals\n",
        "len(vals)"
      ],
      "execution_count": 30,
      "outputs": [
        {
          "output_type": "execute_result",
          "data": {
            "text/plain": [
              "3"
            ]
          },
          "metadata": {
            "tags": []
          },
          "execution_count": 30
        }
      ]
    },
    {
      "cell_type": "code",
      "metadata": {
        "id": "2ioSQgC7u1AQ",
        "colab_type": "code",
        "colab": {}
      },
      "source": [
        "# Append to test is both lists are the same\n",
        "nums.append(4)"
      ],
      "execution_count": 0,
      "outputs": []
    },
    {
      "cell_type": "code",
      "metadata": {
        "id": "E0H71wqsu3XR",
        "colab_type": "code",
        "colab": {
          "base_uri": "https://localhost:8080/",
          "height": 34
        },
        "outputId": "81e135dc-1b5a-4bed-d114-1f551218a951"
      },
      "source": [
        "print(nums, vals)"
      ],
      "execution_count": 32,
      "outputs": [
        {
          "output_type": "stream",
          "text": [
            "[1, 2, 3, 4] [1, 2, 3, 4]\n"
          ],
          "name": "stdout"
        }
      ]
    },
    {
      "cell_type": "markdown",
      "metadata": {
        "id": "SrxXeNDmvDr1",
        "colab_type": "text"
      },
      "source": [
        "Q4. An operator able to check whether two values are not equal is coded as:\n",
        "\n",
        "1. not ==\n",
        "2. <>\n",
        "3. **!=**\n",
        "4. =/="
      ]
    },
    {
      "cell_type": "code",
      "metadata": {
        "id": "IU00dm8pvK9J",
        "colab_type": "code",
        "colab": {
          "base_uri": "https://localhost:8080/",
          "height": 34
        },
        "outputId": "329c9e9e-39a3-4487-c2c5-a38d15f2f649"
      },
      "source": [
        "if 1 != 2:\n",
        "  print(\" 1 is not equal to 2 and != is the not equal operator\")"
      ],
      "execution_count": 9,
      "outputs": [
        {
          "output_type": "stream",
          "text": [
            " 1 is not equal to 2 and != is the not equal operator\n"
          ],
          "name": "stdout"
        }
      ]
    },
    {
      "cell_type": "markdown",
      "metadata": {
        "id": "c7t4vj75vUnK",
        "colab_type": "text"
      },
      "source": [
        "Q5. The following snippet:\n",
        "\n",
        "```\n",
        "def func1(a):\n",
        "  return None\n",
        "def func2(a):\n",
        "  return func1(a)*func1(a)\n",
        "print(func2(2))\n",
        "```\n",
        "1. will output 2\n",
        "2. **will cause a runtime error**\n",
        "3. will output 4\n",
        "4. will output 16"
      ]
    },
    {
      "cell_type": "code",
      "metadata": {
        "id": "5dYrHlbov0-a",
        "colab_type": "code",
        "colab": {
          "base_uri": "https://localhost:8080/",
          "height": 316
        },
        "outputId": "c4e029fd-e056-4413-aec5-3e36c11258b7"
      },
      "source": [
        "# Returns TypeError: unsupported operand type(s) for *: 'NoneType' and 'NoneType'\n",
        "def func1(a):\n",
        "  return None\n",
        "def func2(a):\n",
        "  return func1(a)*func1(a)\n",
        "\n",
        "print(func2(2))"
      ],
      "execution_count": 10,
      "outputs": [
        {
          "output_type": "error",
          "ename": "TypeError",
          "evalue": "ignored",
          "traceback": [
            "\u001b[0;31m---------------------------------------------------------------------------\u001b[0m",
            "\u001b[0;31mTypeError\u001b[0m                                 Traceback (most recent call last)",
            "\u001b[0;32m<ipython-input-10-118366f92296>\u001b[0m in \u001b[0;36m<module>\u001b[0;34m()\u001b[0m\n\u001b[1;32m      4\u001b[0m   \u001b[0;32mreturn\u001b[0m \u001b[0mfunc1\u001b[0m\u001b[0;34m(\u001b[0m\u001b[0ma\u001b[0m\u001b[0;34m)\u001b[0m\u001b[0;34m*\u001b[0m\u001b[0mfunc1\u001b[0m\u001b[0;34m(\u001b[0m\u001b[0ma\u001b[0m\u001b[0;34m)\u001b[0m\u001b[0;34m\u001b[0m\u001b[0;34m\u001b[0m\u001b[0m\n\u001b[1;32m      5\u001b[0m \u001b[0;34m\u001b[0m\u001b[0m\n\u001b[0;32m----> 6\u001b[0;31m \u001b[0mprint\u001b[0m\u001b[0;34m(\u001b[0m\u001b[0mfunc2\u001b[0m\u001b[0;34m(\u001b[0m\u001b[0;36m2\u001b[0m\u001b[0;34m)\u001b[0m\u001b[0;34m)\u001b[0m\u001b[0;34m\u001b[0m\u001b[0;34m\u001b[0m\u001b[0m\n\u001b[0m",
            "\u001b[0;32m<ipython-input-10-118366f92296>\u001b[0m in \u001b[0;36mfunc2\u001b[0;34m(a)\u001b[0m\n\u001b[1;32m      2\u001b[0m   \u001b[0;32mreturn\u001b[0m \u001b[0;32mNone\u001b[0m\u001b[0;34m\u001b[0m\u001b[0;34m\u001b[0m\u001b[0m\n\u001b[1;32m      3\u001b[0m \u001b[0;32mdef\u001b[0m \u001b[0mfunc2\u001b[0m\u001b[0;34m(\u001b[0m\u001b[0ma\u001b[0m\u001b[0;34m)\u001b[0m\u001b[0;34m:\u001b[0m\u001b[0;34m\u001b[0m\u001b[0;34m\u001b[0m\u001b[0m\n\u001b[0;32m----> 4\u001b[0;31m   \u001b[0;32mreturn\u001b[0m \u001b[0mfunc1\u001b[0m\u001b[0;34m(\u001b[0m\u001b[0ma\u001b[0m\u001b[0;34m)\u001b[0m\u001b[0;34m*\u001b[0m\u001b[0mfunc1\u001b[0m\u001b[0;34m(\u001b[0m\u001b[0ma\u001b[0m\u001b[0;34m)\u001b[0m\u001b[0;34m\u001b[0m\u001b[0;34m\u001b[0m\u001b[0m\n\u001b[0m\u001b[1;32m      5\u001b[0m \u001b[0;34m\u001b[0m\u001b[0m\n\u001b[1;32m      6\u001b[0m \u001b[0mprint\u001b[0m\u001b[0;34m(\u001b[0m\u001b[0mfunc2\u001b[0m\u001b[0;34m(\u001b[0m\u001b[0;36m2\u001b[0m\u001b[0;34m)\u001b[0m\u001b[0;34m)\u001b[0m\u001b[0;34m\u001b[0m\u001b[0;34m\u001b[0m\u001b[0m\n",
            "\u001b[0;31mTypeError\u001b[0m: unsupported operand type(s) for *: 'NoneType' and 'NoneType'"
          ]
        }
      ]
    },
    {
      "cell_type": "markdown",
      "metadata": {
        "id": "P6CpvHl_wEZ5",
        "colab_type": "text"
      },
      "source": [
        "Q6. The result of the following division:\n",
        "\n",
        "`1 // 2`\n",
        "1. cannot be predicted\n",
        "2. is equal to 0.5\n",
        "3. is equal to 0.0\n",
        "4. **is equal to 0**"
      ]
    },
    {
      "cell_type": "code",
      "metadata": {
        "id": "nu3D2HEGwOQS",
        "colab_type": "code",
        "colab": {
          "base_uri": "https://localhost:8080/",
          "height": 34
        },
        "outputId": "854e1aa8-f8c8-4699-cbbd-e552a4cf5ed8"
      },
      "source": [
        "print(1//2)"
      ],
      "execution_count": 11,
      "outputs": [
        {
          "output_type": "stream",
          "text": [
            "0\n"
          ],
          "name": "stdout"
        }
      ]
    },
    {
      "cell_type": "markdown",
      "metadata": {
        "id": "3lpDDr8vwUPh",
        "colab_type": "text"
      },
      "source": [
        "Q7. The following snippet:\n",
        "\n",
        "```\n",
        "def func(a,b):  \n",
        "  return b ** a\n",
        "print(func(b=2,2))\n",
        "```\n",
        "1. will output 4\n",
        "2. **is erroneous**\n",
        "3. will return None\n",
        "4. will output 2"
      ]
    },
    {
      "cell_type": "code",
      "metadata": {
        "id": "wJfBR1DfwfRq",
        "colab_type": "code",
        "colab": {
          "base_uri": "https://localhost:8080/",
          "height": 129
        },
        "outputId": "87de7360-5574-4ae4-b21f-18527cd62afd"
      },
      "source": [
        "# The code returns SyntaxError: positional argument follows keyword argument\n",
        "\n",
        "def func(a,b):\n",
        "  return b ** a\n",
        "\n",
        "print(func(b=2,2))"
      ],
      "execution_count": 12,
      "outputs": [
        {
          "output_type": "error",
          "ename": "SyntaxError",
          "evalue": "ignored",
          "traceback": [
            "\u001b[0;36m  File \u001b[0;32m\"<ipython-input-12-c9a0a06fec99>\"\u001b[0;36m, line \u001b[0;32m4\u001b[0m\n\u001b[0;31m    print(func(b=2,2))\u001b[0m\n\u001b[0m                  ^\u001b[0m\n\u001b[0;31mSyntaxError\u001b[0m\u001b[0;31m:\u001b[0m positional argument follows keyword argument\n"
          ]
        }
      ]
    },
    {
      "cell_type": "markdown",
      "metadata": {
        "id": "JqTrrzn-wtSK",
        "colab_type": "text"
      },
      "source": [
        "Q8. What value will be assigned to the x variable?\n",
        "\n",
        "```\n",
        "z = 0\n",
        "y = 10\n",
        "x = y < z and z > y or y > z and z < y\n",
        "```\n",
        "\n",
        "\n",
        "\n",
        "1. 0\n",
        "2. False\n",
        "3. 1\n",
        "4. **True**"
      ]
    },
    {
      "cell_type": "code",
      "metadata": {
        "id": "9oEY3o_fw_C7",
        "colab_type": "code",
        "colab": {
          "base_uri": "https://localhost:8080/",
          "height": 34
        },
        "outputId": "88640bc6-277f-4923-c638-51df37c4af51"
      },
      "source": [
        "z = 0\n",
        "y = 10\n",
        "x = y < z and z > y or y > z and z < y\n",
        "\n",
        "print(x)"
      ],
      "execution_count": 13,
      "outputs": [
        {
          "output_type": "stream",
          "text": [
            "True\n"
          ],
          "name": "stdout"
        }
      ]
    },
    {
      "cell_type": "markdown",
      "metadata": {
        "id": "axAZ55l7xCkx",
        "colab_type": "text"
      },
      "source": [
        "Q9. One of the following variables’ names is illegal – which one?\n",
        "\n",
        "1. in_\n",
        "2. IN\n",
        "3. **in**\n",
        "4. In"
      ]
    },
    {
      "cell_type": "code",
      "metadata": {
        "id": "Y6m33dy1xJ3p",
        "colab_type": "code",
        "colab": {
          "base_uri": "https://localhost:8080/",
          "height": 129
        },
        "outputId": "8a07d0a1-37cb-4c52-e190-c654a3c65c25"
      },
      "source": [
        "# in is a keyword and returns SyntaxError: invalid syntax \n",
        "in = 2"
      ],
      "execution_count": 14,
      "outputs": [
        {
          "output_type": "error",
          "ename": "SyntaxError",
          "evalue": "ignored",
          "traceback": [
            "\u001b[0;36m  File \u001b[0;32m\"<ipython-input-14-06c327162209>\"\u001b[0;36m, line \u001b[0;32m2\u001b[0m\n\u001b[0;31m    in = 2\u001b[0m\n\u001b[0m     ^\u001b[0m\n\u001b[0;31mSyntaxError\u001b[0m\u001b[0;31m:\u001b[0m invalid syntax\n"
          ]
        }
      ]
    },
    {
      "cell_type": "markdown",
      "metadata": {
        "id": "2BmRMHr8xTCZ",
        "colab_type": "text"
      },
      "source": [
        "Q10. What is the output of the following snippet?\n",
        "\n",
        "```\n",
        "list =  [x*x for x in range(5)]\n",
        "def fun(L):\n",
        "  del L[L[2]]\n",
        "  return L\n",
        "    \n",
        "print(fun(list))\n",
        "```\n",
        "\n",
        "\n",
        "\n",
        "1. [0, 1, 4, 16]\n",
        "2. [1, 4, 9, 16]\n",
        "3. [0, 1, 4, 16]\n",
        "4. **[0, 1, 4, 9]**"
      ]
    },
    {
      "cell_type": "code",
      "metadata": {
        "id": "avqYE3N3xfJ0",
        "colab_type": "code",
        "colab": {
          "base_uri": "https://localhost:8080/",
          "height": 34
        },
        "outputId": "91f54e87-9a9f-43b1-8137-8349942f0aca"
      },
      "source": [
        "list =  [x*x for x in range(5)]\n",
        "def fun(L):\n",
        "  del L[L[2]]\n",
        "  return L\n",
        "    \n",
        "print(fun(list))"
      ],
      "execution_count": 15,
      "outputs": [
        {
          "output_type": "stream",
          "text": [
            "[0, 1, 4, 9]\n"
          ],
          "name": "stdout"
        }
      ]
    },
    {
      "cell_type": "markdown",
      "metadata": {
        "id": "Weg5b6ASyOw7",
        "colab_type": "text"
      },
      "source": [
        "Q11. What is the output of the following piece of code?\n",
        "\n",
        "```\n",
        "x=1\n",
        "y=2\n",
        "\n",
        "x, y, z = x, x, y\n",
        "z, y, z = x, y, z\n",
        "\n",
        "print(x,y,z)\n",
        "```\n",
        "1. 1 1 2\n",
        "2. 1 2 2\n",
        "3. 2 1 2\n",
        "4. 1 2 1"
      ]
    },
    {
      "cell_type": "code",
      "metadata": {
        "id": "GJ8fpkmfyaOK",
        "colab_type": "code",
        "colab": {
          "base_uri": "https://localhost:8080/",
          "height": 34
        },
        "outputId": "3baded56-3ff2-448b-fea3-3cd504a0f79a"
      },
      "source": [
        "x=1\n",
        "y=2\n",
        "\n",
        "x, y, z = x, x, y\n",
        "z, y, z = x, y, z\n",
        "\n",
        "print(x,y,z)"
      ],
      "execution_count": 17,
      "outputs": [
        {
          "output_type": "stream",
          "text": [
            "1 1 2\n"
          ],
          "name": "stdout"
        }
      ]
    },
    {
      "cell_type": "markdown",
      "metadata": {
        "id": "99fNyiP10zxQ",
        "colab_type": "text"
      },
      "source": [
        "Here, the expression on the Right Hand Side of the Equal is evaluated first, and in this case builds a tuple, and then the assignment operator unpacks the tuple."
      ]
    },
    {
      "cell_type": "markdown",
      "metadata": {
        "id": "sLYbY3xz1YoQ",
        "colab_type": "text"
      },
      "source": [
        "Q12. What will the output of the following snippet?\n",
        "\n",
        "    a = 1\n",
        "\n",
        "    b = 0\n",
        "\n",
        "    a = a ^ b\n",
        "\n",
        "    b = a ^ b\n",
        "\n",
        "    a = a ^ b\n",
        "\n",
        "    print(a,b)\n",
        "\n",
        "1. 0 1\n",
        "2. 1 0\n",
        "3. 0 0\n",
        "4. 1 1"
      ]
    },
    {
      "cell_type": "code",
      "metadata": {
        "id": "BmcNWzxL1oji",
        "colab_type": "code",
        "colab": {
          "base_uri": "https://localhost:8080/",
          "height": 34
        },
        "outputId": "dbb51e4a-0c8c-4dd1-c54e-0c5ad7eea45b"
      },
      "source": [
        "# Executing the below code to test the bitwise operator\n",
        "a = 1\n",
        "b = 0\n",
        "a = a ^ b\n",
        "b = a ^ b\n",
        "a = a ^ b\n",
        "\n",
        "print(a,b)"
      ],
      "execution_count": 33,
      "outputs": [
        {
          "output_type": "stream",
          "text": [
            "0 1\n"
          ],
          "name": "stdout"
        }
      ]
    },
    {
      "cell_type": "code",
      "metadata": {
        "id": "T5VaRhqy3n0q",
        "colab_type": "code",
        "colab": {
          "base_uri": "https://localhost:8080/",
          "height": 85
        },
        "outputId": "3ace7e81-f5a0-4be2-f27a-d3b31775b82e"
      },
      "source": [
        "# ^ is the Bitwise Exclusive Or\t\n",
        "# a ^ b\txor(a, b)\n",
        "print(\"0 ^ 0 = \", 0 ^ 0)\n",
        "print(\"1 ^ 0 = \", 1 ^ 0)\n",
        "print(\"0 ^ 1 = \", 0 ^ 1)\n",
        "print(\"1 ^ 1 = \", 1 ^ 1)"
      ],
      "execution_count": 25,
      "outputs": [
        {
          "output_type": "stream",
          "text": [
            "0 ^ 0 =  0\n",
            "1 ^ 0 =  1\n",
            "0 ^ 1 =  1\n",
            "1 ^ 1 =  0\n"
          ],
          "name": "stdout"
        }
      ]
    },
    {
      "cell_type": "markdown",
      "metadata": {
        "id": "qKP7lgGY49_K",
        "colab_type": "text"
      },
      "source": [
        "Q13. What is the output of the following snippet?\n",
        "\n",
        "```\n",
        "def fun(x):\n",
        "  if x % 2 == 0:\n",
        "    return 1\n",
        "  else:\n",
        "    return 2\n",
        "print(fun(fun(2)))\n",
        "```\n",
        "\n",
        "\n",
        "1. None\n",
        "2. 1\n",
        "3. the code will cause a runtime error\n",
        "4. **2**"
      ]
    },
    {
      "cell_type": "code",
      "metadata": {
        "id": "d1B1P0fU6ncS",
        "colab_type": "code",
        "colab": {
          "base_uri": "https://localhost:8080/",
          "height": 34
        },
        "outputId": "96427f2a-ebd9-4bac-d7f2-894d604c4927"
      },
      "source": [
        "def fun(x):\n",
        "  if x % 2 == 0:\n",
        "    return 1\n",
        "  else:\n",
        "    return 2\n",
        "print(fun(fun(2)))"
      ],
      "execution_count": 34,
      "outputs": [
        {
          "output_type": "stream",
          "text": [
            "2\n"
          ],
          "name": "stdout"
        }
      ]
    },
    {
      "cell_type": "markdown",
      "metadata": {
        "id": "vGyrpslI7CXi",
        "colab_type": "text"
      },
      "source": [
        "Q14. Take a look at the snippet and choose the true statement:\n",
        "\n",
        "```\n",
        "nums = [1,2,3]\n",
        "vals = nums\n",
        "del vals[:]\n",
        "```\n",
        "1. **nums and vals are different names of the same list**\n",
        "2. vals is longer than nums\n",
        "3. the snippet will cause a runtime error\n",
        "4. nums and vals are different lists"
      ]
    },
    {
      "cell_type": "code",
      "metadata": {
        "id": "Q_Hzq7HH7YFi",
        "colab_type": "code",
        "colab": {}
      },
      "source": [
        "# Executing the below source code\n",
        "nums = [1,2,3]\n",
        "vals = nums\n",
        "del vals[:]"
      ],
      "execution_count": 0,
      "outputs": []
    },
    {
      "cell_type": "code",
      "metadata": {
        "id": "asv2m2uW7dfA",
        "colab_type": "code",
        "colab": {
          "base_uri": "https://localhost:8080/",
          "height": 34
        },
        "outputId": "9f309538-1fee-421f-c085-39b66476f89c"
      },
      "source": [
        "print(nums, vals)"
      ],
      "execution_count": 36,
      "outputs": [
        {
          "output_type": "stream",
          "text": [
            "[] []\n"
          ],
          "name": "stdout"
        }
      ]
    },
    {
      "cell_type": "markdown",
      "metadata": {
        "id": "v5u4jaz17iDO",
        "colab_type": "text"
      },
      "source": [
        "Q15. What is the output of the following piece of code if the user enters two lines containing 3 and 2 respectively?\n",
        "\n",
        "```\n",
        "x=int(input())\n",
        "y=int(input())\n",
        "x = x % y\n",
        "x = x % y\n",
        "y = y % x\n",
        "print(y)\n",
        "```\n",
        "1. 2\n",
        "2. 1\n",
        "3. **0**\n",
        "4. 3"
      ]
    },
    {
      "cell_type": "code",
      "metadata": {
        "id": "0z_8PSdv76VS",
        "colab_type": "code",
        "colab": {
          "base_uri": "https://localhost:8080/",
          "height": 68
        },
        "outputId": "cc60c529-7184-44f7-b89a-205c92f1d333"
      },
      "source": [
        "x=int(input())\n",
        "y=int(input())\n",
        "x = x % y\n",
        "x = x % y\n",
        "y = y % x\n",
        "print(y)"
      ],
      "execution_count": 37,
      "outputs": [
        {
          "output_type": "stream",
          "text": [
            "3\n",
            "2\n",
            "0\n"
          ],
          "name": "stdout"
        }
      ]
    },
    {
      "cell_type": "markdown",
      "metadata": {
        "id": "ivBm4fQ578j4",
        "colab_type": "text"
      },
      "source": [
        "Q16. What is the output of the following piece of code if the user enters two lines containing 3 and 6 respectively?\n",
        "```\n",
        "y=input()\n",
        "x=input()\n",
        "print(x+y)\n",
        "```\n",
        "1. 6\n",
        "2. 3\n",
        "3. 36\n",
        "4. **63**"
      ]
    },
    {
      "cell_type": "code",
      "metadata": {
        "id": "pHxoaPjz8TRh",
        "colab_type": "code",
        "colab": {
          "base_uri": "https://localhost:8080/",
          "height": 68
        },
        "outputId": "ff4a6c6a-5d4c-4616-9c46-6998bb3969d1"
      },
      "source": [
        "y=input()\n",
        "x=input()\n",
        "print(x+y)"
      ],
      "execution_count": 40,
      "outputs": [
        {
          "output_type": "stream",
          "text": [
            "3\n",
            "6\n",
            "63\n"
          ],
          "name": "stdout"
        }
      ]
    }
  ]
}