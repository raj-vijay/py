{
  "nbformat": 4,
  "nbformat_minor": 0,
  "metadata": {
    "colab": {
      "name": "PCAP Preparation Notebook I.ipynb",
      "provenance": [],
      "collapsed_sections": [],
      "authorship_tag": "ABX9TyP+t4sH0Rlib+z0mLDEOIm3",
      "include_colab_link": true
    },
    "kernelspec": {
      "name": "python3",
      "display_name": "Python 3"
    }
  },
  "cells": [
    {
      "cell_type": "markdown",
      "metadata": {
        "id": "view-in-github",
        "colab_type": "text"
      },
      "source": [
        "<a href=\"https://colab.research.google.com/github/raj-vijay/py/blob/master/PCAP_Preparation_Notebook_I.ipynb\" target=\"_parent\"><img src=\"https://colab.research.google.com/assets/colab-badge.svg\" alt=\"Open In Colab\"/></a>"
      ]
    },
    {
      "cell_type": "markdown",
      "metadata": {
        "id": "uPuOvNfokFy5",
        "colab_type": "text"
      },
      "source": [
        "Q1. The \\n digraph forces the print() function to:\n",
        "\n",
        "1. output exactly two characters: \\ and n\n",
        "2. duplicate the character next to the digraph\n",
        "3. stop its execution\n",
        "4. **break the output line**"
      ]
    },
    {
      "cell_type": "code",
      "metadata": {
        "id": "sqyXa-eTkS_e",
        "colab_type": "code",
        "outputId": "dcaa93cc-4472-4a03-b5de-dce865d19429",
        "colab": {
          "base_uri": "https://localhost:8080/",
          "height": 51
        }
      },
      "source": [
        "print(\"Output I \\nOutput II\")"
      ],
      "execution_count": 0,
      "outputs": [
        {
          "output_type": "stream",
          "text": [
            "Output I \n",
            "Output II\n"
          ],
          "name": "stdout"
        }
      ]
    },
    {
      "cell_type": "markdown",
      "metadata": {
        "id": "JJAoyAo73Q2m",
        "colab_type": "text"
      },
      "source": [
        "Q2. The meaning of the keyword parameter is determined by:\n",
        "1. its position within the argument list\n",
        "2. its value\n",
        "3. its connection with existing variables\n",
        "4. **the argument’s name specified along with its value**"
      ]
    },
    {
      "cell_type": "code",
      "metadata": {
        "id": "-1IbIuD_hGMy",
        "colab_type": "code",
        "colab": {}
      },
      "source": [
        "# Simple function to calculate the roots of a quadratic equation a(x**2) + bx + c = 0\n",
        "from math import sqrt\n",
        "\n",
        "def quadratic(a, b, c):\n",
        "  x = -b + sqrt((b**2 - 4*a*c))\n",
        "  y = -b - sqrt((b**2 - 4*a*c))\n",
        "  return x, y"
      ],
      "execution_count": 0,
      "outputs": []
    },
    {
      "cell_type": "code",
      "metadata": {
        "id": "7kMCOBNMhlM5",
        "colab_type": "code",
        "outputId": "9c454780-cfca-4532-92f7-66e6db7f332f",
        "colab": {
          "base_uri": "https://localhost:8080/",
          "height": 34
        }
      },
      "source": [
        "# Positional parameters in Python. The function parameters are passed by virtue of their position during the call.\n",
        "x, y = quadratic(1, 10, 25)\n",
        "print(x, y)"
      ],
      "execution_count": 0,
      "outputs": [
        {
          "output_type": "stream",
          "text": [
            "-10.0 -10.0\n"
          ],
          "name": "stdout"
        }
      ]
    },
    {
      "cell_type": "code",
      "metadata": {
        "id": "3lNn4zdAiZ_m",
        "colab_type": "code",
        "outputId": "1439bc84-73d6-403f-8baa-dcce990f0cd8",
        "colab": {
          "base_uri": "https://localhost:8080/",
          "height": 34
        }
      },
      "source": [
        "# Keyword parameters in Python. The function parameters are passed by specifying the keywords during the call.\n",
        "x, y = quadratic(b = 10, a = 1, c = 25)\n",
        "print(x, y)"
      ],
      "execution_count": 0,
      "outputs": [
        {
          "output_type": "stream",
          "text": [
            "-10.0 -10.0\n"
          ],
          "name": "stdout"
        }
      ]
    },
    {
      "cell_type": "markdown",
      "metadata": {
        "id": "_mYb8Nyb4AE8",
        "colab_type": "text"
      },
      "source": [
        "Q3. The value twenty point twelve times ten raised to the power of eight should be written as:\n",
        "1. 20E12.8\n",
        "2. **20.12E8**\n",
        "3. 20.12*10^8\n",
        "4. 20.12E8.0"
      ]
    },
    {
      "cell_type": "code",
      "metadata": {
        "id": "2_ZBYwXl4JVZ",
        "colab_type": "code",
        "outputId": "9e554449-d8b0-4283-8f97-da349d40847b",
        "colab": {
          "base_uri": "https://localhost:8080/",
          "height": 34
        }
      },
      "source": [
        "#Uncomment the various lines to test the outputs\n",
        "\n",
        "# print(220E12.8)\n",
        "# Output E12.8 SyntaxError: invalid syntax\n",
        "\n",
        "print(20.12E8)\n",
        "# Correct Answer\n",
        "\n",
        "# print(20.12*10^8)\n",
        "# Output TypeError: unsupported operand type(s) for ^: 'float' and 'int'\n",
        "\n",
        "# print(20.12E8.0)\n",
        "# Output E8.0 SyntaxError: invalid syntax"
      ],
      "execution_count": 0,
      "outputs": [
        {
          "output_type": "stream",
          "text": [
            "2012000000.0\n"
          ],
          "name": "stdout"
        }
      ]
    },
    {
      "cell_type": "markdown",
      "metadata": {
        "id": "cN19e-0V5knS",
        "colab_type": "text"
      },
      "source": [
        "Q4. The 0o prefix means that the number after it is denoted as:\n",
        "1. decimal\n",
        "2. binary\n",
        "3. **octal**\n",
        "4. hexadecimal"
      ]
    },
    {
      "cell_type": "code",
      "metadata": {
        "id": "s12Qk9Nt55bZ",
        "colab_type": "code",
        "outputId": "b8d9734c-7d67-4bfc-bcb9-32ddf2baae70",
        "colab": {
          "base_uri": "https://localhost:8080/",
          "height": 34
        }
      },
      "source": [
        "print(0o10, 0o11, 0o12)"
      ],
      "execution_count": 0,
      "outputs": [
        {
          "output_type": "stream",
          "text": [
            "8 9 10\n"
          ],
          "name": "stdout"
        }
      ]
    },
    {
      "cell_type": "markdown",
      "metadata": {
        "id": "rYIG2ya66XN3",
        "colab_type": "text"
      },
      "source": [
        "Q5. The ** operator:\n",
        "1. **performs exponentiation**\n",
        "2. performs duplicated multiplication\n",
        "3. does not exist\n",
        "4. performs floating-point multiplication"
      ]
    },
    {
      "cell_type": "code",
      "metadata": {
        "id": "FZ-YvQAI6eVT",
        "colab_type": "code",
        "outputId": "34fed734-4111-4ee2-951d-395eecfdaacd",
        "colab": {
          "base_uri": "https://localhost:8080/",
          "height": 34
        }
      },
      "source": [
        "print(2**3)"
      ],
      "execution_count": 0,
      "outputs": [
        {
          "output_type": "stream",
          "text": [
            "8\n"
          ],
          "name": "stdout"
        }
      ]
    },
    {
      "cell_type": "markdown",
      "metadata": {
        "colab_type": "text",
        "id": "vt0jyPpd6wXb"
      },
      "source": [
        "Q6. The result of the following division: 1 / 1\n",
        "1. is equal to 1\n",
        "2. cannot be evaluated\n",
        "3. cannot be predicted\n",
        "4. **is equal to 1.0**"
      ]
    },
    {
      "cell_type": "code",
      "metadata": {
        "id": "yA0FcoNx6ydr",
        "colab_type": "code",
        "outputId": "dbddbcad-8ff3-4ba2-e59d-afba0c83deb4",
        "colab": {
          "base_uri": "https://localhost:8080/",
          "height": 34
        }
      },
      "source": [
        "print(1/1)"
      ],
      "execution_count": 0,
      "outputs": [
        {
          "output_type": "stream",
          "text": [
            "1.0\n"
          ],
          "name": "stdout"
        }
      ]
    },
    {
      "cell_type": "markdown",
      "metadata": {
        "id": "X333umZA600j",
        "colab_type": "text"
      },
      "source": [
        "Q7. Only one of the following statements is false – which one?\n",
        "1. multiplication precedes addition\n",
        "2. **the result of the / operator is always an integer value**\n",
        "3. the right argument of the % operator cannot be zero\n",
        "4. the ** operator uses right sided binding"
      ]
    },
    {
      "cell_type": "code",
      "metadata": {
        "id": "vBvyZMVX7MYd",
        "colab_type": "code",
        "outputId": "7f152bc1-00d7-473f-9843-174b16170ce6",
        "colab": {
          "base_uri": "https://localhost:8080/",
          "height": 85
        }
      },
      "source": [
        "# Multiplication precedes addition\n",
        "if (2*3+2) == 8:\n",
        "  print(\"Multiplication precedes addition\")\n",
        "else:\n",
        "  print(\"Addition precedes multiplication\")\n",
        "\n",
        "# The result of the / operator is always an integer value\n",
        "a = type(1/1)\n",
        "if a == 'int':\n",
        "  print(\"The result of the / operator is always an integer value\")\n",
        "else:\n",
        "  print(a)\n",
        "\n",
        "# The right argument of the % operator cannot be zero\n",
        "try:\n",
        "  print(5%0, \"The right argument of the % operator can be zero.\")\n",
        "except:\n",
        "  print(\"The right argument of the % operator cannot be zero.\")\n",
        "\n",
        "# The ** operator uses right sided binding\n",
        "print(10**-2, \"\")"
      ],
      "execution_count": 0,
      "outputs": [
        {
          "output_type": "stream",
          "text": [
            "Multiplication precedes addition\n",
            "<class 'float'>\n",
            "The right argument of the % operator cannot be zero.\n",
            "0.01 \n"
          ],
          "name": "stdout"
        }
      ]
    },
    {
      "cell_type": "markdown",
      "metadata": {
        "id": "cpzIkpruBp3i",
        "colab_type": "text"
      },
      "source": [
        "**Right-sided binding of the Power Operator (**)**\n",
        "\n",
        "In an unparenthesized sequence of power and unary operators, the operators are evaluated from right to left (this does not constrain the evaluation order for the operands): -1**2 results in -1."
      ]
    },
    {
      "cell_type": "markdown",
      "metadata": {
        "id": "f73zwM_ZB5_3",
        "colab_type": "text"
      },
      "source": [
        "**Operator Precedence**\n",
        "\n",
        "The following table summarizes the operator precedence in Python, from lowest precedence (least binding) to highest precedence (most binding). \n",
        "\n",
        "Operators in the same box have the same precedence. \n",
        "\n",
        "Unless the syntax is explicitly given, operators are binary. Operators in the same box group left to right (except for exponentiation, which groups from right to left).\n",
        "\n",
        "\n",
        "![alt text](https://raw.githubusercontent.com/raj-vijay/py/master/images/Operator%20precedence.jpg)\n",
        "\n",
        "\n",
        "5 - The % operator is also used for string formatting; the same precedence applies.\n",
        "\n",
        "6 - The power operator( ** ) binds less tightly than an arithmetic or bitwise unary operator on its right, that is, 2**-1 is 0.5."
      ]
    },
    {
      "cell_type": "markdown",
      "metadata": {
        "id": "pQ5Gdml8DLdZ",
        "colab_type": "text"
      },
      "source": [
        "Q8. Left‑sided binding determines that the result of the following expression 1 // 2 * 3 is equal to:\n",
        "1. 0.0\n",
        "2. 4.5\n",
        "3. **0**\n",
        "4. 0.16666666666666666"
      ]
    },
    {
      "cell_type": "code",
      "metadata": {
        "id": "8c97qyN8Djc-",
        "colab_type": "code",
        "outputId": "6e3461c5-4c8d-4aa9-ee41-a5c9ea5c9f86",
        "colab": {
          "base_uri": "https://localhost:8080/",
          "height": 51
        }
      },
      "source": [
        "print(\"Left binding :\", 1 // 2 * 3)\n",
        "print(\"Right binding: \", 1 // 0.666, \" - > Incorrect\")"
      ],
      "execution_count": 0,
      "outputs": [
        {
          "output_type": "stream",
          "text": [
            "Left binding : 0\n",
            "Right binding:  1.0  - > Incorrect\n"
          ],
          "name": "stdout"
        }
      ]
    },
    {
      "cell_type": "markdown",
      "metadata": {
        "id": "CZ1nZByQEAfj",
        "colab_type": "text"
      },
      "source": [
        "Q9. One of the following variables’ names is illegal – which one?\n",
        "1. true\n",
        "2. tRUE\n",
        "3. **True**\n",
        "4. TRUE"
      ]
    },
    {
      "cell_type": "code",
      "metadata": {
        "id": "P2_oYg3nEK8a",
        "colab_type": "code",
        "outputId": "70498f8e-4f7d-4a91-ad71-41b0d1283878",
        "colab": {
          "base_uri": "https://localhost:8080/",
          "height": 34
        }
      },
      "source": [
        "true = 1\n",
        "tRUE = 1\n",
        "# True = 1\n",
        "# Error : SyntaxError: can't assign to keyword \n",
        "TRUE = 1\n",
        "print(true, tRUE, True, TRUE)"
      ],
      "execution_count": 0,
      "outputs": [
        {
          "output_type": "stream",
          "text": [
            "1 1 True 1\n"
          ],
          "name": "stdout"
        }
      ]
    },
    {
      "cell_type": "markdown",
      "metadata": {
        "id": "euYdQ5lyEoxD",
        "colab_type": "text"
      },
      "source": [
        "Q10. The print() function can output values of:\n",
        "1. any number of arguments (excluding zero)\n",
        "2. just one argument\n",
        "3. **any number of arguments (including zero)**\n",
        "4. not more than five arguments"
      ]
    },
    {
      "cell_type": "code",
      "metadata": {
        "id": "4liI7QSrE-QC",
        "colab_type": "code",
        "outputId": "12334c0e-aa44-416e-a0c8-bd1b6cd8d931",
        "colab": {
          "base_uri": "https://localhost:8080/",
          "height": 34
        }
      },
      "source": [
        "print(0, 1, 2, 3, 4, 5, 6)"
      ],
      "execution_count": 0,
      "outputs": [
        {
          "output_type": "stream",
          "text": [
            "0 1 2 3 4 5 6\n"
          ],
          "name": "stdout"
        }
      ]
    },
    {
      "cell_type": "markdown",
      "metadata": {
        "id": "RXRjRtIiFCoE",
        "colab_type": "text"
      },
      "source": [
        "Q11. What is the output of the following snippet?\n",
        "\n",
        "```\n",
        "x=1\n",
        "y=2\n",
        "z=x\n",
        "x=y\n",
        "y=z\n",
        "print(x,y)\n",
        "```\n",
        "1. 1 2\n",
        "2. **2 1**\n",
        "3. 1 1\n",
        "4. 2 2"
      ]
    },
    {
      "cell_type": "code",
      "metadata": {
        "id": "VnuK_zNSFSMO",
        "colab_type": "code",
        "outputId": "254c4101-d891-42af-ad73-cf05d8a1c4b2",
        "colab": {
          "base_uri": "https://localhost:8080/",
          "height": 34
        }
      },
      "source": [
        "x=1\n",
        "y=2\n",
        "z=x\n",
        "x=y\n",
        "y=z\n",
        "print(x,y)"
      ],
      "execution_count": 0,
      "outputs": [
        {
          "output_type": "stream",
          "text": [
            "2 1\n"
          ],
          "name": "stdout"
        }
      ]
    },
    {
      "cell_type": "markdown",
      "metadata": {
        "id": "8L8P2NfDGgvy",
        "colab_type": "text"
      },
      "source": [
        "Q12. What is the output of the following snippet if the user enters two lines containing 2 and 4 respectively?\n",
        "```\n",
        "x=input()\n",
        "y=input()\n",
        "print(x+y)\n",
        "```\n",
        "1. 6\n",
        "2. **24**\n",
        "3. 4\n",
        "4. 2"
      ]
    },
    {
      "cell_type": "code",
      "metadata": {
        "id": "aXHU4DACGuNt",
        "colab_type": "code",
        "outputId": "cb166977-6d62-4a48-f51b-390bf436813c",
        "colab": {
          "base_uri": "https://localhost:8080/",
          "height": 68
        }
      },
      "source": [
        "x=input()\n",
        "y=input()\n",
        "print(x+y)"
      ],
      "execution_count": 0,
      "outputs": [
        {
          "output_type": "stream",
          "text": [
            "2\n",
            "4\n",
            "24\n"
          ],
          "name": "stdout"
        }
      ]
    },
    {
      "cell_type": "markdown",
      "metadata": {
        "id": "B0CpPRQGR2v2",
        "colab_type": "text"
      },
      "source": [
        "Q13. What is the output of the following snippet if the user enters two lines containing 2 and 4 respectively?\n",
        "```\n",
        "x=int(input())\n",
        "y=int(input())\n",
        "x=x//y\n",
        "y=y//x\n",
        "print(y)\n",
        "```\n",
        "1. 2.0\n",
        "2. **the code will cause a runtime error**\n",
        "3. 4.0\n",
        "4. 8.0"
      ]
    },
    {
      "cell_type": "code",
      "metadata": {
        "id": "S3ZzGnMYSEal",
        "colab_type": "code",
        "outputId": "01711733-3ef0-48f9-8892-3cc9811fd361",
        "colab": {
          "base_uri": "https://localhost:8080/",
          "height": 68
        }
      },
      "source": [
        "try:\n",
        "  x=int(input())\n",
        "  y=int(input())\n",
        "  x=x//y\n",
        "  y=y//x\n",
        "  print(y)\n",
        "except:\n",
        "  print(\"Code throws a runtime error.\")"
      ],
      "execution_count": 0,
      "outputs": [
        {
          "output_type": "stream",
          "text": [
            "2\n",
            "4\n",
            "Code throws a runtime error.\n"
          ],
          "name": "stdout"
        }
      ]
    },
    {
      "cell_type": "markdown",
      "metadata": {
        "id": "Q5brZbNUSNxe",
        "colab_type": "text"
      },
      "source": [
        "Q14. What is the output of the following piece of code if the user enters two lines containing 2 and 4 respectively?\n",
        "```\n",
        "x=int(input())\n",
        "y=int(input())\n",
        "x=x/y\n",
        "y=y/x\n",
        "print(y)\n",
        "```\n",
        "1. the code will cause a runtime error\n",
        "2. **8.0**\n",
        "3. 4.0\n",
        "4. 2.0"
      ]
    },
    {
      "cell_type": "code",
      "metadata": {
        "id": "xcOdpiRGTsDc",
        "colab_type": "code",
        "outputId": "168e2324-eb7d-4cdb-8df7-1fd2407db950",
        "colab": {
          "base_uri": "https://localhost:8080/",
          "height": 68
        }
      },
      "source": [
        "try:\n",
        "  x=int(input())\n",
        "  y=int(input())\n",
        "  x=x/y\n",
        "  y=y/x\n",
        "  print(y)\n",
        "except:\n",
        "  print(\"The code throws a runtime error.\")"
      ],
      "execution_count": 0,
      "outputs": [
        {
          "output_type": "stream",
          "text": [
            "2\n",
            "4\n",
            "8.0\n"
          ],
          "name": "stdout"
        }
      ]
    },
    {
      "cell_type": "markdown",
      "metadata": {
        "id": "8unH64M2T-kF",
        "colab_type": "text"
      },
      "source": [
        "Q15. What is the output of the following snippet if the user enters two lines containing 11 and 4 respectively?\n",
        "```\n",
        "x=int(input())\n",
        "y=int(input())\n",
        "x = x % y\n",
        "x = x % y\n",
        "y = y % x\n",
        "print(y)\n",
        "```\n",
        "1. 3\n",
        "2. 2\n",
        "3. **1**\n",
        "4. 4"
      ]
    },
    {
      "cell_type": "code",
      "metadata": {
        "id": "lt-GGwi9UXTz",
        "colab_type": "code",
        "outputId": "a3c78b18-161f-401f-e03a-5280489e097a",
        "colab": {
          "base_uri": "https://localhost:8080/",
          "height": 68
        }
      },
      "source": [
        "x=int(input())\n",
        "y=int(input())\n",
        "x = x % y\n",
        "x = x % y\n",
        "y = y % x\n",
        "print(y)"
      ],
      "execution_count": 0,
      "outputs": [
        {
          "output_type": "stream",
          "text": [
            "11\n",
            "4\n",
            "1\n"
          ],
          "name": "stdout"
        }
      ]
    },
    {
      "cell_type": "markdown",
      "metadata": {
        "id": "h201rIrxV5Fw",
        "colab_type": "text"
      },
      "source": [
        "Q16. What is the output of the following snippet if the user enters two lines containing 3 and 6 respectively?\n",
        "```\n",
        "x=input()\n",
        "y=int(input())\n",
        "print(x*y)\n",
        "```\n",
        "1. 36\n",
        "2. 18\n",
        "3. **333333**\n",
        "4. 666"
      ]
    },
    {
      "cell_type": "code",
      "metadata": {
        "id": "u8MqrP_fWbtD",
        "colab_type": "code",
        "outputId": "7cecae45-c74e-4270-dfc4-5c4a2cdb2ac2",
        "colab": {
          "base_uri": "https://localhost:8080/",
          "height": 68
        }
      },
      "source": [
        "x=input()\n",
        "y=int(input())\n",
        "print(x*y)"
      ],
      "execution_count": 0,
      "outputs": [
        {
          "output_type": "stream",
          "text": [
            "3\n",
            "6\n",
            "333333\n"
          ],
          "name": "stdout"
        }
      ]
    },
    {
      "cell_type": "markdown",
      "metadata": {
        "colab_type": "text",
        "id": "GG_GinqRXa7z"
      },
      "source": [
        "Q17. What is the output of the following snippet?\n",
        "```\n",
        "z = y = x = 1\n",
        "print(x,y,z,sep=’*’)\n",
        "```\n",
        "1. 1 1 1\n",
        "2. x y z\n",
        "3. **1 * 1 * 1**\n",
        "4. x*y*z"
      ]
    },
    {
      "cell_type": "code",
      "metadata": {
        "id": "lD1Ldha7Xmkw",
        "colab_type": "code",
        "outputId": "3da8589b-8916-4630-99cd-2bafd8941542",
        "colab": {
          "base_uri": "https://localhost:8080/",
          "height": 34
        }
      },
      "source": [
        "z = y = x = 1\n",
        "print(x,y,z,sep='*')"
      ],
      "execution_count": 0,
      "outputs": [
        {
          "output_type": "stream",
          "text": [
            "1*1*1\n"
          ],
          "name": "stdout"
        }
      ]
    },
    {
      "cell_type": "markdown",
      "metadata": {
        "id": "ViWKxPewXtiW",
        "colab_type": "text"
      },
      "source": [
        "Q18. What is the output of the following snippet?\n",
        "```\n",
        "x = 2 + 3 * 5.\n",
        "print(X)\n",
        "```\n",
        "1. **the snippet will cause an execution error**\n",
        "2. 17\n",
        "3. 17.0\n",
        "4. 25.0"
      ]
    },
    {
      "cell_type": "code",
      "metadata": {
        "id": "NLIbXvaCYDON",
        "colab_type": "code",
        "outputId": "cdc5ac7d-dbaa-4a14-d36f-596ec0a709ce",
        "colab": {
          "base_uri": "https://localhost:8080/",
          "height": 180
        }
      },
      "source": [
        "x = 2 + 3 * 5.\n",
        "print(X)"
      ],
      "execution_count": 0,
      "outputs": [
        {
          "output_type": "error",
          "ename": "NameError",
          "evalue": "ignored",
          "traceback": [
            "\u001b[0;31m---------------------------------------------------------------------------\u001b[0m",
            "\u001b[0;31mNameError\u001b[0m                                 Traceback (most recent call last)",
            "\u001b[0;32m<ipython-input-53-31b0c3453c9c>\u001b[0m in \u001b[0;36m<module>\u001b[0;34m()\u001b[0m\n\u001b[1;32m      1\u001b[0m \u001b[0mx\u001b[0m \u001b[0;34m=\u001b[0m \u001b[0;36m2\u001b[0m \u001b[0;34m+\u001b[0m \u001b[0;36m3\u001b[0m \u001b[0;34m*\u001b[0m \u001b[0;36m5.\u001b[0m\u001b[0;34m\u001b[0m\u001b[0;34m\u001b[0m\u001b[0m\n\u001b[0;32m----> 2\u001b[0;31m \u001b[0mprint\u001b[0m\u001b[0;34m(\u001b[0m\u001b[0mX\u001b[0m\u001b[0;34m)\u001b[0m\u001b[0;34m\u001b[0m\u001b[0;34m\u001b[0m\u001b[0m\n\u001b[0m",
            "\u001b[0;31mNameError\u001b[0m: name 'X' is not defined"
          ]
        }
      ]
    },
    {
      "cell_type": "markdown",
      "metadata": {
        "id": "Y92N4qDfYRMI",
        "colab_type": "text"
      },
      "source": [
        "Q19. What is the output of the following snippet?\n",
        "```\n",
        "x = 1 / 2 + 3 // 3 + 4 ** 2\n",
        "print(x)\n",
        "```\n",
        "1. 17\n",
        "2. **17.5**\n",
        "3. 8.5\n",
        "4. 8"
      ]
    },
    {
      "cell_type": "code",
      "metadata": {
        "id": "EDB5eJ0AYcWu",
        "colab_type": "code",
        "outputId": "0b5c29e0-f4f9-4acf-8a40-c3e3e6d83650",
        "colab": {
          "base_uri": "https://localhost:8080/",
          "height": 34
        }
      },
      "source": [
        "x = 1 / 2 + 3 // 3 + 4 ** 2\n",
        "print(x)"
      ],
      "execution_count": 0,
      "outputs": [
        {
          "output_type": "stream",
          "text": [
            "17.5\n"
          ],
          "name": "stdout"
        }
      ]
    },
    {
      "cell_type": "markdown",
      "metadata": {
        "id": "EjaifPABZuMw",
        "colab_type": "text"
      },
      "source": [
        "Q20. What is the output of the following snippet if the user enters two lines containing 2 and 4 respectively?\n",
        "```\n",
        "x=int(input())\n",
        "y=int(input())\n",
        "print(x+y)\n",
        "```\n",
        "1. 4\n",
        "2. 2\n",
        "3. 24\n",
        "4. **6**"
      ]
    },
    {
      "cell_type": "code",
      "metadata": {
        "id": "Qo-1n5MQacU-",
        "colab_type": "code",
        "outputId": "d661b703-d19f-447c-8016-ff534cf72fc7",
        "colab": {
          "base_uri": "https://localhost:8080/",
          "height": 68
        }
      },
      "source": [
        "x=int(input())\n",
        "y=int(input())\n",
        "print(x+y)"
      ],
      "execution_count": 0,
      "outputs": [
        {
          "output_type": "stream",
          "text": [
            "2\n",
            "4\n",
            "6\n"
          ],
          "name": "stdout"
        }
      ]
    }
  ]
}