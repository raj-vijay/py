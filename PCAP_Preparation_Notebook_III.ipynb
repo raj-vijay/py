{
  "nbformat": 4,
  "nbformat_minor": 0,
  "metadata": {
    "colab": {
      "name": "PCAP_Preparation_Notebook_III.ipynb",
      "provenance": [],
      "authorship_tag": "ABX9TyOLhpKxwBhcAzN6NGpPE6m9",
      "include_colab_link": true
    },
    "kernelspec": {
      "name": "python3",
      "display_name": "Python 3"
    }
  },
  "cells": [
    {
      "cell_type": "markdown",
      "metadata": {
        "id": "view-in-github",
        "colab_type": "text"
      },
      "source": [
        "<a href=\"https://colab.research.google.com/github/raj-vijay/py/blob/master/PCAP_Preparation_Notebook_III.ipynb\" target=\"_parent\"><img src=\"https://colab.research.google.com/assets/colab-badge.svg\" alt=\"Open In Colab\"/></a>"
      ]
    },
    {
      "cell_type": "markdown",
      "metadata": {
        "id": "RS0KZbg8QWEe",
        "colab_type": "text"
      },
      "source": [
        "Q1. Which of the following lines properly starts a parameterless function definition?\n",
        "1. function fun():\n",
        "2. def fun:\n",
        "3. fun function():\n",
        "4. def fun(): "
      ]
    },
    {
      "cell_type": "code",
      "metadata": {
        "id": "wmuqGlusP21T",
        "colab_type": "code",
        "outputId": "f4a947f4-323b-4916-def8-054d37189a68",
        "colab": {
          "base_uri": "https://localhost:8080/",
          "height": 34
        }
      },
      "source": [
        "def fun():\n",
        "  return True\n",
        "a = fun()\n",
        "print(a)"
      ],
      "execution_count": 0,
      "outputs": [
        {
          "output_type": "stream",
          "text": [
            "True\n"
          ],
          "name": "stdout"
        }
      ]
    },
    {
      "cell_type": "markdown",
      "metadata": {
        "id": "u_3nvyZpQpq1",
        "colab_type": "text"
      },
      "source": [
        "Q2. A function defined in the following way:\n",
        "```\n",
        "def function(x=0):\n",
        "  return x\n",
        "```\n",
        "1. **may be invoked without any argument, or with just one**\n",
        "2. must be invoked without arguments\n",
        "3. must be invoked with exactly one argument\n",
        "4. may be invoked with any number of arguments (including zero)"
      ]
    },
    {
      "cell_type": "code",
      "metadata": {
        "id": "tFp2vrj8Qz1h",
        "colab_type": "code",
        "outputId": "34cfbb97-e009-49b8-8a57-4c81bb2739cf",
        "colab": {
          "base_uri": "https://localhost:8080/",
          "height": 51
        }
      },
      "source": [
        "def function(x=0):\n",
        "  return x\n",
        "\n",
        "# Invoked with argument\n",
        "a = function(5)\n",
        "print(a)\n",
        "# Invoked without argument\n",
        "b = function()\n",
        "print(b)\n",
        "\n"
      ],
      "execution_count": 0,
      "outputs": [
        {
          "output_type": "stream",
          "text": [
            "5\n",
            "0\n"
          ],
          "name": "stdout"
        }
      ]
    },
    {
      "cell_type": "markdown",
      "metadata": {
        "id": "0lJgwsvcRaqC",
        "colab_type": "text"
      },
      "source": [
        "Q3. A built‑in function is a function which:\n",
        "1. has to be imported before use\n",
        "2. is hidden from programmers\n",
        "3. has been placed within your code by another programmer\n",
        "4. **comes with Python, and is an integral part of Python**"
      ]
    },
    {
      "cell_type": "code",
      "metadata": {
        "id": "MATgB7WNRqBx",
        "colab_type": "code",
        "outputId": "9346be37-b3ce-4b3e-ec1f-65b454a61be0",
        "colab": {
          "base_uri": "https://localhost:8080/",
          "height": 34
        }
      },
      "source": [
        "# Built-in function comes off the shelf with python\n",
        "print(\"This is a built in function.\")"
      ],
      "execution_count": 0,
      "outputs": [
        {
          "output_type": "stream",
          "text": [
            "This is a built in function.\n"
          ],
          "name": "stdout"
        }
      ]
    },
    {
      "cell_type": "markdown",
      "metadata": {
        "id": "owA1uuJ6R7ke",
        "colab_type": "text"
      },
      "source": [
        "Q4. The fact that tuples belong to sequence types means:\n",
        "1. they can be modified using the del instruction\n",
        "2. **they can be indexed and sliced like lists**\n",
        "3. they are actually lists\n",
        "4. they can be extended using the .append() method"
      ]
    },
    {
      "cell_type": "code",
      "metadata": {
        "id": "OYhm23ZqSNRG",
        "colab_type": "code",
        "outputId": "b2b5afd7-56cc-4a66-f982-8a3015c02df4",
        "colab": {
          "base_uri": "https://localhost:8080/",
          "height": 51
        }
      },
      "source": [
        "tup = (1, 2, 3)\n",
        "lst= [1, 2, 3]\n",
        "print(\"Tuple: \", tup)\n",
        "print(\"List: \", lst)"
      ],
      "execution_count": 0,
      "outputs": [
        {
          "output_type": "stream",
          "text": [
            "Tuple:  (1, 2, 3)\n",
            "List:  [1, 2, 3]\n"
          ],
          "name": "stdout"
        }
      ]
    },
    {
      "cell_type": "code",
      "metadata": {
        "id": "HQizGgEWTfT_",
        "colab_type": "code",
        "outputId": "cee14b4b-c371-4d7d-d834-4a8267a50541",
        "colab": {
          "base_uri": "https://localhost:8080/",
          "height": 180
        }
      },
      "source": [
        "# Returns an error - TypeError: 'tuple' object doesn't support item deletion\n",
        "del tup[0]\n",
        "print(tup)"
      ],
      "execution_count": 0,
      "outputs": [
        {
          "output_type": "error",
          "ename": "TypeError",
          "evalue": "ignored",
          "traceback": [
            "\u001b[0;31m---------------------------------------------------------------------------\u001b[0m",
            "\u001b[0;31mTypeError\u001b[0m                                 Traceback (most recent call last)",
            "\u001b[0;32m<ipython-input-21-81ceb7434e40>\u001b[0m in \u001b[0;36m<module>\u001b[0;34m()\u001b[0m\n\u001b[0;32m----> 1\u001b[0;31m \u001b[0;32mdel\u001b[0m \u001b[0mtup\u001b[0m\u001b[0;34m[\u001b[0m\u001b[0;36m0\u001b[0m\u001b[0;34m]\u001b[0m\u001b[0;34m\u001b[0m\u001b[0;34m\u001b[0m\u001b[0m\n\u001b[0m\u001b[1;32m      2\u001b[0m \u001b[0mprint\u001b[0m\u001b[0;34m(\u001b[0m\u001b[0mtup\u001b[0m\u001b[0;34m)\u001b[0m\u001b[0;34m\u001b[0m\u001b[0;34m\u001b[0m\u001b[0m\n",
            "\u001b[0;31mTypeError\u001b[0m: 'tuple' object doesn't support item deletion"
          ]
        }
      ]
    },
    {
      "cell_type": "code",
      "metadata": {
        "id": "gksrIH63HVvX",
        "colab_type": "code",
        "outputId": "e99b552f-8406-420e-975c-fd71c43bbb32",
        "colab": {
          "base_uri": "https://localhost:8080/",
          "height": 34
        }
      },
      "source": [
        "del lst[0]\n",
        "print(lst)"
      ],
      "execution_count": 0,
      "outputs": [
        {
          "output_type": "stream",
          "text": [
            "[2, 3]\n"
          ],
          "name": "stdout"
        }
      ]
    },
    {
      "cell_type": "code",
      "metadata": {
        "id": "OkrO-NgNTtts",
        "colab_type": "code",
        "outputId": "78d89bf2-f21f-411e-f6fd-b40ddc697be3",
        "colab": {
          "base_uri": "https://localhost:8080/",
          "height": 34
        }
      },
      "source": [
        "# Below section works and returns (2, 3) \n",
        "slice = tup[1:]\n",
        "print(slice)"
      ],
      "execution_count": 0,
      "outputs": [
        {
          "output_type": "stream",
          "text": [
            "(2, 3)\n"
          ],
          "name": "stdout"
        }
      ]
    },
    {
      "cell_type": "code",
      "metadata": {
        "id": "0vHf4FIjSghS",
        "colab_type": "code",
        "outputId": "8ffea531-e9ca-4d98-db9b-1b0c87614bb2",
        "colab": {
          "base_uri": "https://localhost:8080/",
          "height": 34
        }
      },
      "source": [
        "type(tup)"
      ],
      "execution_count": 0,
      "outputs": [
        {
          "output_type": "execute_result",
          "data": {
            "text/plain": [
              "tuple"
            ]
          },
          "metadata": {
            "tags": []
          },
          "execution_count": 25
        }
      ]
    },
    {
      "cell_type": "code",
      "metadata": {
        "id": "UrBWaBl2UNso",
        "colab_type": "code",
        "outputId": "f0567d8f-b977-47df-c5bc-ed21872b2767",
        "colab": {
          "base_uri": "https://localhost:8080/",
          "height": 34
        }
      },
      "source": [
        "type(lst)"
      ],
      "execution_count": 0,
      "outputs": [
        {
          "output_type": "execute_result",
          "data": {
            "text/plain": [
              "list"
            ]
          },
          "metadata": {
            "tags": []
          },
          "execution_count": 26
        }
      ]
    },
    {
      "cell_type": "code",
      "metadata": {
        "id": "FpLAKJSlTmF5",
        "colab_type": "code",
        "outputId": "2aac2a6b-c5ac-4127-8f0e-6ddab5f4e971",
        "colab": {
          "base_uri": "https://localhost:8080/",
          "height": 180
        }
      },
      "source": [
        "# Returns an error - AttributeError: 'tuple' object has no attribute 'append'\n",
        "append = tup.append(3)\n",
        "print(append)"
      ],
      "execution_count": 0,
      "outputs": [
        {
          "output_type": "error",
          "ename": "AttributeError",
          "evalue": "ignored",
          "traceback": [
            "\u001b[0;31m---------------------------------------------------------------------------\u001b[0m",
            "\u001b[0;31mAttributeError\u001b[0m                            Traceback (most recent call last)",
            "\u001b[0;32m<ipython-input-15-559716d3281a>\u001b[0m in \u001b[0;36m<module>\u001b[0;34m()\u001b[0m\n\u001b[0;32m----> 1\u001b[0;31m \u001b[0mappend\u001b[0m \u001b[0;34m=\u001b[0m \u001b[0mtup\u001b[0m\u001b[0;34m.\u001b[0m\u001b[0mappend\u001b[0m\u001b[0;34m(\u001b[0m\u001b[0;36m3\u001b[0m\u001b[0;34m)\u001b[0m\u001b[0;34m\u001b[0m\u001b[0;34m\u001b[0m\u001b[0m\n\u001b[0m\u001b[1;32m      2\u001b[0m \u001b[0mprint\u001b[0m\u001b[0;34m(\u001b[0m\u001b[0mappend\u001b[0m\u001b[0;34m)\u001b[0m\u001b[0;34m\u001b[0m\u001b[0;34m\u001b[0m\u001b[0m\n",
            "\u001b[0;31mAttributeError\u001b[0m: 'tuple' object has no attribute 'append'"
          ]
        }
      ]
    },
    {
      "cell_type": "markdown",
      "metadata": {
        "id": "ZLeAZQhJUR0n",
        "colab_type": "text"
      },
      "source": [
        "Q5. What is the output of the following snippet?\n",
        "```\n",
        "def f(x):\n",
        "  if x == 0:\n",
        "    return 0\n",
        "  return x + f(x – 1)\n",
        "print(f(3))\n",
        "```\n",
        "1. the code is erroneous\n",
        "2. 3\n",
        "3. 1\n",
        "4. **6**"
      ]
    },
    {
      "cell_type": "code",
      "metadata": {
        "id": "qnckHc0GUpcO",
        "colab_type": "code",
        "outputId": "3e58429c-973b-498e-dfaf-fdc9191a3864",
        "colab": {
          "base_uri": "https://localhost:8080/",
          "height": 34
        }
      },
      "source": [
        "def f(x):\n",
        "  if x == 0:\n",
        "    return 0\n",
        "  return x + f(x-1)\n",
        "\n",
        "print(f(3))"
      ],
      "execution_count": 0,
      "outputs": [
        {
          "output_type": "stream",
          "text": [
            "6\n"
          ],
          "name": "stdout"
        }
      ]
    },
    {
      "cell_type": "markdown",
      "metadata": {
        "id": "5x6aIQf8VJfJ",
        "colab_type": "text"
      },
      "source": [
        "Q6. What is the output of the following snippet?\n",
        "```\n",
        "def fun(x):\n",
        "  x += 1\n",
        "return x\n",
        "x = 2\n",
        "x = fun(x+1)\n",
        "print(x)\n",
        "```\n",
        "1. the code is erroneous\n",
        "2. **4**\n",
        "3. 5\n",
        "4. 3"
      ]
    },
    {
      "cell_type": "code",
      "metadata": {
        "id": "cnEiaostVgd-",
        "colab_type": "code",
        "outputId": "ea714411-f3b5-46e1-9f3f-1e0fb4e1d4b4",
        "colab": {
          "base_uri": "https://localhost:8080/",
          "height": 34
        }
      },
      "source": [
        "def fun(x):\n",
        "  x += 1\n",
        "  return x\n",
        "x = 2 \n",
        "x = fun(x+1) \n",
        "print(x)"
      ],
      "execution_count": 0,
      "outputs": [
        {
          "output_type": "stream",
          "text": [
            "4\n"
          ],
          "name": "stdout"
        }
      ]
    },
    {
      "cell_type": "markdown",
      "metadata": {
        "id": "Eze90I_kVwdh",
        "colab_type": "text"
      },
      "source": [
        "Q7. What code would you insert into the commented line to obtain the output that reads:\n",
        "a\n",
        "b\n",
        "c\n",
        "\n",
        "Code:\n",
        "```\n",
        "dct = { }\n",
        "lst = [‘a’,’b’,’c’,’d’]\n",
        "for i in range(len(lst) – 1):\n",
        "  dct[lst[i]] = ( lst[i], )\n",
        "  for i in sorted(dct.keys()):\n",
        "    k = dct[i]\n",
        "    # insert your code\n",
        "```\n",
        "1. **print(k[0])**\n",
        "2. print(k)\n",
        "3. print(k[“0”])\n",
        "4. print(k[‘0’])"
      ]
    },
    {
      "cell_type": "code",
      "metadata": {
        "id": "TNPE111nWHRm",
        "colab_type": "code",
        "outputId": "fb05a227-1c18-4cee-9140-1518f49a4263",
        "colab": {
          "base_uri": "https://localhost:8080/",
          "height": 68
        }
      },
      "source": [
        "dct = { }\n",
        "lst = ['a','b', 'c','d']\n",
        "for i in range(len(lst)-1):\n",
        "  dct[lst[i]] = (lst[i], )\n",
        "  for i in sorted(dct.keys()):\n",
        "    k = dct[i]\n",
        "  # insert your code\n",
        "  print(k[0])"
      ],
      "execution_count": 0,
      "outputs": [
        {
          "output_type": "stream",
          "text": [
            "a\n",
            "b\n",
            "c\n"
          ],
          "name": "stdout"
        }
      ]
    },
    {
      "cell_type": "markdown",
      "metadata": {
        "id": "jDzQcwHHeESy",
        "colab_type": "text"
      },
      "source": [
        "Q8. The following snippet:\n",
        "```\n",
        "def func(a,b):\n",
        "  return a ** a\n",
        "print(func(2))\n",
        "```\n",
        "1. will output 2\n",
        "2. **is erroneous**\n",
        "3. will return None\n",
        "4. will output 4"
      ]
    },
    {
      "cell_type": "code",
      "metadata": {
        "id": "LcXQ4dmEfKWJ",
        "colab_type": "code",
        "outputId": "a7fce541-834c-430c-c8d2-8f235d618b56",
        "colab": {
          "base_uri": "https://localhost:8080/",
          "height": 197
        }
      },
      "source": [
        "# The function will return an error. TypeError: func() missing 1 required positional argument: 'b'\n",
        "def func(a,b):\n",
        "  return a ** a\n",
        "\n",
        "print(func(2))"
      ],
      "execution_count": 0,
      "outputs": [
        {
          "output_type": "error",
          "ename": "TypeError",
          "evalue": "ignored",
          "traceback": [
            "\u001b[0;31m---------------------------------------------------------------------------\u001b[0m",
            "\u001b[0;31mTypeError\u001b[0m                                 Traceback (most recent call last)",
            "\u001b[0;32m<ipython-input-42-a785023f4267>\u001b[0m in \u001b[0;36m<module>\u001b[0;34m()\u001b[0m\n\u001b[1;32m      2\u001b[0m   \u001b[0;32mreturn\u001b[0m \u001b[0ma\u001b[0m \u001b[0;34m**\u001b[0m \u001b[0ma\u001b[0m\u001b[0;34m\u001b[0m\u001b[0;34m\u001b[0m\u001b[0m\n\u001b[1;32m      3\u001b[0m \u001b[0;34m\u001b[0m\u001b[0m\n\u001b[0;32m----> 4\u001b[0;31m \u001b[0mprint\u001b[0m\u001b[0;34m(\u001b[0m\u001b[0mfunc\u001b[0m\u001b[0;34m(\u001b[0m\u001b[0;36m2\u001b[0m\u001b[0;34m)\u001b[0m\u001b[0;34m)\u001b[0m\u001b[0;34m\u001b[0m\u001b[0;34m\u001b[0m\u001b[0m\n\u001b[0m",
            "\u001b[0;31mTypeError\u001b[0m: func() missing 1 required positional argument: 'b'"
          ]
        }
      ]
    },
    {
      "cell_type": "markdown",
      "metadata": {
        "id": "HRJ8ki6gfdQF",
        "colab_type": "text"
      },
      "source": [
        "Q9. The following snippet:\n",
        "```\n",
        "def func1(a):\n",
        "  return a ** a\n",
        "def func2(a):\n",
        "  return func1(a)*func1(a)\n",
        "print(func2(2))\n",
        "```\n",
        "1. is erroneous\n",
        "2. will output 2\n",
        "3. will output 4\n",
        "4. **will output 16** "
      ]
    },
    {
      "cell_type": "code",
      "metadata": {
        "id": "IYCMQ5jJfn4Z",
        "colab_type": "code",
        "outputId": "caee3ccc-3f53-4162-9ec7-435b2c35a71a",
        "colab": {
          "base_uri": "https://localhost:8080/",
          "height": 34
        }
      },
      "source": [
        "def func1(a):\n",
        "  return a ** a\n",
        "def func2(a): \n",
        "  return func1(a)*func1(a)\n",
        "\n",
        "print(func2(2))"
      ],
      "execution_count": 0,
      "outputs": [
        {
          "output_type": "stream",
          "text": [
            "16\n"
          ],
          "name": "stdout"
        }
      ]
    },
    {
      "cell_type": "markdown",
      "metadata": {
        "id": "18CbM0vN_p7y",
        "colab_type": "text"
      },
      "source": [
        "Q10. Which of the following lines properly starts a function using two parameters, both with zeroed default values?\n",
        "\n",
        "1. def fun(a=b=0):\n",
        "2. fun fun(a,b=0):\n",
        "3. fun fun(a=0,b):\n",
        "4. **def fun(a=0,b=0)**: "
      ]
    },
    {
      "cell_type": "code",
      "metadata": {
        "id": "ITzYnHxcABEt",
        "colab_type": "code",
        "outputId": "c0b9b73e-65d4-4110-a229-63bbcb0ae8ea",
        "colab": {
          "base_uri": "https://localhost:8080/",
          "height": 34
        }
      },
      "source": [
        "def fun(a=0,b=0):\n",
        "  return a, b\n",
        "\n",
        "x, y = fun()\n",
        "print(x, y)"
      ],
      "execution_count": 0,
      "outputs": [
        {
          "output_type": "stream",
          "text": [
            "0 0\n"
          ],
          "name": "stdout"
        }
      ]
    },
    {
      "cell_type": "markdown",
      "metadata": {
        "id": "GGS0DFU9ATny",
        "colab_type": "text"
      },
      "source": [
        "Q11. Which of the following statements is false?\n",
        "1. The None value cannot be used as an argument of arithmetic operators\n",
        "2. The None value can be assigned to variables\n",
        "3. **The None value may not be used outside functions**\n",
        "4. The None value can be compared with variables"
      ]
    },
    {
      "cell_type": "code",
      "metadata": {
        "id": "wWHbPybuAdmV",
        "colab_type": "code",
        "outputId": "98a8c28e-18e9-4780-8f34-dd7146ddb80a",
        "colab": {
          "base_uri": "https://localhost:8080/",
          "height": 180
        }
      },
      "source": [
        "# The below returns TypeError: unsupported operand type(s) for +: 'int' and 'NoneType'\n",
        "a = 10 + None\n",
        "print(a)"
      ],
      "execution_count": 0,
      "outputs": [
        {
          "output_type": "error",
          "ename": "TypeError",
          "evalue": "ignored",
          "traceback": [
            "\u001b[0;31m---------------------------------------------------------------------------\u001b[0m",
            "\u001b[0;31mTypeError\u001b[0m                                 Traceback (most recent call last)",
            "\u001b[0;32m<ipython-input-47-ec85be8b9fd0>\u001b[0m in \u001b[0;36m<module>\u001b[0;34m()\u001b[0m\n\u001b[0;32m----> 1\u001b[0;31m \u001b[0ma\u001b[0m \u001b[0;34m=\u001b[0m \u001b[0;36m10\u001b[0m \u001b[0;34m+\u001b[0m \u001b[0;32mNone\u001b[0m\u001b[0;34m\u001b[0m\u001b[0;34m\u001b[0m\u001b[0m\n\u001b[0m\u001b[1;32m      2\u001b[0m \u001b[0mprint\u001b[0m\u001b[0;34m(\u001b[0m\u001b[0ma\u001b[0m\u001b[0;34m)\u001b[0m\u001b[0;34m\u001b[0m\u001b[0;34m\u001b[0m\u001b[0m\n",
            "\u001b[0;31mTypeError\u001b[0m: unsupported operand type(s) for +: 'int' and 'NoneType'"
          ]
        }
      ]
    },
    {
      "cell_type": "code",
      "metadata": {
        "id": "ZkDyz5CPAuvX",
        "colab_type": "code",
        "outputId": "d19d4389-0fe8-4deb-e8d5-03e62aad60e5",
        "colab": {
          "base_uri": "https://localhost:8080/",
          "height": 34
        }
      },
      "source": [
        "a = None\n",
        "print(None)"
      ],
      "execution_count": 0,
      "outputs": [
        {
          "output_type": "stream",
          "text": [
            "None\n"
          ],
          "name": "stdout"
        }
      ]
    },
    {
      "cell_type": "code",
      "metadata": {
        "id": "Wgwb9x08AyS-",
        "colab_type": "code",
        "outputId": "e3647e02-027b-4c29-b3b8-ffdb9e719936",
        "colab": {
          "base_uri": "https://localhost:8080/",
          "height": 34
        }
      },
      "source": [
        "# Using None value inside and outside functions\n",
        "def fun():\n",
        "  return None\n",
        "\n",
        "a = fun()\n",
        "b = None\n",
        "\n",
        "print(a, b)"
      ],
      "execution_count": 0,
      "outputs": [
        {
          "output_type": "stream",
          "text": [
            "None None\n"
          ],
          "name": "stdout"
        }
      ]
    },
    {
      "cell_type": "code",
      "metadata": {
        "id": "zNgL775tA4qW",
        "colab_type": "code",
        "outputId": "734e4830-2dbc-4ab5-f660-609be69f5634",
        "colab": {
          "base_uri": "https://localhost:8080/",
          "height": 34
        }
      },
      "source": [
        "# None used for comparing variables\n",
        "a = None\n",
        "if a == None:\n",
        "  print(True)"
      ],
      "execution_count": 0,
      "outputs": [
        {
          "output_type": "stream",
          "text": [
            "True\n"
          ],
          "name": "stdout"
        }
      ]
    },
    {
      "cell_type": "markdown",
      "metadata": {
        "id": "H7R95FCOBnu5",
        "colab_type": "text"
      },
      "source": [
        "Q12. What is the output of the following snippet?\n",
        "```\n",
        "def fun(x):\n",
        "  if x % 2 == 0:\n",
        "    return 1\n",
        "  else:\n",
        "    return\n",
        "print(fun(fun(2)) + 1)\n",
        "```\n",
        "1. **the code will cause a runtime error**\n",
        "2. 1\n",
        "3. None\n",
        "4. 2"
      ]
    },
    {
      "cell_type": "code",
      "metadata": {
        "id": "O5iGdVhKBTLT",
        "colab_type": "code",
        "outputId": "5df54e91-fdc6-458d-c990-f8c581cbd8e5",
        "colab": {
          "base_uri": "https://localhost:8080/",
          "height": 197
        }
      },
      "source": [
        "def fun(x):\n",
        "  if x % 2 == 0:\n",
        "    return 1\n",
        "  else:\n",
        "    return\n",
        "\n",
        "print(fun(fun(2)) + 1)"
      ],
      "execution_count": 0,
      "outputs": [
        {
          "output_type": "error",
          "ename": "TypeError",
          "evalue": "ignored",
          "traceback": [
            "\u001b[0;31m---------------------------------------------------------------------------\u001b[0m",
            "\u001b[0;31mTypeError\u001b[0m                                 Traceback (most recent call last)",
            "\u001b[0;32m<ipython-input-52-4e779dc7a0c3>\u001b[0m in \u001b[0;36m<module>\u001b[0;34m()\u001b[0m\n\u001b[1;32m      5\u001b[0m     \u001b[0;32mreturn\u001b[0m\u001b[0;34m\u001b[0m\u001b[0;34m\u001b[0m\u001b[0m\n\u001b[1;32m      6\u001b[0m \u001b[0;34m\u001b[0m\u001b[0m\n\u001b[0;32m----> 7\u001b[0;31m \u001b[0mprint\u001b[0m\u001b[0;34m(\u001b[0m\u001b[0mfun\u001b[0m\u001b[0;34m(\u001b[0m\u001b[0mfun\u001b[0m\u001b[0;34m(\u001b[0m\u001b[0;36m2\u001b[0m\u001b[0;34m)\u001b[0m\u001b[0;34m)\u001b[0m \u001b[0;34m+\u001b[0m \u001b[0;36m1\u001b[0m\u001b[0;34m)\u001b[0m\u001b[0;34m\u001b[0m\u001b[0;34m\u001b[0m\u001b[0m\n\u001b[0m",
            "\u001b[0;31mTypeError\u001b[0m: unsupported operand type(s) for +: 'NoneType' and 'int'"
          ]
        }
      ]
    },
    {
      "cell_type": "markdown",
      "metadata": {
        "id": "AMfT41lXBxaR",
        "colab_type": "text"
      },
      "source": [
        "Q13. What is the output of the following snippet?\n",
        "```\n",
        "def fun(x):\n",
        "  global y\n",
        "  y = x * x\n",
        "  return y\n",
        "fun(2)\n",
        "print(y)\n",
        "```\n",
        "1. 2\n",
        "2. **4**\n",
        "3. None\n",
        "4. the code will cause a runtime error"
      ]
    },
    {
      "cell_type": "code",
      "metadata": {
        "id": "GUEXqbPYCFPZ",
        "colab_type": "code",
        "outputId": "05d9e68b-c92c-4bcd-b4a1-8cf9ef2dc6dc",
        "colab": {
          "base_uri": "https://localhost:8080/",
          "height": 34
        }
      },
      "source": [
        "def fun(x):\n",
        "  global y\n",
        "  y = x * x\n",
        "  return y\n",
        "\n",
        "fun(2)\n",
        "print(y)"
      ],
      "execution_count": 0,
      "outputs": [
        {
          "output_type": "stream",
          "text": [
            "4\n"
          ],
          "name": "stdout"
        }
      ]
    },
    {
      "cell_type": "markdown",
      "metadata": {
        "id": "CdNkYafjnaoX",
        "colab_type": "text"
      },
      "source": [
        "Q14. What is the output of the following snippet?\n",
        "```\n",
        "def any():\n",
        "  print(var + 1,end=”)\n",
        "  var = 1\n",
        "any()\n",
        "print(var)\n",
        "```\n",
        "1. 22\n",
        "2. **21**\n",
        "3. 11\n",
        "4. 12"
      ]
    },
    {
      "cell_type": "code",
      "metadata": {
        "id": "xdSb4rWJruww",
        "colab_type": "code",
        "outputId": "206cff5b-1a7d-4780-9098-b504c9c0d4df",
        "colab": {
          "base_uri": "https://localhost:8080/",
          "height": 34
        }
      },
      "source": [
        "def any():\n",
        "  print(var + 1,end='')\n",
        "var = 1\n",
        "any()  \n",
        "print(var)"
      ],
      "execution_count": 0,
      "outputs": [
        {
          "output_type": "stream",
          "text": [
            "21\n"
          ],
          "name": "stdout"
        }
      ]
    },
    {
      "cell_type": "markdown",
      "metadata": {
        "id": "aQHWooP7y3Jl",
        "colab_type": "text"
      },
      "source": [
        "Q15. Assuming that tuple is a correctly created tuple, the fact that tuples are immutable means that the following instruction:\n",
        "```\n",
        "tuple[1] = tuple[1] + tuple[0]\n",
        "```\n",
        "1. **is illegal**\n",
        "2. is fully correct\n",
        "3. can be executed if and only if the tuple contains at least two elements\n",
        "4. may be illegal if the tuple contains strings"
      ]
    },
    {
      "cell_type": "code",
      "metadata": {
        "id": "QGJwyWkXzUnO",
        "colab_type": "code",
        "outputId": "546f7fd9-1708-4425-8ced-690fdd3ee1ee",
        "colab": {
          "base_uri": "https://localhost:8080/",
          "height": 180
        }
      },
      "source": [
        "# TypeError: 'tuple' object does not support item assignment\n",
        "tuple = (1, 2, 3)\n",
        "tuple[1] = tuple[1] + tuple[0]"
      ],
      "execution_count": 0,
      "outputs": [
        {
          "output_type": "error",
          "ename": "TypeError",
          "evalue": "ignored",
          "traceback": [
            "\u001b[0;31m---------------------------------------------------------------------------\u001b[0m",
            "\u001b[0;31mTypeError\u001b[0m                                 Traceback (most recent call last)",
            "\u001b[0;32m<ipython-input-12-e3066a90c1d0>\u001b[0m in \u001b[0;36m<module>\u001b[0;34m()\u001b[0m\n\u001b[1;32m      1\u001b[0m \u001b[0mtuple\u001b[0m \u001b[0;34m=\u001b[0m \u001b[0;34m(\u001b[0m\u001b[0;36m1\u001b[0m\u001b[0;34m,\u001b[0m \u001b[0;36m2\u001b[0m\u001b[0;34m,\u001b[0m \u001b[0;36m3\u001b[0m\u001b[0;34m)\u001b[0m\u001b[0;34m\u001b[0m\u001b[0;34m\u001b[0m\u001b[0m\n\u001b[0;32m----> 2\u001b[0;31m \u001b[0mtuple\u001b[0m\u001b[0;34m[\u001b[0m\u001b[0;36m1\u001b[0m\u001b[0;34m]\u001b[0m \u001b[0;34m=\u001b[0m \u001b[0mtuple\u001b[0m\u001b[0;34m[\u001b[0m\u001b[0;36m1\u001b[0m\u001b[0;34m]\u001b[0m \u001b[0;34m+\u001b[0m \u001b[0mtuple\u001b[0m\u001b[0;34m[\u001b[0m\u001b[0;36m0\u001b[0m\u001b[0;34m]\u001b[0m\u001b[0;34m\u001b[0m\u001b[0;34m\u001b[0m\u001b[0m\n\u001b[0m",
            "\u001b[0;31mTypeError\u001b[0m: 'tuple' object does not support item assignment"
          ]
        }
      ]
    },
    {
      "cell_type": "markdown",
      "metadata": {
        "id": "SMUcjXMLz55m",
        "colab_type": "text"
      },
      "source": [
        "Q16. What is the output of the following snippet?\n",
        "```\n",
        "list = [‘Mary’, ‘had’, ‘a’, ‘little’, ‘lamb’]\n",
        "def list(L):\n",
        "del L[3]\n",
        "L[3] = ‘ram’\n",
        "print(list(list))\n",
        "```\n",
        "1. [‘Mary’, ‘had’, ‘a’, ‘ram’]\n",
        "2. [‘Mary’, ‘had’, ‘a’, ‘little’, ‘lamb’]\n",
        "3. **the snippet is erroneous**\n",
        "4. [‘Mary’, ‘had’, ‘a’, ‘lamb’]"
      ]
    },
    {
      "cell_type": "code",
      "metadata": {
        "id": "R4UtadEyE4Ef",
        "colab_type": "code",
        "outputId": "45e2173c-c579-46ee-d8fd-adb46e795a9b",
        "colab": {
          "base_uri": "https://localhost:8080/",
          "height": 316
        }
      },
      "source": [
        "list = ['Mary', 'had', 'a', 'little', 'lamb']\n",
        "def list(L):\n",
        "  del L[3]\n",
        "  L[3] = 'ram'\n",
        "print(list(list))"
      ],
      "execution_count": 0,
      "outputs": [
        {
          "output_type": "error",
          "ename": "TypeError",
          "evalue": "ignored",
          "traceback": [
            "\u001b[0;31m---------------------------------------------------------------------------\u001b[0m",
            "\u001b[0;31mTypeError\u001b[0m                                 Traceback (most recent call last)",
            "\u001b[0;32m<ipython-input-36-89de8c3854f3>\u001b[0m in \u001b[0;36m<module>\u001b[0;34m()\u001b[0m\n\u001b[1;32m      3\u001b[0m   \u001b[0;32mdel\u001b[0m \u001b[0mL\u001b[0m\u001b[0;34m[\u001b[0m\u001b[0;36m3\u001b[0m\u001b[0;34m]\u001b[0m\u001b[0;34m\u001b[0m\u001b[0;34m\u001b[0m\u001b[0m\n\u001b[1;32m      4\u001b[0m   \u001b[0mL\u001b[0m\u001b[0;34m[\u001b[0m\u001b[0;36m3\u001b[0m\u001b[0;34m]\u001b[0m \u001b[0;34m=\u001b[0m \u001b[0;34m'ram'\u001b[0m\u001b[0;34m\u001b[0m\u001b[0;34m\u001b[0m\u001b[0m\n\u001b[0;32m----> 5\u001b[0;31m \u001b[0mprint\u001b[0m\u001b[0;34m(\u001b[0m\u001b[0mlist\u001b[0m\u001b[0;34m(\u001b[0m\u001b[0mlist\u001b[0m\u001b[0;34m)\u001b[0m\u001b[0;34m)\u001b[0m\u001b[0;34m\u001b[0m\u001b[0;34m\u001b[0m\u001b[0m\n\u001b[0m",
            "\u001b[0;32m<ipython-input-36-89de8c3854f3>\u001b[0m in \u001b[0;36mlist\u001b[0;34m(L)\u001b[0m\n\u001b[1;32m      1\u001b[0m \u001b[0mlist\u001b[0m \u001b[0;34m=\u001b[0m \u001b[0;34m[\u001b[0m\u001b[0;34m'Mary'\u001b[0m\u001b[0;34m,\u001b[0m \u001b[0;34m'had'\u001b[0m\u001b[0;34m,\u001b[0m \u001b[0;34m'a'\u001b[0m\u001b[0;34m,\u001b[0m \u001b[0;34m'little'\u001b[0m\u001b[0;34m,\u001b[0m \u001b[0;34m'lamb'\u001b[0m\u001b[0;34m]\u001b[0m\u001b[0;34m\u001b[0m\u001b[0;34m\u001b[0m\u001b[0m\n\u001b[1;32m      2\u001b[0m \u001b[0;32mdef\u001b[0m \u001b[0mlist\u001b[0m\u001b[0;34m(\u001b[0m\u001b[0mL\u001b[0m\u001b[0;34m)\u001b[0m\u001b[0;34m:\u001b[0m\u001b[0;34m\u001b[0m\u001b[0;34m\u001b[0m\u001b[0m\n\u001b[0;32m----> 3\u001b[0;31m   \u001b[0;32mdel\u001b[0m \u001b[0mL\u001b[0m\u001b[0;34m[\u001b[0m\u001b[0;36m3\u001b[0m\u001b[0;34m]\u001b[0m\u001b[0;34m\u001b[0m\u001b[0;34m\u001b[0m\u001b[0m\n\u001b[0m\u001b[1;32m      4\u001b[0m   \u001b[0mL\u001b[0m\u001b[0;34m[\u001b[0m\u001b[0;36m3\u001b[0m\u001b[0;34m]\u001b[0m \u001b[0;34m=\u001b[0m \u001b[0;34m'ram'\u001b[0m\u001b[0;34m\u001b[0m\u001b[0;34m\u001b[0m\u001b[0m\n\u001b[1;32m      5\u001b[0m \u001b[0mprint\u001b[0m\u001b[0;34m(\u001b[0m\u001b[0mlist\u001b[0m\u001b[0;34m(\u001b[0m\u001b[0mlist\u001b[0m\u001b[0;34m)\u001b[0m\u001b[0;34m)\u001b[0m\u001b[0;34m\u001b[0m\u001b[0;34m\u001b[0m\u001b[0m\n",
            "\u001b[0;31mTypeError\u001b[0m: 'function' object does not support item deletion"
          ]
        }
      ]
    },
    {
      "cell_type": "markdown",
      "metadata": {
        "id": "j-oENGHQJATP",
        "colab_type": "text"
      },
      "source": [
        "Q17. What is the output of the following snippet?\n",
        "```\n",
        "def fun(x,y,z):\n",
        "  return x+2*y+3*z\n",
        "print(fun(0,z=1,y=3))\n",
        "```\n",
        "1. 3\n",
        "2. the snippet is erroneous\n",
        "3. 0\n",
        "4. **9** "
      ]
    },
    {
      "cell_type": "code",
      "metadata": {
        "id": "CtK3C2x0JNoF",
        "colab_type": "code",
        "outputId": "7aafe040-4dc9-4519-f777-24f70339837c",
        "colab": {
          "base_uri": "https://localhost:8080/",
          "height": 34
        }
      },
      "source": [
        "def fun(x,y,z):\n",
        "  return x+2*y+3*z\n",
        "print(fun(0,z=1,y=3))"
      ],
      "execution_count": 0,
      "outputs": [
        {
          "output_type": "stream",
          "text": [
            "9\n"
          ],
          "name": "stdout"
        }
      ]
    },
    {
      "cell_type": "markdown",
      "metadata": {
        "id": "qjVLzfxJLZCK",
        "colab_type": "text"
      },
      "source": [
        "Q18. What is the output of the following snippet?\n",
        "```\n",
        "def fun(inp=2,out=3):\n",
        "  return inp * out\n",
        "  print(fun(out=2))\n",
        "```\n",
        "1. 6\n",
        "2. **4**\n",
        "3. 2\n",
        "4. the snippet is erroneous"
      ]
    },
    {
      "cell_type": "code",
      "metadata": {
        "id": "LY5TIGelLlW7",
        "colab_type": "code",
        "outputId": "bcd215eb-41d8-4a61-cdfb-6e0b19bb57b5",
        "colab": {
          "base_uri": "https://localhost:8080/",
          "height": 34
        }
      },
      "source": [
        "def fun(inp=2,out=3):\n",
        "  return inp * out\n",
        "print(fun(out=2))"
      ],
      "execution_count": 0,
      "outputs": [
        {
          "output_type": "stream",
          "text": [
            "4\n"
          ],
          "name": "stdout"
        }
      ]
    },
    {
      "cell_type": "markdown",
      "metadata": {
        "id": "5bEwx_soLv4L",
        "colab_type": "text"
      },
      "source": [
        "Q19. What is the output of the following snippet?\n",
        "```\n",
        "dct = { ‘one’:’two’, ‘three’:’one’, ‘two’:’three’ }\n",
        "v = dct[‘one’]\n",
        "for k in range(len(dct)):\n",
        "v = dct[v]\n",
        "print(v)\n",
        "```\n",
        "1. **two**\n",
        "2. three\n",
        "3. (‘one’, ‘two’, ‘three’)\n",
        "4. one"
      ]
    },
    {
      "cell_type": "code",
      "metadata": {
        "id": "hnfS3dRfL4jN",
        "colab_type": "code",
        "outputId": "10a092e4-d4fc-486f-bdc1-a04467160afa",
        "colab": {
          "base_uri": "https://localhost:8080/",
          "height": 34
        }
      },
      "source": [
        "dct = {'one':'two', 'three':'one', 'two':'three'}\n",
        "v = dct['one']\n",
        "\n",
        "for k in range(len(dct)):\n",
        "  v = dct[v]\n",
        "print(v)"
      ],
      "execution_count": 0,
      "outputs": [
        {
          "output_type": "stream",
          "text": [
            "two\n"
          ],
          "name": "stdout"
        }
      ]
    },
    {
      "cell_type": "markdown",
      "metadata": {
        "id": "q-rmvwD8Miq_",
        "colab_type": "text"
      },
      "source": [
        "Q20. What is the output of the following snippet?\n",
        "```\n",
        "  tup = (1, 2, 4, 8)\n",
        "  tup = tup[1:-1]\n",
        "  tup = tup[0]\n",
        "  print(tup)\n",
        "```\n",
        "1. the snippet is erroneous\n",
        "2. (2)\n",
        "3. (2,)\n",
        "4. **2**"
      ]
    },
    {
      "cell_type": "code",
      "metadata": {
        "id": "03S7RadSMvwD",
        "colab_type": "code",
        "outputId": "056e5263-3264-4690-958b-78039cf6152a",
        "colab": {
          "base_uri": "https://localhost:8080/",
          "height": 34
        }
      },
      "source": [
        "tup = (1, 2, 4, 8)\n",
        "tup = tup[1:-1]\n",
        "tup = tup[0]\n",
        "print(tup)"
      ],
      "execution_count": 0,
      "outputs": [
        {
          "output_type": "stream",
          "text": [
            "2\n"
          ],
          "name": "stdout"
        }
      ]
    }
  ]
}