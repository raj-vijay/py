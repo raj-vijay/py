{
  "nbformat": 4,
  "nbformat_minor": 0,
  "metadata": {
    "colab": {
      "name": "PCAP_Preparation_Notebook_III.ipynb",
      "provenance": [],
      "authorship_tag": "ABX9TyPA1QaW1y4BSniF3DdKPd51",
      "include_colab_link": true
    },
    "kernelspec": {
      "name": "python3",
      "display_name": "Python 3"
    }
  },
  "cells": [
    {
      "cell_type": "markdown",
      "metadata": {
        "id": "view-in-github",
        "colab_type": "text"
      },
      "source": [
        "<a href=\"https://colab.research.google.com/github/raj-vijay/py/blob/master/PCAP_Preparation_Notebook_III.ipynb\" target=\"_parent\"><img src=\"https://colab.research.google.com/assets/colab-badge.svg\" alt=\"Open In Colab\"/></a>"
      ]
    },
    {
      "cell_type": "markdown",
      "metadata": {
        "id": "RS0KZbg8QWEe",
        "colab_type": "text"
      },
      "source": [
        "Q1. Which of the following lines properly starts a parameterless function definition?\n",
        "1. function fun():\n",
        "2. def fun:\n",
        "3. fun function():\n",
        "4. def fun(): "
      ]
    },
    {
      "cell_type": "code",
      "metadata": {
        "id": "wmuqGlusP21T",
        "colab_type": "code",
        "colab": {
          "base_uri": "https://localhost:8080/",
          "height": 34
        },
        "outputId": "f4a947f4-323b-4916-def8-054d37189a68"
      },
      "source": [
        "def fun():\n",
        "  return True\n",
        "\n",
        "a = fun()\n",
        "print(a)"
      ],
      "execution_count": 1,
      "outputs": [
        {
          "output_type": "stream",
          "text": [
            "True\n"
          ],
          "name": "stdout"
        }
      ]
    },
    {
      "cell_type": "markdown",
      "metadata": {
        "id": "u_3nvyZpQpq1",
        "colab_type": "text"
      },
      "source": [
        "Q2. A function defined in the following way:\n",
        "\n",
        "def function(x=0):\n",
        "\n",
        "  return x\n",
        "\n",
        "1. **may be invoked without any argument, or with just one**\n",
        "2. must be invoked without arguments\n",
        "3. must be invoked with exactly one argument\n",
        "4. may be invoked with any number of arguments (including zero)"
      ]
    },
    {
      "cell_type": "code",
      "metadata": {
        "id": "tFp2vrj8Qz1h",
        "colab_type": "code",
        "colab": {
          "base_uri": "https://localhost:8080/",
          "height": 51
        },
        "outputId": "34cfbb97-e009-49b8-8a57-4c81bb2739cf"
      },
      "source": [
        "def function(x=0):\n",
        "  return x\n",
        "\n",
        "# Invoked with argument\n",
        "a = function(5)\n",
        "print(a)\n",
        "# Invoked without argument\n",
        "b = function()\n",
        "print(b)\n",
        "\n"
      ],
      "execution_count": 4,
      "outputs": [
        {
          "output_type": "stream",
          "text": [
            "5\n",
            "0\n"
          ],
          "name": "stdout"
        }
      ]
    },
    {
      "cell_type": "markdown",
      "metadata": {
        "id": "0lJgwsvcRaqC",
        "colab_type": "text"
      },
      "source": [
        "Q3. A built‑in function is a function which:\n",
        "1. has to be imported before use\n",
        "2. is hidden from programmers\n",
        "3. has been placed within your code by another programmer\n",
        "4. **comes with Python, and is an integral part of Python**"
      ]
    },
    {
      "cell_type": "code",
      "metadata": {
        "id": "MATgB7WNRqBx",
        "colab_type": "code",
        "colab": {
          "base_uri": "https://localhost:8080/",
          "height": 34
        },
        "outputId": "9346be37-b3ce-4b3e-ec1f-65b454a61be0"
      },
      "source": [
        "# Built-in function comes off the shelf with python\n",
        "print(\"This is a built in function.\")"
      ],
      "execution_count": 5,
      "outputs": [
        {
          "output_type": "stream",
          "text": [
            "This is a built in function.\n"
          ],
          "name": "stdout"
        }
      ]
    },
    {
      "cell_type": "markdown",
      "metadata": {
        "id": "owA1uuJ6R7ke",
        "colab_type": "text"
      },
      "source": [
        "Q4. The fact that tuples belong to sequence types means:\n",
        "1. they can be modified using the del instruction\n",
        "2. **they can be indexed and sliced like lists**\n",
        "3. they are actually lists\n",
        "4. they can be extended using the .append() method"
      ]
    },
    {
      "cell_type": "code",
      "metadata": {
        "id": "OYhm23ZqSNRG",
        "colab_type": "code",
        "colab": {
          "base_uri": "https://localhost:8080/",
          "height": 51
        },
        "outputId": "73d1dbd6-cc84-4324-d202-d8e55674550f"
      },
      "source": [
        "tup = (1, 2, 3)\n",
        "lst= [1, 2, 3]\n",
        "print(\"Tuple: \", tup)\n",
        "print(\"List: \", lst)"
      ],
      "execution_count": 23,
      "outputs": [
        {
          "output_type": "stream",
          "text": [
            "Tuple:  (1, 2, 3)\n",
            "List:  [1, 2, 3]\n"
          ],
          "name": "stdout"
        }
      ]
    },
    {
      "cell_type": "code",
      "metadata": {
        "id": "HQizGgEWTfT_",
        "colab_type": "code",
        "colab": {
          "base_uri": "https://localhost:8080/",
          "height": 180
        },
        "outputId": "20342d96-86ef-4ff5-a9bc-518fa1c389a3"
      },
      "source": [
        "# Returns an error - TypeError: 'tuple' object doesn't support item deletion\n",
        "del tup[0]\n",
        "print(tup)"
      ],
      "execution_count": 13,
      "outputs": [
        {
          "output_type": "error",
          "ename": "TypeError",
          "evalue": "ignored",
          "traceback": [
            "\u001b[0;31m---------------------------------------------------------------------------\u001b[0m",
            "\u001b[0;31mTypeError\u001b[0m                                 Traceback (most recent call last)",
            "\u001b[0;32m<ipython-input-13-81ceb7434e40>\u001b[0m in \u001b[0;36m<module>\u001b[0;34m()\u001b[0m\n\u001b[0;32m----> 1\u001b[0;31m \u001b[0;32mdel\u001b[0m \u001b[0mtup\u001b[0m\u001b[0;34m[\u001b[0m\u001b[0;36m0\u001b[0m\u001b[0;34m]\u001b[0m\u001b[0;34m\u001b[0m\u001b[0;34m\u001b[0m\u001b[0m\n\u001b[0m\u001b[1;32m      2\u001b[0m \u001b[0mprint\u001b[0m\u001b[0;34m(\u001b[0m\u001b[0mtup\u001b[0m\u001b[0;34m)\u001b[0m\u001b[0;34m\u001b[0m\u001b[0;34m\u001b[0m\u001b[0m\n",
            "\u001b[0;31mTypeError\u001b[0m: 'tuple' object doesn't support item deletion"
          ]
        }
      ]
    },
    {
      "cell_type": "code",
      "metadata": {
        "id": "OkrO-NgNTtts",
        "colab_type": "code",
        "colab": {
          "base_uri": "https://localhost:8080/",
          "height": 34
        },
        "outputId": "78d89bf2-f21f-411e-f6fd-b40ddc697be3"
      },
      "source": [
        "# Below section works and returns (2, 3) \n",
        "slice = tup[1:]\n",
        "print(slice)"
      ],
      "execution_count": 17,
      "outputs": [
        {
          "output_type": "stream",
          "text": [
            "(2, 3)\n"
          ],
          "name": "stdout"
        }
      ]
    },
    {
      "cell_type": "code",
      "metadata": {
        "id": "0vHf4FIjSghS",
        "colab_type": "code",
        "colab": {
          "base_uri": "https://localhost:8080/",
          "height": 34
        },
        "outputId": "8ffea531-e9ca-4d98-db9b-1b0c87614bb2"
      },
      "source": [
        "type(tup)"
      ],
      "execution_count": 25,
      "outputs": [
        {
          "output_type": "execute_result",
          "data": {
            "text/plain": [
              "tuple"
            ]
          },
          "metadata": {
            "tags": []
          },
          "execution_count": 25
        }
      ]
    },
    {
      "cell_type": "code",
      "metadata": {
        "id": "UrBWaBl2UNso",
        "colab_type": "code",
        "colab": {
          "base_uri": "https://localhost:8080/",
          "height": 34
        },
        "outputId": "f0567d8f-b977-47df-c5bc-ed21872b2767"
      },
      "source": [
        "type(lst)"
      ],
      "execution_count": 26,
      "outputs": [
        {
          "output_type": "execute_result",
          "data": {
            "text/plain": [
              "list"
            ]
          },
          "metadata": {
            "tags": []
          },
          "execution_count": 26
        }
      ]
    },
    {
      "cell_type": "code",
      "metadata": {
        "id": "FpLAKJSlTmF5",
        "colab_type": "code",
        "colab": {
          "base_uri": "https://localhost:8080/",
          "height": 180
        },
        "outputId": "2aac2a6b-c5ac-4127-8f0e-6ddab5f4e971"
      },
      "source": [
        "# Returns an error - AttributeError: 'tuple' object has no attribute 'append'\n",
        "append = tup.append(3)\n",
        "print(append)"
      ],
      "execution_count": 15,
      "outputs": [
        {
          "output_type": "error",
          "ename": "AttributeError",
          "evalue": "ignored",
          "traceback": [
            "\u001b[0;31m---------------------------------------------------------------------------\u001b[0m",
            "\u001b[0;31mAttributeError\u001b[0m                            Traceback (most recent call last)",
            "\u001b[0;32m<ipython-input-15-559716d3281a>\u001b[0m in \u001b[0;36m<module>\u001b[0;34m()\u001b[0m\n\u001b[0;32m----> 1\u001b[0;31m \u001b[0mappend\u001b[0m \u001b[0;34m=\u001b[0m \u001b[0mtup\u001b[0m\u001b[0;34m.\u001b[0m\u001b[0mappend\u001b[0m\u001b[0;34m(\u001b[0m\u001b[0;36m3\u001b[0m\u001b[0;34m)\u001b[0m\u001b[0;34m\u001b[0m\u001b[0;34m\u001b[0m\u001b[0m\n\u001b[0m\u001b[1;32m      2\u001b[0m \u001b[0mprint\u001b[0m\u001b[0;34m(\u001b[0m\u001b[0mappend\u001b[0m\u001b[0;34m)\u001b[0m\u001b[0;34m\u001b[0m\u001b[0;34m\u001b[0m\u001b[0m\n",
            "\u001b[0;31mAttributeError\u001b[0m: 'tuple' object has no attribute 'append'"
          ]
        }
      ]
    },
    {
      "cell_type": "markdown",
      "metadata": {
        "id": "ZLeAZQhJUR0n",
        "colab_type": "text"
      },
      "source": [
        "Q5. What is the output of the following snippet?\n",
        "\n",
        "def f(x):\n",
        "\n",
        "  if x == 0:\n",
        "  \n",
        "    return 0\n",
        "  \n",
        "  return x + f(x – 1)\n",
        "\n",
        "print(f(3))\n",
        "\n",
        "1. the code is erroneous\n",
        "2. 3\n",
        "3. 1\n",
        "4. **6**"
      ]
    },
    {
      "cell_type": "code",
      "metadata": {
        "id": "qnckHc0GUpcO",
        "colab_type": "code",
        "colab": {
          "base_uri": "https://localhost:8080/",
          "height": 34
        },
        "outputId": "3e58429c-973b-498e-dfaf-fdc9191a3864"
      },
      "source": [
        "def f(x):\n",
        "  if x == 0:\n",
        "    return 0\n",
        "  return x + f(x-1)\n",
        "\n",
        "print(f(3))"
      ],
      "execution_count": 30,
      "outputs": [
        {
          "output_type": "stream",
          "text": [
            "6\n"
          ],
          "name": "stdout"
        }
      ]
    },
    {
      "cell_type": "markdown",
      "metadata": {
        "id": "5x6aIQf8VJfJ",
        "colab_type": "text"
      },
      "source": [
        "Q6. What is the output of the following snippet?\n",
        "\n",
        "def fun(x):\n",
        "\n",
        "  x += 1\n",
        "\n",
        "return x\n",
        "\n",
        "x = 2\n",
        "x = fun(x+1)\n",
        "print(x)\n",
        "\n",
        "1. the code is erroneous\n",
        "2. **4**\n",
        "3. 5\n",
        "4. 3"
      ]
    },
    {
      "cell_type": "code",
      "metadata": {
        "id": "cnEiaostVgd-",
        "colab_type": "code",
        "colab": {
          "base_uri": "https://localhost:8080/",
          "height": 34
        },
        "outputId": "ea714411-f3b5-46e1-9f3f-1e0fb4e1d4b4"
      },
      "source": [
        "def fun(x):\n",
        "  x += 1\n",
        "  return x\n",
        "x = 2 \n",
        "x = fun(x+1) \n",
        "print(x)"
      ],
      "execution_count": 31,
      "outputs": [
        {
          "output_type": "stream",
          "text": [
            "4\n"
          ],
          "name": "stdout"
        }
      ]
    },
    {
      "cell_type": "markdown",
      "metadata": {
        "id": "Eze90I_kVwdh",
        "colab_type": "text"
      },
      "source": [
        "What code would you insert into the commented line to obtain the output that reads:\n",
        "a\n",
        "b\n",
        "c\n",
        "\n",
        "Code:\n",
        "\n",
        "dct = { }\n",
        "\n",
        "lst = [‘a’,’b’,’c’,’d’]\n",
        "\n",
        "for i in range(len(lst) – 1):\n",
        "\n",
        "  dct[lst[i]] = ( lst[i], )\n",
        "  \n",
        "  for i in sorted(dct.keys()):\n",
        "  \n",
        "    k = dct[i]\n",
        "\n",
        "    # insert your code\n",
        "\n",
        "1. **print(k[0])**\n",
        "2. print(k)\n",
        "3. print(k[“0”])\n",
        "4. print(k[‘0’])"
      ]
    },
    {
      "cell_type": "code",
      "metadata": {
        "id": "TNPE111nWHRm",
        "colab_type": "code",
        "colab": {
          "base_uri": "https://localhost:8080/",
          "height": 68
        },
        "outputId": "fb05a227-1c18-4cee-9140-1518f49a4263"
      },
      "source": [
        "dct = { }\n",
        "lst = ['a','b', 'c','d']\n",
        "for i in range(len(lst)-1):\n",
        "  dct[lst[i]] = (lst[i], )\n",
        "  for i in sorted(dct.keys()):\n",
        "    k = dct[i]\n",
        "  # insert your code\n",
        "  print(k[0])"
      ],
      "execution_count": 41,
      "outputs": [
        {
          "output_type": "stream",
          "text": [
            "a\n",
            "b\n",
            "c\n"
          ],
          "name": "stdout"
        }
      ]
    }
  ]
}