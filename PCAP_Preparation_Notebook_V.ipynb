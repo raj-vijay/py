{
  "nbformat": 4,
  "nbformat_minor": 0,
  "metadata": {
    "colab": {
      "name": "PCAP_Preparation_Notebook_V.ipynb",
      "provenance": [],
      "authorship_tag": "ABX9TyN1SsjKQRclBk2i3WA3RWTN",
      "include_colab_link": true
    },
    "kernelspec": {
      "name": "python3",
      "display_name": "Python 3"
    }
  },
  "cells": [
    {
      "cell_type": "markdown",
      "metadata": {
        "id": "view-in-github",
        "colab_type": "text"
      },
      "source": [
        "<a href=\"https://colab.research.google.com/github/raj-vijay/py/blob/master/PCAP_Preparation_Notebook_V.ipynb\" target=\"_parent\"><img src=\"https://colab.research.google.com/assets/colab-badge.svg\" alt=\"Open In Colab\"/></a>"
      ]
    },
    {
      "cell_type": "markdown",
      "metadata": {
        "id": "i6by2OjtahHF",
        "colab_type": "text"
      },
      "source": [
        "Q1. A data structure described as LIFO is actually a:\n",
        "1. list\n",
        "2. heap\n",
        "3. tree\n",
        "4. **stack**"
      ]
    },
    {
      "cell_type": "markdown",
      "metadata": {
        "id": "ijTqP7IEazjQ",
        "colab_type": "text"
      },
      "source": [
        "**Data Structures**\n",
        "\n",
        "1. Stack\n",
        "\n",
        "A stack is a linear data structure that stores items in a Last-In/First-Out (LIFO) or First-In/Last-Out (FILO) manner. In stack, a new element is added at one end and an element is removed from that end only.\n",
        "\n",
        "\n",
        "The insert and delete operations are often called push and pop."
      ]
    },
    {
      "cell_type": "markdown",
      "metadata": {
        "id": "PnbYoMY1efar",
        "colab_type": "text"
      },
      "source": [
        "The functions associated with stack are:\n",
        "1. empty() – Returns whether the stack is empty – Time Complexity : O(1)\n",
        "2. size() – Returns the size of the stack – Time Complexity : O(1)\n",
        "3. top() – Returns a reference to the top most element of the stack – Time Complexity : O(1)\n",
        "4. push(g) – Adds the element ‘g’ at the top of the stack – Time Complexity : O(1)\n",
        "5. pop() – Deletes the top most element of the stack – Time Complexity : O(1)"
      ]
    },
    {
      "cell_type": "markdown",
      "metadata": {
        "id": "wGttY2NMemLb",
        "colab_type": "text"
      },
      "source": [
        "Stack in Python can be implemented using following ways:\n",
        "\n",
        "1. list\n",
        "2. collections.deque\n",
        "3. queue.LifoQueue"
      ]
    },
    {
      "cell_type": "markdown",
      "metadata": {
        "id": "Tur3bUEVe5fZ",
        "colab_type": "text"
      },
      "source": [
        "**Stack Implementation using list**\n",
        "\n",
        "Python’s buil-in data structure list can be used as a stack. \n",
        "\n",
        "Instead of push(), append() is used to add elements to the top of stack while pop() removes the element in LIFO order.\n",
        "\n",
        "A list has a few shortcomings. It can run into speed issue as it grows. The items in list are stored next to each other in memory, if the stack grows bigger than the block of memory that currently holds it, then Python needs to do some memory allocations. This can lead to some append() calls taking much longer than other ones."
      ]
    },
    {
      "cell_type": "code",
      "metadata": {
        "id": "Ev3yaFjHfS-v",
        "colab_type": "code",
        "colab": {
          "base_uri": "https://localhost:8080/",
          "height": 153
        },
        "outputId": "eb4420e6-4531-4827-9f04-fc116b41f348"
      },
      "source": [
        "# Stack implementation using list \n",
        "  \n",
        "  \n",
        "stack = [] \n",
        "  \n",
        "# append() function is used to push elements into the stack \n",
        "stack.append('a') \n",
        "stack.append('b') \n",
        "stack.append('c') \n",
        "  \n",
        "print('Initial stack: ', stack) \n",
        "  \n",
        "# pop() fucntion to pop elements from stack in a LIFO order \n",
        "print('\\nElements poped from stack:') \n",
        "print(stack.pop()) \n",
        "print(stack.pop()) \n",
        "print(stack.pop()) \n",
        "  \n",
        "print('\\nStack after elements are poped: ', stack)\n"
      ],
      "execution_count": 1,
      "outputs": [
        {
          "output_type": "stream",
          "text": [
            "Initial stack:  ['a', 'b', 'c']\n",
            "\n",
            "Elements poped from stack:\n",
            "c\n",
            "b\n",
            "a\n",
            "\n",
            "Stack after elements are poped:  []\n"
          ],
          "name": "stdout"
        }
      ]
    },
    {
      "cell_type": "code",
      "metadata": {
        "id": "hzJkgCaVf6Aq",
        "colab_type": "code",
        "colab": {
          "base_uri": "https://localhost:8080/",
          "height": 163
        },
        "outputId": "5aa7665f-2c37-49f5-f411-5bba565a6c7a"
      },
      "source": [
        "# The below code will cause an IndexError (pop from empty list) as the stack is now empty  \n",
        "print(stack.pop())  "
      ],
      "execution_count": 2,
      "outputs": [
        {
          "output_type": "error",
          "ename": "IndexError",
          "evalue": "ignored",
          "traceback": [
            "\u001b[0;31m---------------------------------------------------------------------------\u001b[0m",
            "\u001b[0;31mIndexError\u001b[0m                                Traceback (most recent call last)",
            "\u001b[0;32m<ipython-input-2-929b6f4dddca>\u001b[0m in \u001b[0;36m<module>\u001b[0;34m()\u001b[0m\n\u001b[0;32m----> 1\u001b[0;31m \u001b[0mprint\u001b[0m\u001b[0;34m(\u001b[0m\u001b[0mstack\u001b[0m\u001b[0;34m.\u001b[0m\u001b[0mpop\u001b[0m\u001b[0;34m(\u001b[0m\u001b[0;34m)\u001b[0m\u001b[0;34m)\u001b[0m\u001b[0;34m\u001b[0m\u001b[0;34m\u001b[0m\u001b[0m\n\u001b[0m",
            "\u001b[0;31mIndexError\u001b[0m: pop from empty list"
          ]
        }
      ]
    },
    {
      "cell_type": "markdown",
      "metadata": {
        "id": "vzWDUBpPgPN7",
        "colab_type": "text"
      },
      "source": [
        "**Implementation using collections.deque**\n",
        "\n",
        "A python stack can be implemented using deque class from collections module. \n",
        "\n",
        "Deque is preferred over list in the cases where we need quicker append and pop operations from both the ends of the container, as deque provides an O(1) time complexity for append and pop operations as compared to list which provides O(n)  time complexity.\n",
        "\n",
        "The same methods append() and pop() on deque as with lists."
      ]
    },
    {
      "cell_type": "code",
      "metadata": {
        "id": "aqjxaBBkgj5A",
        "colab_type": "code",
        "colab": {
          "base_uri": "https://localhost:8080/",
          "height": 153
        },
        "outputId": "64a5ca2b-3460-4c47-d547-c911253b27de"
      },
      "source": [
        "# Stack implementation using collections.deque \n",
        "  \n",
        "  \n",
        "from collections import deque \n",
        "  \n",
        "stack = deque() \n",
        "  \n",
        "# append() function to push elements into the stack \n",
        "stack.append('a') \n",
        "stack.append('b') \n",
        "stack.append('c') \n",
        "  \n",
        "print('Initial stack: ', stack) \n",
        "  \n",
        "# pop() fucntion is used to pop elements from stack in a LIFO order \n",
        "print('\\nElements poped from stack:') \n",
        "print(stack.pop()) \n",
        "print(stack.pop()) \n",
        "print(stack.pop()) \n",
        "  \n",
        "print('\\nStack after elements are poped:', stack) \n",
        " "
      ],
      "execution_count": 3,
      "outputs": [
        {
          "output_type": "stream",
          "text": [
            "Initial stack:  deque(['a', 'b', 'c'])\n",
            "\n",
            "Elements poped from stack:\n",
            "c\n",
            "b\n",
            "a\n",
            "\n",
            "Stack after elements are poped: deque([])\n"
          ],
          "name": "stdout"
        }
      ]
    },
    {
      "cell_type": "markdown",
      "metadata": {
        "id": "ApS-8j5RhCMR",
        "colab_type": "text"
      },
      "source": [
        "**Implemenation using queue module**\n",
        "\n",
        "Queue module also has a LIFO Queue, which is basically a Stack. Data is inserted into Queue using put() function and get() takes data out from the Queue.\n",
        "\n",
        "There are various functions available in this module:\n",
        "\n",
        "1. maxsize – Number of items allowed in the queue.\n",
        "2. empty() – Return True if the queue is empty, False otherwise.\n",
        "3. full() – Return True if there are maxsize items in the queue. If the queue was initialized with maxsize=0 (the default), then full() never returns True.\n",
        "4. get() – Remove and return an item from the queue. If queue is empty, wait until an item is available.\n",
        "5. get_nowait() – Return an item if one is immediately available, else raise QueueEmpty.\n",
        "6. put(item) – Put an item into the queue. If the queue is full, wait until a free slot is available before adding the item.\n",
        "7. put_nowait(item) – Put an item into the queue without blocking.\n",
        "8. qsize() – Return the number of items in the queue. If no free slot is immediately available, raise QueueFull."
      ]
    },
    {
      "cell_type": "code",
      "metadata": {
        "id": "YM2yMg7whOz5",
        "colab_type": "code",
        "colab": {
          "base_uri": "https://localhost:8080/",
          "height": 187
        },
        "outputId": "fefb43ce-e665-4c27-ded5-0c1ca88d138f"
      },
      "source": [
        "# Stack implementation using queue module \n",
        "  \n",
        "from queue import LifoQueue \n",
        "  \n",
        "# Initializing a stack \n",
        "stack = LifoQueue(maxsize = 3) \n",
        "  \n",
        "# qsize() give the maxsize of the stack \n",
        "print(stack.qsize()) \n",
        "   \n",
        "# put() function is used to push element in the stack \n",
        "stack.put('a') \n",
        "stack.put('b') \n",
        "stack.put('c') \n",
        "  \n",
        "print(\"Full: \", stack.full())  \n",
        "print(\"Size: \", stack.qsize())  \n",
        "  \n",
        "# get() fucntion is used to pop element from stack in LIFO order \n",
        "print('\\nElements poped from the stack') \n",
        "print(stack.get()) \n",
        "print(stack.get()) \n",
        "print(stack.get()) \n",
        "  \n",
        "print(\"\\nEmpty: \", stack.empty()) "
      ],
      "execution_count": 4,
      "outputs": [
        {
          "output_type": "stream",
          "text": [
            "0\n",
            "Full:  True\n",
            "Size:  3\n",
            "\n",
            "Elements poped from the stack\n",
            "c\n",
            "b\n",
            "a\n",
            "\n",
            "Empty:  True\n"
          ],
          "name": "stdout"
        }
      ]
    },
    {
      "cell_type": "markdown",
      "metadata": {
        "id": "WT-iWekRiF6o",
        "colab_type": "text"
      },
      "source": [
        "**Heap**\n",
        "\n",
        "A Heap is a special Tree-based data structure in which the tree is a complete binary tree. \n",
        "\n",
        "Heaps can be of two types:\n",
        "\n",
        "1. Max-Heap: In a Max-Heap the key present at the root node must be greatest among the keys present at all of it’s children. The same property must be recursively true for all sub-trees in that Binary Tree.\n",
        "\n",
        "2. Min-Heap: In a Min-Heap the key present at the root node must be minimum among the keys present at all of it’s children. The same property must be recursively true for all sub-trees in that Binary Tree."
      ]
    },
    {
      "cell_type": "markdown",
      "metadata": {
        "id": "t-BWUoAoiTYR",
        "colab_type": "text"
      },
      "source": [
        "![alt text](https://www.geeksforgeeks.org/wp-content/uploads/MinHeapAndMaxHeap.png)"
      ]
    },
    {
      "cell_type": "markdown",
      "metadata": {
        "id": "20Zxuyibjgp5",
        "colab_type": "text"
      },
      "source": [
        "Q2. If the class’s constructor is declared as below, which one of the assignments is valid?\n",
        "\n",
        "class Class:\n",
        "\n",
        "  def __ init __(self):\n",
        "\n",
        "  pass\n",
        "\n",
        "1. object = Class(object)\n",
        "2. object = Class(self)\n",
        "3. object = Class\n",
        "4. **object = Class()**\n"
      ]
    },
    {
      "cell_type": "code",
      "metadata": {
        "id": "XaTBbt2Jj1ZI",
        "colab_type": "code",
        "colab": {}
      },
      "source": [
        "# Class constructor in python\n",
        "class Class:\n",
        "  def __init__(self):\n",
        "    pass"
      ],
      "execution_count": 0,
      "outputs": []
    },
    {
      "cell_type": "code",
      "metadata": {
        "id": "_-Bsjcsnj-gR",
        "colab_type": "code",
        "colab": {}
      },
      "source": [
        "# Class assignment for the above class\n",
        "object = Class()"
      ],
      "execution_count": 0,
      "outputs": []
    },
    {
      "cell_type": "markdown",
      "metadata": {
        "id": "ZuXx4v85kHYA",
        "colab_type": "text"
      },
      "source": [
        "Q3. If there is a superclass named A and a subclass named B, which one of the presented invocations should you put instead of a comment?\n",
        "\n",
        "class A:\n",
        "\n",
        "def __ init __(self):\n",
        "\n",
        "self.a = 1\n",
        "\n",
        "class B:\n",
        "\n",
        "def __ init __(self):\n",
        "\n",
        "`insert selected line here`\n",
        "\n",
        "self.a = 2\n",
        "\n",
        "1. __ init __()\n",
        "2. A.__ init __()\n",
        "3. **A.__ init __(self)**\n",
        "4. A.__ init __(1)"
      ]
    },
    {
      "cell_type": "code",
      "metadata": {
        "id": "cyruet9aksEd",
        "colab_type": "code",
        "colab": {}
      },
      "source": [
        "# B is a subclass of A\n",
        "class A:\n",
        "  def __init__(self):\n",
        "    self.a = 1\n",
        "class B:\n",
        "  def __init__(self):\n",
        "    A.__init__(self)\n",
        "    self.b = 2"
      ],
      "execution_count": 0,
      "outputs": []
    },
    {
      "cell_type": "code",
      "metadata": {
        "id": "USlYKBfNk8zx",
        "colab_type": "code",
        "colab": {
          "base_uri": "https://localhost:8080/",
          "height": 51
        },
        "outputId": "12e6daca-7622-400a-e062-84f14dc3f9de"
      },
      "source": [
        "print(\"B is a subclass of A\")\n",
        "issubclass(B, A)"
      ],
      "execution_count": 60,
      "outputs": [
        {
          "output_type": "stream",
          "text": [
            "B is a subclass of A\n"
          ],
          "name": "stdout"
        },
        {
          "output_type": "execute_result",
          "data": {
            "text/plain": [
              "False"
            ]
          },
          "metadata": {
            "tags": []
          },
          "execution_count": 60
        }
      ]
    },
    {
      "cell_type": "code",
      "metadata": {
        "id": "SmrvsVy1mIz0",
        "colab_type": "code",
        "colab": {
          "base_uri": "https://localhost:8080/",
          "height": 51
        },
        "outputId": "8ab5b2fd-c88a-4ab6-d4fd-9fa0e7bc8011"
      },
      "source": [
        "print(\"A is a subclass of B\")\n",
        "issubclass(A, B)"
      ],
      "execution_count": 61,
      "outputs": [
        {
          "output_type": "stream",
          "text": [
            "A is a subclass of B\n"
          ],
          "name": "stdout"
        },
        {
          "output_type": "execute_result",
          "data": {
            "text/plain": [
              "False"
            ]
          },
          "metadata": {
            "tags": []
          },
          "execution_count": 61
        }
      ]
    },
    {
      "cell_type": "markdown",
      "metadata": {
        "id": "j9mXgwppn1nC",
        "colab_type": "text"
      },
      "source": [
        "Q4. What will be the effect of running the following code?\n",
        "\n",
        "class A:\n",
        "\n",
        "def __init__(self,v):\n",
        "\n",
        "self.__a = v + 1\n",
        "\n",
        "a = A(0)\n",
        "\n",
        "print(a.__a)\n",
        "\n",
        "1. it will print 0\n",
        "2. it will print 2\n",
        "3. it will print 1\n",
        "4. **it will raise an AttributeError exception**"
      ]
    },
    {
      "cell_type": "code",
      "metadata": {
        "id": "FsnA2zUqoBri",
        "colab_type": "code",
        "colab": {
          "base_uri": "https://localhost:8080/",
          "height": 197
        },
        "outputId": "4b303d7d-a97b-4b2e-804f-e41761434a02"
      },
      "source": [
        "class A:\n",
        "  def __init__(self,v):\n",
        "    self.__a = v + 1\n",
        "\n",
        "a = A(0)\n",
        "print(a.__a)"
      ],
      "execution_count": 50,
      "outputs": [
        {
          "output_type": "error",
          "ename": "AttributeError",
          "evalue": "ignored",
          "traceback": [
            "\u001b[0;31m---------------------------------------------------------------------------\u001b[0m",
            "\u001b[0;31mAttributeError\u001b[0m                            Traceback (most recent call last)",
            "\u001b[0;32m<ipython-input-50-76892cbfc791>\u001b[0m in \u001b[0;36m<module>\u001b[0;34m()\u001b[0m\n\u001b[1;32m      4\u001b[0m \u001b[0;34m\u001b[0m\u001b[0m\n\u001b[1;32m      5\u001b[0m \u001b[0ma\u001b[0m \u001b[0;34m=\u001b[0m \u001b[0mA\u001b[0m\u001b[0;34m(\u001b[0m\u001b[0;36m0\u001b[0m\u001b[0;34m)\u001b[0m\u001b[0;34m\u001b[0m\u001b[0;34m\u001b[0m\u001b[0m\n\u001b[0;32m----> 6\u001b[0;31m \u001b[0mprint\u001b[0m\u001b[0;34m(\u001b[0m\u001b[0ma\u001b[0m\u001b[0;34m.\u001b[0m\u001b[0m__a\u001b[0m\u001b[0;34m)\u001b[0m\u001b[0;34m\u001b[0m\u001b[0;34m\u001b[0m\u001b[0m\n\u001b[0m",
            "\u001b[0;31mAttributeError\u001b[0m: 'A' object has no attribute '__a'"
          ]
        }
      ]
    },
    {
      "cell_type": "markdown",
      "metadata": {
        "id": "EVFP9_YboiSY",
        "colab_type": "text"
      },
      "source": [
        "Q5. What will be the output of the following code?\n",
        "\n",
        "class A:\n",
        "\n",
        "def __init__(self,v = 1):\n",
        "\n",
        "self.v = v\n",
        "\n",
        "def set(self,v):\n",
        "\n",
        "self.v = v\n",
        "\n",
        "return v\n",
        "\n",
        "a = A()\n",
        "\n",
        "print(a.set(a.v + 1))\n",
        "\n",
        "1. 3\n",
        "2. 0\n",
        "3. 1\n",
        "4. **2**"
      ]
    },
    {
      "cell_type": "code",
      "metadata": {
        "id": "tdKOOuUuosAI",
        "colab_type": "code",
        "colab": {
          "base_uri": "https://localhost:8080/",
          "height": 34
        },
        "outputId": "b2f271a2-0686-407e-bffb-51b70aebaf32"
      },
      "source": [
        "class A:\n",
        "  def __init__(self,v = 1):\n",
        "    self.v = v\n",
        "  \n",
        "  def set(self,v):\n",
        "    self.v = v\n",
        "    return v\n",
        "\n",
        "a = A()\n",
        "print(a.set(a.v + 1))"
      ],
      "execution_count": 62,
      "outputs": [
        {
          "output_type": "stream",
          "text": [
            "2\n"
          ],
          "name": "stdout"
        }
      ]
    },
    {
      "cell_type": "markdown",
      "metadata": {
        "id": "u2QVqgrkrAYq",
        "colab_type": "text"
      },
      "source": [
        "Q6. What will be the output of the following code?\n",
        "\n",
        "class A:\n",
        "\n",
        "X = 0\n",
        "\n",
        "def __init__(self,v = 0):\n",
        "\n",
        "self.Y = v\n",
        "\n",
        "A.X += v\n",
        "\n",
        "a = A()\n",
        "\n",
        "b = A(1)\n",
        "\n",
        "c = A(2)\n",
        "\n",
        "print(c.X)\n",
        "\n",
        "1. 0\n",
        "2. 2\n",
        "3. **3**\n",
        "4. 1"
      ]
    },
    {
      "cell_type": "code",
      "metadata": {
        "id": "HuuRwbCorOMY",
        "colab_type": "code",
        "colab": {
          "base_uri": "https://localhost:8080/",
          "height": 34
        },
        "outputId": "89df4f05-0a24-4099-fa0a-039a65f1c20b"
      },
      "source": [
        "class A:\n",
        "  X = 0\n",
        "  def __init__(self,v = 0):\n",
        "    self.Y = v\n",
        "    A.X += v\n",
        "\n",
        "a = A()\n",
        "b = A(1)\n",
        "c = A(2)\n",
        "\n",
        "print(c.X)"
      ],
      "execution_count": 63,
      "outputs": [
        {
          "output_type": "stream",
          "text": [
            "3\n"
          ],
          "name": "stdout"
        }
      ]
    }
  ]
}