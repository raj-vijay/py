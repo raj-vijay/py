{
  "nbformat": 4,
  "nbformat_minor": 0,
  "metadata": {
    "colab": {
      "name": "PCAP_Preparation_Summary_Final.ipynb",
      "provenance": [],
      "authorship_tag": "ABX9TyMHaoVy3bbp7lDKYnvKVkZy",
      "include_colab_link": true
    },
    "kernelspec": {
      "name": "python3",
      "display_name": "Python 3"
    }
  },
  "cells": [
    {
      "cell_type": "markdown",
      "metadata": {
        "id": "view-in-github",
        "colab_type": "text"
      },
      "source": [
        "<a href=\"https://colab.research.google.com/github/raj-vijay/py/blob/master/PCAP_Preparation_Summary_Final.ipynb\" target=\"_parent\"><img src=\"https://colab.research.google.com/assets/colab-badge.svg\" alt=\"Open In Colab\"/></a>"
      ]
    },
    {
      "cell_type": "markdown",
      "metadata": {
        "id": "_Jhv2gyX59LD",
        "colab_type": "text"
      },
      "source": [
        "Q1. The meaning of the keyword argument is determined by:\n",
        "1. its position within the argument list\n",
        "2. its value\n",
        "3. its connection with existing variables\n",
        "4. **the argument’s name specified along with its value**"
      ]
    },
    {
      "cell_type": "markdown",
      "metadata": {
        "id": "dFLqTH1P6E6S",
        "colab_type": "text"
      },
      "source": [
        "Q2. Which of the following sentences is true? \n",
        "```\n",
        "str1 = ‘string’\n",
        "str2 = str1[:]\n",
        "```\n",
        "1. **str1 and str2 are different (but equal) strings**\n",
        "2. str2 is longer than str1\n",
        "3. “>str1 and str2 are different names of the same string\n",
        "4. str1 is longer than str2"
      ]
    },
    {
      "cell_type": "markdown",
      "metadata": {
        "id": "b49Vd_DT8KFr",
        "colab_type": "text"
      },
      "source": [
        "Q3. An operator able to check whether two values are equal, is coded as:\n",
        "1. =\n",
        "2. **==**\n",
        "3. ===\n",
        "4. is"
      ]
    },
    {
      "cell_type": "markdown",
      "metadata": {
        "id": "jCCXfXwc8TXZ",
        "colab_type": "text"
      },
      "source": [
        "Q4. The following snippet:\n",
        "```\n",
        "def f(par2,par1):\n",
        "  return par2 + par1\n",
        "print(f(par2=1,2))\n",
        "```\n",
        "1. will output 2\n",
        "2. will output 3\n",
        "3. will output 1\n",
        "4. **is erroneous**"
      ]
    },
    {
      "cell_type": "code",
      "metadata": {
        "id": "jKRIvLWm8jSa",
        "colab_type": "code",
        "outputId": "02ce5135-c1fd-48d4-d09a-64ca8a52c8c9",
        "colab": {
          "base_uri": "https://localhost:8080/",
          "height": 129
        }
      },
      "source": [
        "# Returns SyntaxError: positional argument follows keyword argument\n",
        "def f(par2,par1):\n",
        "  return par2 + par1\n",
        "print(f(par2=1,2))"
      ],
      "execution_count": 0,
      "outputs": [
        {
          "output_type": "error",
          "ename": "SyntaxError",
          "evalue": "ignored",
          "traceback": [
            "\u001b[0;36m  File \u001b[0;32m\"<ipython-input-13-07ed11647e23>\"\u001b[0;36m, line \u001b[0;32m3\u001b[0m\n\u001b[0;31m    print(f(par2=1,2))\u001b[0m\n\u001b[0m                  ^\u001b[0m\n\u001b[0;31mSyntaxError\u001b[0m\u001b[0;31m:\u001b[0m positional argument follows keyword argument\n"
          ]
        }
      ]
    },
    {
      "cell_type": "markdown",
      "metadata": {
        "id": "EkqpAsbZ8oGb",
        "colab_type": "text"
      },
      "source": [
        "Q5. What value will be assigned to the x variable?\n",
        "```\n",
        "z = 2\n",
        "y = 1\n",
        "x = y < z or z > y and y > z or z < y\n",
        "```\n",
        "1. 0\n",
        "2. **True**\n",
        "3. 1\n",
        "4. False"
      ]
    },
    {
      "cell_type": "code",
      "metadata": {
        "id": "TcoH2-gX9DRz",
        "colab_type": "code",
        "outputId": "c11877ca-2aa8-4e48-9403-6eb77bc93676",
        "colab": {
          "base_uri": "https://localhost:8080/",
          "height": 34
        }
      },
      "source": [
        "z = 2\n",
        "y = 1\n",
        "x = y < z or z > y and y > z or z < y\n",
        "print(x)"
      ],
      "execution_count": 0,
      "outputs": [
        {
          "output_type": "stream",
          "text": [
            "True\n"
          ],
          "name": "stdout"
        }
      ]
    },
    {
      "cell_type": "markdown",
      "metadata": {
        "id": "Thn5vY5A-ZCj",
        "colab_type": "text"
      },
      "source": [
        "Q6. What will be the output of the following snippet?\n",
        "```\n",
        "str = ‘abcdef’\n",
        "def fun(s):\n",
        "  del s[2]\n",
        "  return s\n",
        "print(fun(str))\n",
        "```\n",
        "1. abcef\n",
        "2. **the program will cause an error**\n",
        "3. abdef\n",
        "4. acdef"
      ]
    },
    {
      "cell_type": "code",
      "metadata": {
        "id": "DkwGtugAAPRy",
        "colab_type": "code",
        "outputId": "5df263da-ffed-4b47-d7bf-3d0054945322",
        "colab": {
          "base_uri": "https://localhost:8080/",
          "height": 316
        }
      },
      "source": [
        "# Returns TypeError: 'str' object doesn't support item deletion\n",
        "str = 'abcdef'\n",
        "def fun(s):\n",
        "  del s[2]\n",
        "  return s\n",
        "print(fun(str))"
      ],
      "execution_count": 0,
      "outputs": [
        {
          "output_type": "error",
          "ename": "TypeError",
          "evalue": "ignored",
          "traceback": [
            "\u001b[0;31m---------------------------------------------------------------------------\u001b[0m",
            "\u001b[0;31mTypeError\u001b[0m                                 Traceback (most recent call last)",
            "\u001b[0;32m<ipython-input-18-e083611634fd>\u001b[0m in \u001b[0;36m<module>\u001b[0;34m()\u001b[0m\n\u001b[1;32m      3\u001b[0m   \u001b[0;32mdel\u001b[0m \u001b[0ms\u001b[0m\u001b[0;34m[\u001b[0m\u001b[0;36m2\u001b[0m\u001b[0;34m]\u001b[0m\u001b[0;34m\u001b[0m\u001b[0;34m\u001b[0m\u001b[0m\n\u001b[1;32m      4\u001b[0m   \u001b[0;32mreturn\u001b[0m \u001b[0ms\u001b[0m\u001b[0;34m\u001b[0m\u001b[0;34m\u001b[0m\u001b[0m\n\u001b[0;32m----> 5\u001b[0;31m \u001b[0mprint\u001b[0m\u001b[0;34m(\u001b[0m\u001b[0mfun\u001b[0m\u001b[0;34m(\u001b[0m\u001b[0mstr\u001b[0m\u001b[0;34m)\u001b[0m\u001b[0;34m)\u001b[0m\u001b[0;34m\u001b[0m\u001b[0;34m\u001b[0m\u001b[0m\n\u001b[0m",
            "\u001b[0;32m<ipython-input-18-e083611634fd>\u001b[0m in \u001b[0;36mfun\u001b[0;34m(s)\u001b[0m\n\u001b[1;32m      1\u001b[0m \u001b[0mstr\u001b[0m \u001b[0;34m=\u001b[0m \u001b[0;34m'abcdef'\u001b[0m\u001b[0;34m\u001b[0m\u001b[0;34m\u001b[0m\u001b[0m\n\u001b[1;32m      2\u001b[0m \u001b[0;32mdef\u001b[0m \u001b[0mfun\u001b[0m\u001b[0;34m(\u001b[0m\u001b[0ms\u001b[0m\u001b[0;34m)\u001b[0m\u001b[0;34m:\u001b[0m\u001b[0;34m\u001b[0m\u001b[0;34m\u001b[0m\u001b[0m\n\u001b[0;32m----> 3\u001b[0;31m   \u001b[0;32mdel\u001b[0m \u001b[0ms\u001b[0m\u001b[0;34m[\u001b[0m\u001b[0;36m2\u001b[0m\u001b[0;34m]\u001b[0m\u001b[0;34m\u001b[0m\u001b[0;34m\u001b[0m\u001b[0m\n\u001b[0m\u001b[1;32m      4\u001b[0m   \u001b[0;32mreturn\u001b[0m \u001b[0ms\u001b[0m\u001b[0;34m\u001b[0m\u001b[0;34m\u001b[0m\u001b[0m\n\u001b[1;32m      5\u001b[0m \u001b[0mprint\u001b[0m\u001b[0;34m(\u001b[0m\u001b[0mfun\u001b[0m\u001b[0;34m(\u001b[0m\u001b[0mstr\u001b[0m\u001b[0;34m)\u001b[0m\u001b[0;34m)\u001b[0m\u001b[0;34m\u001b[0m\u001b[0;34m\u001b[0m\u001b[0m\n",
            "\u001b[0;31mTypeError\u001b[0m: 'str' object doesn't support item deletion"
          ]
        }
      ]
    },
    {
      "cell_type": "markdown",
      "metadata": {
        "id": "MTVP8oDKAtEK",
        "colab_type": "text"
      },
      "source": [
        "Q7. What will be the output of the following piece of code?\n",
        "```\n",
        "x, y, z = 3, 2, 1\n",
        "z, y, x = x, y, z\n",
        "print(x,y,z)\n",
        "```\n",
        "1. 2 1 3\n",
        "2. **1 2 3**\n",
        "3. 1 2 2\n",
        "4. 3 2 1"
      ]
    },
    {
      "cell_type": "code",
      "metadata": {
        "id": "Urv99do6BPlK",
        "colab_type": "code",
        "outputId": "c109e9c9-687a-4a3d-954f-cf1f859d14c2",
        "colab": {
          "base_uri": "https://localhost:8080/",
          "height": 34
        }
      },
      "source": [
        "x, y, z = 3, 2, 1\n",
        "z, y, x = x, y, z\n",
        "print(x,y,z)"
      ],
      "execution_count": 0,
      "outputs": [
        {
          "output_type": "stream",
          "text": [
            "1 2 3\n"
          ],
          "name": "stdout"
        }
      ]
    },
    {
      "cell_type": "markdown",
      "metadata": {
        "id": "Z5OGJiHLBjDE",
        "colab_type": "text"
      },
      "source": [
        "Q8. What will be the output of the following snippet?\n",
        "```\n",
        "a = True\n",
        "b = False\n",
        "a = a or b\n",
        "b = a and b\n",
        "a = a or b\n",
        "print(a,b)\n",
        "```\n",
        "1. **True False**\n",
        "2. True True\n",
        "3. False False\n",
        "4. False True"
      ]
    },
    {
      "cell_type": "code",
      "metadata": {
        "id": "s1hM2xkoByDS",
        "colab_type": "code",
        "outputId": "c18412f8-c586-4e55-c227-1cd7f70df755",
        "colab": {
          "base_uri": "https://localhost:8080/",
          "height": 34
        }
      },
      "source": [
        "a = True\n",
        "b = False\n",
        "a = a or b\n",
        "b = a and b\n",
        "a = a or b\n",
        "print(a,b)"
      ],
      "execution_count": 0,
      "outputs": [
        {
          "output_type": "stream",
          "text": [
            "True False\n"
          ],
          "name": "stdout"
        }
      ]
    },
    {
      "cell_type": "markdown",
      "metadata": {
        "id": "BBUuaJmDB7Fc",
        "colab_type": "text"
      },
      "source": [
        "Q9. What will be the output of the following snippet?\n",
        "```\n",
        "def fun(x):\n",
        "  return 1 if x % 2 != 0 else 2\n",
        "print(fun(fun(1)))\n",
        "```\n",
        "1. 2\n",
        "2. the code will cause a runtime error\n",
        "3. **1**\n",
        "4. None"
      ]
    },
    {
      "cell_type": "code",
      "metadata": {
        "id": "Z_Mm85aiCGdC",
        "colab_type": "code",
        "outputId": "7031d382-987b-4300-d52d-78b1b4e8d58a",
        "colab": {
          "base_uri": "https://localhost:8080/",
          "height": 34
        }
      },
      "source": [
        "def fun(x):\n",
        "  return 1 if x % 2 != 0 else 2\n",
        "print(fun(fun(1)))"
      ],
      "execution_count": 0,
      "outputs": [
        {
          "output_type": "stream",
          "text": [
            "1\n"
          ],
          "name": "stdout"
        }
      ]
    },
    {
      "cell_type": "markdown",
      "metadata": {
        "id": "EHBuEstoCb2a",
        "colab_type": "text"
      },
      "source": [
        "Q10. What will be the output of the following line?\n",
        "```\n",
        "print(len((1,)))\n",
        "```\n",
        "1. 0\n",
        "2. the code is erroneous\n",
        "3. 2\n",
        "4. **1**"
      ]
    },
    {
      "cell_type": "code",
      "metadata": {
        "id": "e32O3NZ0Hvxr",
        "colab_type": "code",
        "outputId": "15cdbe36-a254-41ad-e798-a96cadde81ea",
        "colab": {
          "base_uri": "https://localhost:8080/",
          "height": 34
        }
      },
      "source": [
        "print(len((1,)))"
      ],
      "execution_count": 0,
      "outputs": [
        {
          "output_type": "stream",
          "text": [
            "1\n"
          ],
          "name": "stdout"
        }
      ]
    },
    {
      "cell_type": "markdown",
      "metadata": {
        "id": "uqOGoISsHxc8",
        "colab_type": "text"
      },
      "source": [
        "Q11. What will be the output of the following piece of code?\n",
        "```\n",
        "d = { 1:0, 2:1, 3:2, 0:1 }\n",
        "x = 0\n",
        "for y in range(len(d)):\n",
        "  x = d[x]\n",
        "print(x)\n",
        "```\n",
        "1. the code will cause a runtime error\n",
        "2. 2\n",
        "3. **0**\n",
        "4. 1"
      ]
    },
    {
      "cell_type": "code",
      "metadata": {
        "id": "9ervyX_VIJj6",
        "colab_type": "code",
        "outputId": "0558cc8a-ab79-4e28-bb89-4165f95e0c19",
        "colab": {
          "base_uri": "https://localhost:8080/",
          "height": 34
        }
      },
      "source": [
        "d = { 1:0, 2:1, 3:2, 0:1 }\n",
        "x = 0\n",
        "for y in range(len(d)):\n",
        "  x = d[x]\n",
        "print(x)"
      ],
      "execution_count": 0,
      "outputs": [
        {
          "output_type": "stream",
          "text": [
            "0\n"
          ],
          "name": "stdout"
        }
      ]
    },
    {
      "cell_type": "markdown",
      "metadata": {
        "id": "IeDJirxQJEaD",
        "colab_type": "text"
      },
      "source": [
        "Q12. What will be the output of the following piece of code:\n",
        "```\n",
        "y=input()\n",
        "x=input()\n",
        "print(x+y)\n",
        "```\n",
        "if the user enters two lines containing 1 and 2 respectively?\n",
        "1. **21**\n",
        "2. 12\n",
        "3. 2\n",
        "4. 3"
      ]
    },
    {
      "cell_type": "code",
      "metadata": {
        "id": "xdheBLO5JRki",
        "colab_type": "code",
        "outputId": "edb0d7ae-d644-45f6-bb07-f00a72f3efe2",
        "colab": {
          "base_uri": "https://localhost:8080/",
          "height": 68
        }
      },
      "source": [
        "y=input()\n",
        "x=input()\n",
        "print(x+y)"
      ],
      "execution_count": 0,
      "outputs": [
        {
          "output_type": "stream",
          "text": [
            "1\n",
            "2\n",
            "21\n"
          ],
          "name": "stdout"
        }
      ]
    },
    {
      "cell_type": "markdown",
      "metadata": {
        "id": "uOj4NnF7JeiY",
        "colab_type": "text"
      },
      "source": [
        "Q13. What will be the output of the following piece of code?\n",
        "```\n",
        "print(“a”,”b”,”c”,sep=”‘”)\n",
        "```\n",
        "1. **a’b’c**\n",
        "2. abc\n",
        "3. a b c\n",
        "4. the code is erroneous"
      ]
    },
    {
      "cell_type": "code",
      "metadata": {
        "id": "5MBlwOPaJrOi",
        "colab_type": "code",
        "outputId": "35ffd5d1-65af-4756-f3b4-c0bf539795fe",
        "colab": {
          "base_uri": "https://localhost:8080/",
          "height": 34
        }
      },
      "source": [
        "print('a','b','c',sep=\"'\")"
      ],
      "execution_count": 0,
      "outputs": [
        {
          "output_type": "stream",
          "text": [
            "a'b'c\n"
          ],
          "name": "stdout"
        }
      ]
    },
    {
      "cell_type": "markdown",
      "metadata": {
        "id": "lugLs3FCJ3wr",
        "colab_type": "text"
      },
      "source": [
        "Q14. What will be the output of the following piece of code?\n",
        "```\n",
        "v = 1 + 1 // 2 + 1 / 2 + 2\n",
        "print(v)\n",
        "```\n",
        "1. 4.0\n",
        "2. **3.5**\n",
        "3. 3\n",
        "4. 4"
      ]
    },
    {
      "cell_type": "code",
      "metadata": {
        "id": "-yjGFmsaKQ3R",
        "colab_type": "code",
        "outputId": "5db8871e-b048-4d8e-86e4-f5b1ee7ecbc0",
        "colab": {
          "base_uri": "https://localhost:8080/",
          "height": 34
        }
      },
      "source": [
        "v = 1 + 1 // 2 + 1 / 2 + 2\n",
        "print(v)"
      ],
      "execution_count": 0,
      "outputs": [
        {
          "output_type": "stream",
          "text": [
            "3.5\n"
          ],
          "name": "stdout"
        }
      ]
    },
    {
      "cell_type": "markdown",
      "metadata": {
        "id": "uhqY9bw1K4gC",
        "colab_type": "text"
      },
      "source": [
        "Q15. What will be the output of the following code?\n",
        "```\n",
        "t = (1,)\n",
        "t = t[0] + t[0]\n",
        "print(t)\n",
        "```\n",
        "1. (1,)\n",
        "2. 1\n",
        "3. (1, 1)\n",
        "4. **2**"
      ]
    },
    {
      "cell_type": "code",
      "metadata": {
        "id": "2LbZkUY1LHtJ",
        "colab_type": "code",
        "outputId": "023e5eb7-269c-4168-ff7e-00a54a5ae9c5",
        "colab": {
          "base_uri": "https://localhost:8080/",
          "height": 34
        }
      },
      "source": [
        "t = (1,)\n",
        "t = t[0] + t[0]\n",
        "print(t)"
      ],
      "execution_count": 0,
      "outputs": [
        {
          "output_type": "stream",
          "text": [
            "2\n"
          ],
          "name": "stdout"
        }
      ]
    },
    {
      "cell_type": "markdown",
      "metadata": {
        "id": "gwa9zeQELIt5",
        "colab_type": "text"
      },
      "source": [
        "Q16. What will be the output of the following piece of code?\n",
        "```\n",
        "x = 16\n",
        "while x > 0:\n",
        "  print(‘*’,end=”)\n",
        "  x //= 2\n",
        "```\n",
        "1. '* * * * *' (answer)\n",
        "2. '* * *'\n",
        "3. *\n",
        "4. the code will enter an infinite loop"
      ]
    },
    {
      "cell_type": "code",
      "metadata": {
        "id": "u2-Pih1bLrsz",
        "colab_type": "code",
        "outputId": "375e8946-242f-42eb-e12d-7d843aa635f9",
        "colab": {
          "base_uri": "https://localhost:8080/",
          "height": 34
        }
      },
      "source": [
        "x = 16\n",
        "while x > 0:\n",
        "  print('*',end='')\n",
        "  x //= 2"
      ],
      "execution_count": 0,
      "outputs": [
        {
          "output_type": "stream",
          "text": [
            "*****"
          ],
          "name": "stdout"
        }
      ]
    },
    {
      "cell_type": "markdown",
      "metadata": {
        "id": "ilO4tvNUMVuy",
        "colab_type": "text"
      },
      "source": [
        "Q17. What will be the output of the following snippet?\n",
        "```\n",
        "d = { ‘one’:1, ‘three’:3, ‘two’:2 }\n",
        "for k in sorted(d.values()):\n",
        "  print(k,end=’ ‘)\n",
        "```\n",
        "1. **1 2 3**\n",
        "2. 3 2 1\n",
        "3. 2 3 1\n",
        "4. 3 2 1"
      ]
    },
    {
      "cell_type": "code",
      "metadata": {
        "id": "UzVUx1fHMm7u",
        "colab_type": "code",
        "outputId": "b52d3d9a-6899-46c0-c13b-0fc181afb47d",
        "colab": {
          "base_uri": "https://localhost:8080/",
          "height": 34
        }
      },
      "source": [
        "d = { 'one':1, 'three':3, 'two':2 }\n",
        "for k in sorted(d.values()):\n",
        "  print(k,end=' ')"
      ],
      "execution_count": 0,
      "outputs": [
        {
          "output_type": "stream",
          "text": [
            "1 2 3 "
          ],
          "name": "stdout"
        }
      ]
    },
    {
      "cell_type": "markdown",
      "metadata": {
        "id": "jQAwMUboMuQC",
        "colab_type": "text"
      },
      "source": [
        "Q18. What will be the output of the following snippet?\n",
        "```\n",
        "print(len([i for i in range(0,-2)]))\n",
        "```\n",
        "1. **0**\n",
        "2. 2\n",
        "3. 3\n",
        "4. 1"
      ]
    },
    {
      "cell_type": "code",
      "metadata": {
        "id": "jbsUX3fyNAEB",
        "colab_type": "code",
        "outputId": "69ddafa8-e965-45e1-c687-de0135395b0d",
        "colab": {
          "base_uri": "https://localhost:8080/",
          "height": 34
        }
      },
      "source": [
        "print(len([i for i in range(0,-2)]))"
      ],
      "execution_count": 0,
      "outputs": [
        {
          "output_type": "stream",
          "text": [
            "0\n"
          ],
          "name": "stdout"
        }
      ]
    },
    {
      "cell_type": "markdown",
      "metadata": {
        "id": "7NfgGSfHN6Ue",
        "colab_type": "text"
      },
      "source": [
        "Q19. Which of the following lines properly invokes the function defined as:\n",
        "```\n",
        "def fun(a,b,c=0)\n",
        "```\n",
        "1. fun(0):\n",
        "2. fun(b=0,b=0):\n",
        "3. fun(1,c=2):\n",
        "4. **fun(a=1,b=0,c=0):**"
      ]
    },
    {
      "cell_type": "code",
      "metadata": {
        "id": "LgpY1pEtLhBP",
        "colab_type": "code",
        "colab": {
          "base_uri": "https://localhost:8080/",
          "height": 34
        },
        "outputId": "9b0fcdca-550e-4e29-ef15-18538f74f59f"
      },
      "source": [
        "def fun(a,b,c=0):\n",
        "  return print(\"Function Invoked!\")\n",
        "fun(a=1,b=0,c=0)"
      ],
      "execution_count": 1,
      "outputs": [
        {
          "output_type": "stream",
          "text": [
            "Function Invoked!\n"
          ],
          "name": "stdout"
        }
      ]
    },
    {
      "cell_type": "markdown",
      "metadata": {
        "id": "Qur1aT9NLpJt",
        "colab_type": "text"
      },
      "source": [
        "Q20. What will be the output of the following snippet?\n",
        "```\n",
        "l = [1,2,3,4]\n",
        "l = list(map(lambda x: 2*x,l))\n",
        "print(l)\n",
        "```\n",
        "1. 10\n",
        "2. the snippet will cause a runtime error\n",
        "3. 1 2 3 4\n",
        "4. **2 4 6 8**"
      ]
    },
    {
      "cell_type": "code",
      "metadata": {
        "id": "T2kqQ-rqL1e7",
        "colab_type": "code",
        "colab": {
          "base_uri": "https://localhost:8080/",
          "height": 34
        },
        "outputId": "e7bea931-a741-4c3b-f3c5-9acd8c4c0d8b"
      },
      "source": [
        "l = [1,2,3,4]\n",
        "l = list(map(lambda x: 2*x,l))\n",
        "print(l)"
      ],
      "execution_count": 2,
      "outputs": [
        {
          "output_type": "stream",
          "text": [
            "[2, 4, 6, 8]\n"
          ],
          "name": "stdout"
        }
      ]
    }
  ]
}