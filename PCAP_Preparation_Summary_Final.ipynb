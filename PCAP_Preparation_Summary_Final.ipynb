{
  "nbformat": 4,
  "nbformat_minor": 0,
  "metadata": {
    "colab": {
      "name": "PCAP_Preparation_Summary_Final.ipynb",
      "provenance": [],
      "collapsed_sections": [],
      "include_colab_link": true
    },
    "kernelspec": {
      "name": "python3",
      "display_name": "Python 3"
    }
  },
  "cells": [
    {
      "cell_type": "markdown",
      "metadata": {
        "id": "view-in-github",
        "colab_type": "text"
      },
      "source": [
        "<a href=\"https://colab.research.google.com/github/raj-vijay/py/blob/master/PCAP_Preparation_Summary_Final.ipynb\" target=\"_parent\"><img src=\"https://colab.research.google.com/assets/colab-badge.svg\" alt=\"Open In Colab\"/></a>"
      ]
    },
    {
      "cell_type": "markdown",
      "metadata": {
        "id": "_Jhv2gyX59LD",
        "colab_type": "text"
      },
      "source": [
        "Q1. The meaning of the keyword argument is determined by:\n",
        "1. its position within the argument list\n",
        "2. its value\n",
        "3. its connection with existing variables\n",
        "4. **the argument’s name specified along with its value**"
      ]
    },
    {
      "cell_type": "markdown",
      "metadata": {
        "id": "dFLqTH1P6E6S",
        "colab_type": "text"
      },
      "source": [
        "Q2. Which of the following sentences is true? \n",
        "```\n",
        "str1 = ‘string’\n",
        "str2 = str1[:]\n",
        "```\n",
        "1. **str1 and str2 are different (but equal) strings**\n",
        "2. str2 is longer than str1\n",
        "3. “>str1 and str2 are different names of the same string\n",
        "4. str1 is longer than str2"
      ]
    },
    {
      "cell_type": "markdown",
      "metadata": {
        "id": "b49Vd_DT8KFr",
        "colab_type": "text"
      },
      "source": [
        "Q3. An operator able to check whether two values are equal, is coded as:\n",
        "1. =\n",
        "2. **==**\n",
        "3. ===\n",
        "4. is"
      ]
    },
    {
      "cell_type": "markdown",
      "metadata": {
        "id": "jCCXfXwc8TXZ",
        "colab_type": "text"
      },
      "source": [
        "Q4. The following snippet:\n",
        "```\n",
        "def f(par2,par1):\n",
        "  return par2 + par1\n",
        "print(f(par2=1,2))\n",
        "```\n",
        "1. will output 2\n",
        "2. will output 3\n",
        "3. will output 1\n",
        "4. **is erroneous**"
      ]
    },
    {
      "cell_type": "code",
      "metadata": {
        "id": "jKRIvLWm8jSa",
        "colab_type": "code",
        "outputId": "02ce5135-c1fd-48d4-d09a-64ca8a52c8c9",
        "colab": {
          "base_uri": "https://localhost:8080/",
          "height": 129
        }
      },
      "source": [
        "# Returns SyntaxError: positional argument follows keyword argument\n",
        "def f(par2,par1):\n",
        "  return par2 + par1\n",
        "print(f(par2=1,2))"
      ],
      "execution_count": 0,
      "outputs": [
        {
          "output_type": "error",
          "ename": "SyntaxError",
          "evalue": "ignored",
          "traceback": [
            "\u001b[0;36m  File \u001b[0;32m\"<ipython-input-13-07ed11647e23>\"\u001b[0;36m, line \u001b[0;32m3\u001b[0m\n\u001b[0;31m    print(f(par2=1,2))\u001b[0m\n\u001b[0m                  ^\u001b[0m\n\u001b[0;31mSyntaxError\u001b[0m\u001b[0;31m:\u001b[0m positional argument follows keyword argument\n"
          ]
        }
      ]
    },
    {
      "cell_type": "markdown",
      "metadata": {
        "id": "EkqpAsbZ8oGb",
        "colab_type": "text"
      },
      "source": [
        "Q5. What value will be assigned to the x variable?\n",
        "```\n",
        "z = 2\n",
        "y = 1\n",
        "x = y < z or z > y and y > z or z < y\n",
        "```\n",
        "1. 0\n",
        "2. **True**\n",
        "3. 1\n",
        "4. False"
      ]
    },
    {
      "cell_type": "code",
      "metadata": {
        "id": "TcoH2-gX9DRz",
        "colab_type": "code",
        "outputId": "c11877ca-2aa8-4e48-9403-6eb77bc93676",
        "colab": {
          "base_uri": "https://localhost:8080/",
          "height": 34
        }
      },
      "source": [
        "z = 2\n",
        "y = 1\n",
        "x = y < z or z > y and y > z or z < y\n",
        "print(x)"
      ],
      "execution_count": 0,
      "outputs": [
        {
          "output_type": "stream",
          "text": [
            "True\n"
          ],
          "name": "stdout"
        }
      ]
    },
    {
      "cell_type": "markdown",
      "metadata": {
        "id": "Thn5vY5A-ZCj",
        "colab_type": "text"
      },
      "source": [
        "Q6. What will be the output of the following snippet?\n",
        "```\n",
        "str = ‘abcdef’\n",
        "def fun(s):\n",
        "  del s[2]\n",
        "  return s\n",
        "print(fun(str))\n",
        "```\n",
        "1. abcef\n",
        "2. **the program will cause an error**\n",
        "3. abdef\n",
        "4. acdef"
      ]
    },
    {
      "cell_type": "code",
      "metadata": {
        "id": "DkwGtugAAPRy",
        "colab_type": "code",
        "outputId": "5df263da-ffed-4b47-d7bf-3d0054945322",
        "colab": {
          "base_uri": "https://localhost:8080/",
          "height": 316
        }
      },
      "source": [
        "# Returns TypeError: 'str' object doesn't support item deletion\n",
        "str = 'abcdef'\n",
        "def fun(s):\n",
        "  del s[2]\n",
        "  return s\n",
        "print(fun(str))"
      ],
      "execution_count": 0,
      "outputs": [
        {
          "output_type": "error",
          "ename": "TypeError",
          "evalue": "ignored",
          "traceback": [
            "\u001b[0;31m---------------------------------------------------------------------------\u001b[0m",
            "\u001b[0;31mTypeError\u001b[0m                                 Traceback (most recent call last)",
            "\u001b[0;32m<ipython-input-18-e083611634fd>\u001b[0m in \u001b[0;36m<module>\u001b[0;34m()\u001b[0m\n\u001b[1;32m      3\u001b[0m   \u001b[0;32mdel\u001b[0m \u001b[0ms\u001b[0m\u001b[0;34m[\u001b[0m\u001b[0;36m2\u001b[0m\u001b[0;34m]\u001b[0m\u001b[0;34m\u001b[0m\u001b[0;34m\u001b[0m\u001b[0m\n\u001b[1;32m      4\u001b[0m   \u001b[0;32mreturn\u001b[0m \u001b[0ms\u001b[0m\u001b[0;34m\u001b[0m\u001b[0;34m\u001b[0m\u001b[0m\n\u001b[0;32m----> 5\u001b[0;31m \u001b[0mprint\u001b[0m\u001b[0;34m(\u001b[0m\u001b[0mfun\u001b[0m\u001b[0;34m(\u001b[0m\u001b[0mstr\u001b[0m\u001b[0;34m)\u001b[0m\u001b[0;34m)\u001b[0m\u001b[0;34m\u001b[0m\u001b[0;34m\u001b[0m\u001b[0m\n\u001b[0m",
            "\u001b[0;32m<ipython-input-18-e083611634fd>\u001b[0m in \u001b[0;36mfun\u001b[0;34m(s)\u001b[0m\n\u001b[1;32m      1\u001b[0m \u001b[0mstr\u001b[0m \u001b[0;34m=\u001b[0m \u001b[0;34m'abcdef'\u001b[0m\u001b[0;34m\u001b[0m\u001b[0;34m\u001b[0m\u001b[0m\n\u001b[1;32m      2\u001b[0m \u001b[0;32mdef\u001b[0m \u001b[0mfun\u001b[0m\u001b[0;34m(\u001b[0m\u001b[0ms\u001b[0m\u001b[0;34m)\u001b[0m\u001b[0;34m:\u001b[0m\u001b[0;34m\u001b[0m\u001b[0;34m\u001b[0m\u001b[0m\n\u001b[0;32m----> 3\u001b[0;31m   \u001b[0;32mdel\u001b[0m \u001b[0ms\u001b[0m\u001b[0;34m[\u001b[0m\u001b[0;36m2\u001b[0m\u001b[0;34m]\u001b[0m\u001b[0;34m\u001b[0m\u001b[0;34m\u001b[0m\u001b[0m\n\u001b[0m\u001b[1;32m      4\u001b[0m   \u001b[0;32mreturn\u001b[0m \u001b[0ms\u001b[0m\u001b[0;34m\u001b[0m\u001b[0;34m\u001b[0m\u001b[0m\n\u001b[1;32m      5\u001b[0m \u001b[0mprint\u001b[0m\u001b[0;34m(\u001b[0m\u001b[0mfun\u001b[0m\u001b[0;34m(\u001b[0m\u001b[0mstr\u001b[0m\u001b[0;34m)\u001b[0m\u001b[0;34m)\u001b[0m\u001b[0;34m\u001b[0m\u001b[0;34m\u001b[0m\u001b[0m\n",
            "\u001b[0;31mTypeError\u001b[0m: 'str' object doesn't support item deletion"
          ]
        }
      ]
    },
    {
      "cell_type": "markdown",
      "metadata": {
        "id": "MTVP8oDKAtEK",
        "colab_type": "text"
      },
      "source": [
        "Q7. What will be the output of the following piece of code?\n",
        "```\n",
        "x, y, z = 3, 2, 1\n",
        "z, y, x = x, y, z\n",
        "print(x,y,z)\n",
        "```\n",
        "1. 2 1 3\n",
        "2. **1 2 3**\n",
        "3. 1 2 2\n",
        "4. 3 2 1"
      ]
    },
    {
      "cell_type": "code",
      "metadata": {
        "id": "Urv99do6BPlK",
        "colab_type": "code",
        "outputId": "c109e9c9-687a-4a3d-954f-cf1f859d14c2",
        "colab": {
          "base_uri": "https://localhost:8080/",
          "height": 34
        }
      },
      "source": [
        "x, y, z = 3, 2, 1\n",
        "z, y, x = x, y, z\n",
        "print(x,y,z)"
      ],
      "execution_count": 0,
      "outputs": [
        {
          "output_type": "stream",
          "text": [
            "1 2 3\n"
          ],
          "name": "stdout"
        }
      ]
    },
    {
      "cell_type": "markdown",
      "metadata": {
        "id": "Z5OGJiHLBjDE",
        "colab_type": "text"
      },
      "source": [
        "Q8. What will be the output of the following snippet?\n",
        "```\n",
        "a = True\n",
        "b = False\n",
        "a = a or b\n",
        "b = a and b\n",
        "a = a or b\n",
        "print(a,b)\n",
        "```\n",
        "1. **True False**\n",
        "2. True True\n",
        "3. False False\n",
        "4. False True"
      ]
    },
    {
      "cell_type": "code",
      "metadata": {
        "id": "s1hM2xkoByDS",
        "colab_type": "code",
        "outputId": "c18412f8-c586-4e55-c227-1cd7f70df755",
        "colab": {
          "base_uri": "https://localhost:8080/",
          "height": 34
        }
      },
      "source": [
        "a = True\n",
        "b = False\n",
        "a = a or b\n",
        "b = a and b\n",
        "a = a or b\n",
        "print(a,b)"
      ],
      "execution_count": 0,
      "outputs": [
        {
          "output_type": "stream",
          "text": [
            "True False\n"
          ],
          "name": "stdout"
        }
      ]
    },
    {
      "cell_type": "markdown",
      "metadata": {
        "id": "BBUuaJmDB7Fc",
        "colab_type": "text"
      },
      "source": [
        "Q9. What will be the output of the following snippet?\n",
        "```\n",
        "def fun(x):\n",
        "  return 1 if x % 2 != 0 else 2\n",
        "print(fun(fun(1)))\n",
        "```\n",
        "1. 2\n",
        "2. the code will cause a runtime error\n",
        "3. **1**\n",
        "4. None"
      ]
    },
    {
      "cell_type": "code",
      "metadata": {
        "id": "Z_Mm85aiCGdC",
        "colab_type": "code",
        "outputId": "7031d382-987b-4300-d52d-78b1b4e8d58a",
        "colab": {
          "base_uri": "https://localhost:8080/",
          "height": 34
        }
      },
      "source": [
        "def fun(x):\n",
        "  return 1 if x % 2 != 0 else 2\n",
        "print(fun(fun(1)))"
      ],
      "execution_count": 0,
      "outputs": [
        {
          "output_type": "stream",
          "text": [
            "1\n"
          ],
          "name": "stdout"
        }
      ]
    },
    {
      "cell_type": "markdown",
      "metadata": {
        "id": "EHBuEstoCb2a",
        "colab_type": "text"
      },
      "source": [
        "Q10. What will be the output of the following line?\n",
        "```\n",
        "print(len((1,)))\n",
        "```\n",
        "1. 0\n",
        "2. the code is erroneous\n",
        "3. 2\n",
        "4. **1**"
      ]
    },
    {
      "cell_type": "code",
      "metadata": {
        "id": "e32O3NZ0Hvxr",
        "colab_type": "code",
        "outputId": "15cdbe36-a254-41ad-e798-a96cadde81ea",
        "colab": {
          "base_uri": "https://localhost:8080/",
          "height": 34
        }
      },
      "source": [
        "print(len((1,)))"
      ],
      "execution_count": 0,
      "outputs": [
        {
          "output_type": "stream",
          "text": [
            "1\n"
          ],
          "name": "stdout"
        }
      ]
    },
    {
      "cell_type": "markdown",
      "metadata": {
        "id": "uqOGoISsHxc8",
        "colab_type": "text"
      },
      "source": [
        "Q11. What will be the output of the following piece of code?\n",
        "```\n",
        "d = { 1:0, 2:1, 3:2, 0:1 }\n",
        "x = 0\n",
        "for y in range(len(d)):\n",
        "  x = d[x]\n",
        "print(x)\n",
        "```\n",
        "1. the code will cause a runtime error\n",
        "2. 2\n",
        "3. **0**\n",
        "4. 1"
      ]
    },
    {
      "cell_type": "code",
      "metadata": {
        "id": "9ervyX_VIJj6",
        "colab_type": "code",
        "outputId": "0558cc8a-ab79-4e28-bb89-4165f95e0c19",
        "colab": {
          "base_uri": "https://localhost:8080/",
          "height": 34
        }
      },
      "source": [
        "d = { 1:0, 2:1, 3:2, 0:1 }\n",
        "x = 0\n",
        "for y in range(len(d)):\n",
        "  x = d[x]\n",
        "print(x)"
      ],
      "execution_count": 0,
      "outputs": [
        {
          "output_type": "stream",
          "text": [
            "0\n"
          ],
          "name": "stdout"
        }
      ]
    },
    {
      "cell_type": "markdown",
      "metadata": {
        "id": "IeDJirxQJEaD",
        "colab_type": "text"
      },
      "source": [
        "Q12. What will be the output of the following piece of code:\n",
        "```\n",
        "y=input()\n",
        "x=input()\n",
        "print(x+y)\n",
        "```\n",
        "if the user enters two lines containing 1 and 2 respectively?\n",
        "1. **21**\n",
        "2. 12\n",
        "3. 2\n",
        "4. 3"
      ]
    },
    {
      "cell_type": "code",
      "metadata": {
        "id": "xdheBLO5JRki",
        "colab_type": "code",
        "outputId": "edb0d7ae-d644-45f6-bb07-f00a72f3efe2",
        "colab": {
          "base_uri": "https://localhost:8080/",
          "height": 68
        }
      },
      "source": [
        "y=input()\n",
        "x=input()\n",
        "print(x+y)"
      ],
      "execution_count": 0,
      "outputs": [
        {
          "output_type": "stream",
          "text": [
            "1\n",
            "2\n",
            "21\n"
          ],
          "name": "stdout"
        }
      ]
    },
    {
      "cell_type": "markdown",
      "metadata": {
        "id": "uOj4NnF7JeiY",
        "colab_type": "text"
      },
      "source": [
        "Q13. What will be the output of the following piece of code?\n",
        "```\n",
        "print(“a”,”b”,”c”,sep=”‘”)\n",
        "```\n",
        "1. **a’b’c**\n",
        "2. abc\n",
        "3. a b c\n",
        "4. the code is erroneous"
      ]
    },
    {
      "cell_type": "code",
      "metadata": {
        "id": "5MBlwOPaJrOi",
        "colab_type": "code",
        "outputId": "35ffd5d1-65af-4756-f3b4-c0bf539795fe",
        "colab": {
          "base_uri": "https://localhost:8080/",
          "height": 34
        }
      },
      "source": [
        "print('a','b','c',sep=\"'\")"
      ],
      "execution_count": 0,
      "outputs": [
        {
          "output_type": "stream",
          "text": [
            "a'b'c\n"
          ],
          "name": "stdout"
        }
      ]
    },
    {
      "cell_type": "markdown",
      "metadata": {
        "id": "lugLs3FCJ3wr",
        "colab_type": "text"
      },
      "source": [
        "Q14. What will be the output of the following piece of code?\n",
        "```\n",
        "v = 1 + 1 // 2 + 1 / 2 + 2\n",
        "print(v)\n",
        "```\n",
        "1. 4.0\n",
        "2. **3.5**\n",
        "3. 3\n",
        "4. 4"
      ]
    },
    {
      "cell_type": "code",
      "metadata": {
        "id": "-yjGFmsaKQ3R",
        "colab_type": "code",
        "outputId": "5db8871e-b048-4d8e-86e4-f5b1ee7ecbc0",
        "colab": {
          "base_uri": "https://localhost:8080/",
          "height": 34
        }
      },
      "source": [
        "v = 1 + 1 // 2 + 1 / 2 + 2\n",
        "print(v)"
      ],
      "execution_count": 0,
      "outputs": [
        {
          "output_type": "stream",
          "text": [
            "3.5\n"
          ],
          "name": "stdout"
        }
      ]
    },
    {
      "cell_type": "markdown",
      "metadata": {
        "id": "uhqY9bw1K4gC",
        "colab_type": "text"
      },
      "source": [
        "Q15. What will be the output of the following code?\n",
        "```\n",
        "t = (1,)\n",
        "t = t[0] + t[0]\n",
        "print(t)\n",
        "```\n",
        "1. (1,)\n",
        "2. 1\n",
        "3. (1, 1)\n",
        "4. **2**"
      ]
    },
    {
      "cell_type": "code",
      "metadata": {
        "id": "2LbZkUY1LHtJ",
        "colab_type": "code",
        "outputId": "023e5eb7-269c-4168-ff7e-00a54a5ae9c5",
        "colab": {
          "base_uri": "https://localhost:8080/",
          "height": 34
        }
      },
      "source": [
        "t = (1,)\n",
        "t = t[0] + t[0]\n",
        "print(t)"
      ],
      "execution_count": 0,
      "outputs": [
        {
          "output_type": "stream",
          "text": [
            "2\n"
          ],
          "name": "stdout"
        }
      ]
    },
    {
      "cell_type": "markdown",
      "metadata": {
        "id": "gwa9zeQELIt5",
        "colab_type": "text"
      },
      "source": [
        "Q16. What will be the output of the following piece of code?\n",
        "```\n",
        "x = 16\n",
        "while x > 0:\n",
        "  print(‘*’,end=”)\n",
        "  x //= 2\n",
        "```\n",
        "1. '* * * * *' (answer)\n",
        "2. '* * *'\n",
        "3. *\n",
        "4. the code will enter an infinite loop"
      ]
    },
    {
      "cell_type": "code",
      "metadata": {
        "id": "u2-Pih1bLrsz",
        "colab_type": "code",
        "outputId": "375e8946-242f-42eb-e12d-7d843aa635f9",
        "colab": {
          "base_uri": "https://localhost:8080/",
          "height": 34
        }
      },
      "source": [
        "x = 16\n",
        "while x > 0:\n",
        "  print('*',end='')\n",
        "  x //= 2"
      ],
      "execution_count": 0,
      "outputs": [
        {
          "output_type": "stream",
          "text": [
            "*****"
          ],
          "name": "stdout"
        }
      ]
    },
    {
      "cell_type": "markdown",
      "metadata": {
        "id": "ilO4tvNUMVuy",
        "colab_type": "text"
      },
      "source": [
        "Q17. What will be the output of the following snippet?\n",
        "```\n",
        "d = { ‘one’:1, ‘three’:3, ‘two’:2 }\n",
        "for k in sorted(d.values()):\n",
        "  print(k,end=’ ‘)\n",
        "```\n",
        "1. **1 2 3**\n",
        "2. 3 2 1\n",
        "3. 2 3 1\n",
        "4. 3 2 1"
      ]
    },
    {
      "cell_type": "code",
      "metadata": {
        "id": "UzVUx1fHMm7u",
        "colab_type": "code",
        "outputId": "b52d3d9a-6899-46c0-c13b-0fc181afb47d",
        "colab": {
          "base_uri": "https://localhost:8080/",
          "height": 34
        }
      },
      "source": [
        "d = { 'one':1, 'three':3, 'two':2 }\n",
        "for k in sorted(d.values()):\n",
        "  print(k,end=' ')"
      ],
      "execution_count": 0,
      "outputs": [
        {
          "output_type": "stream",
          "text": [
            "1 2 3 "
          ],
          "name": "stdout"
        }
      ]
    },
    {
      "cell_type": "markdown",
      "metadata": {
        "id": "jQAwMUboMuQC",
        "colab_type": "text"
      },
      "source": [
        "Q18. What will be the output of the following snippet?\n",
        "```\n",
        "print(len([i for i in range(0,-2)]))\n",
        "```\n",
        "1. **0**\n",
        "2. 2\n",
        "3. 3\n",
        "4. 1"
      ]
    },
    {
      "cell_type": "code",
      "metadata": {
        "id": "jbsUX3fyNAEB",
        "colab_type": "code",
        "outputId": "69ddafa8-e965-45e1-c687-de0135395b0d",
        "colab": {
          "base_uri": "https://localhost:8080/",
          "height": 34
        }
      },
      "source": [
        "print(len([i for i in range(0,-2)]))"
      ],
      "execution_count": 0,
      "outputs": [
        {
          "output_type": "stream",
          "text": [
            "0\n"
          ],
          "name": "stdout"
        }
      ]
    },
    {
      "cell_type": "markdown",
      "metadata": {
        "id": "7NfgGSfHN6Ue",
        "colab_type": "text"
      },
      "source": [
        "Q19. Which of the following lines properly invokes the function defined as:\n",
        "```\n",
        "def fun(a,b,c=0)\n",
        "```\n",
        "1. fun(0):\n",
        "2. fun(b=0,b=0):\n",
        "3. fun(1,c=2):\n",
        "4. **fun(a=1,b=0,c=0):**"
      ]
    },
    {
      "cell_type": "code",
      "metadata": {
        "id": "LgpY1pEtLhBP",
        "colab_type": "code",
        "outputId": "9b0fcdca-550e-4e29-ef15-18538f74f59f",
        "colab": {
          "base_uri": "https://localhost:8080/",
          "height": 34
        }
      },
      "source": [
        "def fun(a,b,c=0):\n",
        "  return print(\"Function Invoked!\")\n",
        "fun(a=1,b=0,c=0)"
      ],
      "execution_count": 0,
      "outputs": [
        {
          "output_type": "stream",
          "text": [
            "Function Invoked!\n"
          ],
          "name": "stdout"
        }
      ]
    },
    {
      "cell_type": "markdown",
      "metadata": {
        "id": "Qur1aT9NLpJt",
        "colab_type": "text"
      },
      "source": [
        "Q20. What will be the output of the following snippet?\n",
        "```\n",
        "l = [1,2,3,4]\n",
        "l = list(map(lambda x: 2*x,l))\n",
        "print(l)\n",
        "```\n",
        "1. 10\n",
        "2. the snippet will cause a runtime error\n",
        "3. 1 2 3 4\n",
        "4. **2 4 6 8**"
      ]
    },
    {
      "cell_type": "code",
      "metadata": {
        "id": "T2kqQ-rqL1e7",
        "colab_type": "code",
        "outputId": "e7bea931-a741-4c3b-f3c5-9acd8c4c0d8b",
        "colab": {
          "base_uri": "https://localhost:8080/",
          "height": 34
        }
      },
      "source": [
        "l = [1,2,3,4]\n",
        "l = list(map(lambda x: 2*x,l))\n",
        "print(l)"
      ],
      "execution_count": 0,
      "outputs": [
        {
          "output_type": "stream",
          "text": [
            "[2, 4, 6, 8]\n"
          ],
          "name": "stdout"
        }
      ]
    },
    {
      "cell_type": "markdown",
      "metadata": {
        "id": "46ho5JcAMAWS",
        "colab_type": "text"
      },
      "source": [
        "Q21. How many stars will the following snippet send to the console?\n",
        "```\n",
        "i = 4\n",
        "while i > 0 :\n",
        "  i -= 2\n",
        "  print(“*”)\n",
        "if i == 2:\n",
        "  break\n",
        "else:\n",
        "  print(“*”)\n",
        "```\n",
        "1. 2\n",
        "2. 0\n",
        "3. **1**\n",
        "4. the snippet will enter an infinite loop"
      ]
    },
    {
      "cell_type": "code",
      "metadata": {
        "id": "N4bOiBBjMNOP",
        "colab_type": "code",
        "outputId": "7a17c0e0-0e41-4782-eee7-02f8ef970ce8",
        "colab": {
          "base_uri": "https://localhost:8080/",
          "height": 34
        }
      },
      "source": [
        "i = 4\n",
        "while i > 0 :\n",
        "  i -= 2\n",
        "  print('*')\n",
        "  if i == 2:\n",
        "    break\n",
        "  else:\n",
        "    print('*')"
      ],
      "execution_count": 0,
      "outputs": [
        {
          "output_type": "stream",
          "text": [
            "*\n"
          ],
          "name": "stdout"
        }
      ]
    },
    {
      "cell_type": "markdown",
      "metadata": {
        "id": "yDbYKtnzMdKP",
        "colab_type": "text"
      },
      "source": [
        "Q22. What will be the output of the following snippet?\n",
        "```\n",
        "t = (1, 2, 3, 4)\n",
        "t = t[-2:-1]\n",
        "t = t[-1]\n",
        "print(t)\n",
        "```\n",
        "1. 33\n",
        "2. (3)\n",
        "3. **3**\n",
        "4. (3,)"
      ]
    },
    {
      "cell_type": "code",
      "metadata": {
        "id": "uhWuqHeJMnK_",
        "colab_type": "code",
        "outputId": "98a91401-8f94-40fd-9091-2966bf081860",
        "colab": {
          "base_uri": "https://localhost:8080/",
          "height": 34
        }
      },
      "source": [
        "t = (1, 2, 3, 4)\n",
        "t = t[-2:-1]\n",
        "t = t[-1]\n",
        "print(t)"
      ],
      "execution_count": 0,
      "outputs": [
        {
          "output_type": "stream",
          "text": [
            "3\n"
          ],
          "name": "stdout"
        }
      ]
    },
    {
      "cell_type": "markdown",
      "metadata": {
        "id": "3oxg1p1kMpv_",
        "colab_type": "text"
      },
      "source": [
        "Q23. What will be the output of the following snippet?\n",
        "\n",
        "```\n",
        "d = {}\n",
        "d[‘2’] = [1,2]\n",
        "d[‘1’] = [3,4]\n",
        "for x in d.keys():\n",
        "  print(d[x][1],end=””)\n",
        "```\n",
        "1. **24**\n",
        "2. 13\n",
        "3. 42\n",
        "4. 31"
      ]
    },
    {
      "cell_type": "code",
      "metadata": {
        "id": "Rh4Ax0wbM9PQ",
        "colab_type": "code",
        "outputId": "f4c1c2b1-cbf7-4588-9514-1761e9d0e98e",
        "colab": {
          "base_uri": "https://localhost:8080/",
          "height": 34
        }
      },
      "source": [
        "d = {}\n",
        "d['2'] = [1,2]\n",
        "d['1'] = [3,4]\n",
        "for x in d.keys():\n",
        "  print(d[x][1],end='')"
      ],
      "execution_count": 0,
      "outputs": [
        {
          "output_type": "stream",
          "text": [
            "24"
          ],
          "name": "stdout"
        }
      ]
    },
    {
      "cell_type": "markdown",
      "metadata": {
        "id": "dWakjxgBND2x",
        "colab_type": "text"
      },
      "source": [
        "Q24. What will be the output of the following snippet?\n",
        "```\n",
        "def fun(d,k,v):\n",
        "  d[k]=v\n",
        "  dc = {}\n",
        "print(fun(dc,’1′,’v’))\n",
        "```\n",
        "1. **None**\n",
        "2. 1\n",
        "3. the snippet is erroneous\n",
        "4. v"
      ]
    },
    {
      "cell_type": "code",
      "metadata": {
        "id": "X1-Dp4mNNSlf",
        "colab_type": "code",
        "outputId": "721347c6-751b-4e8d-eec9-80e980ebda1c",
        "colab": {
          "base_uri": "https://localhost:8080/",
          "height": 34
        }
      },
      "source": [
        "def fun(d,k,v):\n",
        "  d[k]=v\n",
        "dc = {}\n",
        "print(fun(dc,'1','v'))"
      ],
      "execution_count": 0,
      "outputs": [
        {
          "output_type": "stream",
          "text": [
            "None\n"
          ],
          "name": "stdout"
        }
      ]
    },
    {
      "cell_type": "markdown",
      "metadata": {
        "id": "pQtjqrjWNZPx",
        "colab_type": "text"
      },
      "source": [
        "Q25. How many empty lines will the following snippet send to the console?\n",
        "```\n",
        "l = [[c for c in range(r)] for r in range(3)]\n",
        "for x in l:\n",
        "  if len(x) < 2:\n",
        "print()\n",
        "```\n",
        "1. 1\n",
        "2. 0\n",
        "3. **2**\n",
        "4. 3"
      ]
    },
    {
      "cell_type": "code",
      "metadata": {
        "id": "hZL-e92pNj1o",
        "colab_type": "code",
        "outputId": "1aa02c1e-7aee-4069-a7f2-614bd1358523",
        "colab": {
          "base_uri": "https://localhost:8080/",
          "height": 52
        }
      },
      "source": [
        "l = [[c for c in range(r)] for r in range(3)]\n",
        "for x in l:\n",
        "  if len(x) < 2:\n",
        "    print(x)"
      ],
      "execution_count": 0,
      "outputs": [
        {
          "output_type": "stream",
          "text": [
            "[]\n",
            "[0]\n"
          ],
          "name": "stdout"
        }
      ]
    },
    {
      "cell_type": "markdown",
      "metadata": {
        "id": "_XyKGBGSPU_5",
        "colab_type": "text"
      },
      "source": [
        "Q26. Knowing that the function named m() resides in the module named f, and the code contains the following import statement, choose the right way to invoke the function:\n",
        "\n",
        "`from m import f`\n",
        "1. **the import statement is invalid**\n",
        "2. mod.fun()\n",
        "3. mod:fun()\n",
        "4. fun()"
      ]
    },
    {
      "cell_type": "markdown",
      "metadata": {
        "id": "dl5agUwjPnew",
        "colab_type": "text"
      },
      "source": [
        "Q27. The package directory/folder may contain a file intended to initialize the package. Its name is:\n",
        "1. **__ init __.py**\n",
        "2. init.py\n",
        "3. __ init.py __\n",
        "4. __ init __."
      ]
    },
    {
      "cell_type": "markdown",
      "metadata": {
        "id": "IYZQBnDgP544",
        "colab_type": "text"
      },
      "source": [
        "Q28. The folder created by Python used to store pyc files is named:\n",
        "1. __ pycfiles __\n",
        "2. __ pyc __\n",
        "3. **__ pycache __**\n",
        "4. __ cache __"
      ]
    },
    {
      "cell_type": "markdown",
      "metadata": {
        "id": "2EJOAfiOQEtn",
        "colab_type": "text"
      },
      "source": [
        "Q29. What will be the output of the following code, located in the file module.py?\n",
        "```\n",
        "print(__name__)\n",
        "```\n",
        "1. main\n",
        "2. __ module.py __\n",
        "3. module.py\n",
        "4. **__ main __**"
      ]
    },
    {
      "cell_type": "code",
      "metadata": {
        "id": "rYPit0HCQSte",
        "colab_type": "code",
        "outputId": "b37414ea-a9e7-4e26-cff1-e14bccce9e15",
        "colab": {
          "base_uri": "https://localhost:8080/",
          "height": 34
        }
      },
      "source": [
        "print(__name__)"
      ],
      "execution_count": 0,
      "outputs": [
        {
          "output_type": "stream",
          "text": [
            "__main__\n"
          ],
          "name": "stdout"
        }
      ]
    },
    {
      "cell_type": "markdown",
      "metadata": {
        "id": "XXFZuLl2QVAn",
        "colab_type": "text"
      },
      "source": [
        "Q30. If you want to tell your module’s users that a particular variable should not be accessed directly, you may:\n",
        "1. start its name with a capital letter\n",
        "2. use its number instead of its name\n",
        "3. **start its name with _ or __**\n",
        "4. build its name with lowercase letters only"
      ]
    },
    {
      "cell_type": "code",
      "metadata": {
        "id": "5DS7THeFQg4X",
        "colab_type": "code",
        "colab": {}
      },
      "source": [
        "# Class definition with two different variables\n",
        "class A:\n",
        "    __a = 2\n",
        "    b = 3\n",
        "    def __init__(self):\n",
        "      pass"
      ],
      "execution_count": 0,
      "outputs": []
    },
    {
      "cell_type": "code",
      "metadata": {
        "id": "02F2A1-RRXkg",
        "colab_type": "code",
        "outputId": "efc6a748-9e99-4405-a948-d042d73bfcba",
        "colab": {
          "base_uri": "https://localhost:8080/",
          "height": 167
        }
      },
      "source": [
        "# Returns AttributeError: type object 'A' has no attribute 'a'\n",
        "A.a"
      ],
      "execution_count": 0,
      "outputs": [
        {
          "output_type": "error",
          "ename": "AttributeError",
          "evalue": "ignored",
          "traceback": [
            "\u001b[0;31m---------------------------------------------------------------------------\u001b[0m",
            "\u001b[0;31mAttributeError\u001b[0m                            Traceback (most recent call last)",
            "\u001b[0;32m<ipython-input-25-d7a30d9da173>\u001b[0m in \u001b[0;36m<module>\u001b[0;34m()\u001b[0m\n\u001b[0;32m----> 1\u001b[0;31m \u001b[0mA\u001b[0m\u001b[0;34m.\u001b[0m\u001b[0ma\u001b[0m\u001b[0;34m\u001b[0m\u001b[0;34m\u001b[0m\u001b[0m\n\u001b[0m",
            "\u001b[0;31mAttributeError\u001b[0m: type object 'A' has no attribute 'a'"
          ]
        }
      ]
    },
    {
      "cell_type": "code",
      "metadata": {
        "id": "OhgxHuZgRSdD",
        "colab_type": "code",
        "outputId": "a03b355d-6c3b-4e07-d616-7e437421ec66",
        "colab": {
          "base_uri": "https://localhost:8080/",
          "height": 34
        }
      },
      "source": [
        "# Retruns result as per definition\n",
        "A.b"
      ],
      "execution_count": 0,
      "outputs": [
        {
          "output_type": "execute_result",
          "data": {
            "text/plain": [
              "3"
            ]
          },
          "metadata": {
            "tags": []
          },
          "execution_count": 23
        }
      ]
    },
    {
      "cell_type": "markdown",
      "metadata": {
        "id": "txNWS48oRcES",
        "colab_type": "text"
      },
      "source": [
        "Q31. If there is a finally: branch inside the try: block, we can say that:\n",
        "1. it won’t be executed if no exception is raised\n",
        "2. **it will always be executed**\n",
        "3. branches is executed\n",
        "4. it will be executed when there is no else: branch"
      ]
    },
    {
      "cell_type": "code",
      "metadata": {
        "id": "Q3TUf2TiRzOf",
        "colab_type": "code",
        "outputId": "65a4115c-9e60-430b-86ba-0e7386a7c054",
        "colab": {
          "base_uri": "https://localhost:8080/",
          "height": 52
        }
      },
      "source": [
        "try:\n",
        "  print(1/0)\n",
        "except ArithmeticError:\n",
        "  print(\"Except block.\")\n",
        "finally:\n",
        "  print(\"Finally is always executed!\")"
      ],
      "execution_count": 0,
      "outputs": [
        {
          "output_type": "stream",
          "text": [
            "Except block.\n",
            "Finally is always executed!\n"
          ],
          "name": "stdout"
        }
      ]
    },
    {
      "cell_type": "markdown",
      "metadata": {
        "id": "q-Q6IaCdSKOG",
        "colab_type": "text"
      },
      "source": [
        "Q32. What will be the output of the following snippet?\n",
        "```\n",
        "try:\n",
        "  raise Exception\n",
        "except BaseException:\n",
        "  print(“a”,end=”)\n",
        "else:\n",
        "  print(“b”,end=”)\n",
        "finally:\n",
        "  print(“c”)\n",
        "```\n",
        "1. a\n",
        "2. ab\n",
        "3. bc\n",
        "4. **ac**"
      ]
    },
    {
      "cell_type": "code",
      "metadata": {
        "id": "LJlWTx4GScQQ",
        "colab_type": "code",
        "outputId": "7d7232e4-41e6-4c82-97bc-2e438d2ad2de",
        "colab": {
          "base_uri": "https://localhost:8080/",
          "height": 34
        }
      },
      "source": [
        "try:\n",
        "  raise Exception\n",
        "except BaseException:\n",
        "  print('a',end='')\n",
        "else:\n",
        "  print('b',end='')\n",
        "finally:\n",
        "  print('c')"
      ],
      "execution_count": 0,
      "outputs": [
        {
          "output_type": "stream",
          "text": [
            "ac\n"
          ],
          "name": "stdout"
        }
      ]
    },
    {
      "cell_type": "markdown",
      "metadata": {
        "id": "On28omSOSmPg",
        "colab_type": "text"
      },
      "source": [
        "Q33. What will be the output of the following snippet?\n",
        "```\n",
        "class A:\n",
        "  def __init__(self,name):\n",
        "    self.name = name\n",
        "a = A(“class”)\n",
        "print(a)\n",
        "```\n",
        "1. a number\n",
        "2. **a string ending with a long hexadecimal number**\n",
        "3. class\n",
        "4. name"
      ]
    },
    {
      "cell_type": "code",
      "metadata": {
        "id": "tXBA7rhFSywK",
        "colab_type": "code",
        "outputId": "a9f0ba77-15ab-4cfd-dacf-4470e3aafab0",
        "colab": {
          "base_uri": "https://localhost:8080/",
          "height": 34
        }
      },
      "source": [
        "class A:\n",
        "  def __init__(self,name):\n",
        "    self.name = name\n",
        "a = A('class')\n",
        "print(a)"
      ],
      "execution_count": 0,
      "outputs": [
        {
          "output_type": "stream",
          "text": [
            "<__main__.A object at 0x7fc1472dd898>\n"
          ],
          "name": "stdout"
        }
      ]
    },
    {
      "cell_type": "markdown",
      "metadata": {
        "id": "3Q88mKOQS7yG",
        "colab_type": "text"
      },
      "source": [
        "Q34. What will be the output of the following snippet?\n",
        "```\n",
        "try:\n",
        "  raise Exception\n",
        "except:\n",
        "  print(“c”)\n",
        "except BaseException:\n",
        "  print(“a”)\n",
        "except Exception:\n",
        "  print(“b”)\n",
        "```\n",
        "1. **it will an cause error**\n",
        "2. b\n",
        "3. c\n",
        "4. a"
      ]
    },
    {
      "cell_type": "code",
      "metadata": {
        "id": "XAVFJYx9Tqyp",
        "colab_type": "code",
        "outputId": "9479d21c-44b9-4a3a-d7e4-6ef1c826fd00",
        "colab": {
          "base_uri": "https://localhost:8080/",
          "height": 132
        }
      },
      "source": [
        "# Returns SyntaxError: default 'except:' must be last\n",
        "try:\n",
        "  raise Exception\n",
        "except:\n",
        "  print('c')\n",
        "except BaseException:\n",
        "  print('a')\n",
        "except Exception:\n",
        "  print('b')"
      ],
      "execution_count": 0,
      "outputs": [
        {
          "output_type": "error",
          "ename": "SyntaxError",
          "evalue": "ignored",
          "traceback": [
            "\u001b[0;36m  File \u001b[0;32m\"<ipython-input-33-d8928c977a16>\"\u001b[0;36m, line \u001b[0;32m2\u001b[0m\n\u001b[0;31m    raise Exception\u001b[0m\n\u001b[0m         ^\u001b[0m\n\u001b[0;31mSyntaxError\u001b[0m\u001b[0;31m:\u001b[0m default 'except:' must be last\n"
          ]
        }
      ]
    },
    {
      "cell_type": "markdown",
      "metadata": {
        "id": "bgEtpCVzUt5-",
        "colab_type": "text"
      },
      "source": [
        "Q35. What will be the output of the following snippet?\n",
        "```\n",
        "class X:\n",
        "  pass\n",
        "class Y(X):\n",
        "  pass\n",
        "class Z(Y):\n",
        "  pass\n",
        "x = X()\n",
        "z = Z()\n",
        "print(isinstance(x,Z),isinstance(z,X))\n",
        "```\n",
        "1. False False\n",
        "2. True True\n",
        "3. True False\n",
        "4. **False True**"
      ]
    },
    {
      "cell_type": "code",
      "metadata": {
        "id": "2M1ZvmxnU99Z",
        "colab_type": "code",
        "outputId": "c34ce423-038c-491f-de5c-1019d958c3ab",
        "colab": {
          "base_uri": "https://localhost:8080/",
          "height": 34
        }
      },
      "source": [
        "class X:\n",
        "  pass\n",
        "class Y(X):\n",
        "  pass\n",
        "class Z(Y):\n",
        "  pass\n",
        "x = X()\n",
        "z = Z()\n",
        "print(isinstance(x,Z),isinstance(z,X))"
      ],
      "execution_count": 0,
      "outputs": [
        {
          "output_type": "stream",
          "text": [
            "False True\n"
          ],
          "name": "stdout"
        }
      ]
    },
    {
      "cell_type": "markdown",
      "metadata": {
        "id": "FUytHIQ_VS-w",
        "colab_type": "text"
      },
      "source": [
        "Q36. The following code prints:\n",
        "```\n",
        "x = “\\”\n",
        "print(len(x))\n",
        "```\n",
        "1. 1\n",
        "2. **the code will cause an error**\n",
        "3. 2\n",
        "4. 3"
      ]
    },
    {
      "cell_type": "code",
      "metadata": {
        "id": "sbBmOlQrWJnq",
        "colab_type": "code",
        "outputId": "5d7a5f83-b454-4b93-f277-6b489ec54c9a",
        "colab": {
          "base_uri": "https://localhost:8080/",
          "height": 132
        }
      },
      "source": [
        "x = '\\'\n",
        "print(len(x))"
      ],
      "execution_count": 0,
      "outputs": [
        {
          "output_type": "error",
          "ename": "SyntaxError",
          "evalue": "ignored",
          "traceback": [
            "\u001b[0;36m  File \u001b[0;32m\"<ipython-input-35-77c530d6e6f2>\"\u001b[0;36m, line \u001b[0;32m1\u001b[0m\n\u001b[0;31m    x = '\\'\u001b[0m\n\u001b[0m           ^\u001b[0m\n\u001b[0;31mSyntaxError\u001b[0m\u001b[0;31m:\u001b[0m EOL while scanning string literal\n"
          ]
        }
      ]
    },
    {
      "cell_type": "markdown",
      "metadata": {
        "id": "LaqmaP68WO84",
        "colab_type": "text"
      },
      "source": [
        "Q37. The following code prints:\n",
        "\n",
        "```\n",
        "x = “””\n",
        "“””\n",
        "print(len(x))\n",
        "```\n",
        "1. 2\n",
        "2. **1**\n",
        "3. the code will cause an error\n",
        "4. 3"
      ]
    },
    {
      "cell_type": "code",
      "metadata": {
        "id": "cOCNj1G2WaIY",
        "colab_type": "code",
        "outputId": "0029a997-881a-4b3a-b87c-fa84fe1e2d3f",
        "colab": {
          "base_uri": "https://localhost:8080/",
          "height": 34
        }
      },
      "source": [
        "x = \"\"\"\n",
        "\"\"\"\n",
        "print(len(x))"
      ],
      "execution_count": 0,
      "outputs": [
        {
          "output_type": "stream",
          "text": [
            "1\n"
          ],
          "name": "stdout"
        }
      ]
    },
    {
      "cell_type": "markdown",
      "metadata": {
        "id": "slGccqi2Wl1x",
        "colab_type": "text"
      },
      "source": [
        "Q38. If the class constructor is declared as below, which one of the assignments is valid?\n",
        "```\n",
        "class Class:\n",
        "  def __init__(self):\n",
        "    pass\n",
        "```\n",
        "1. object = Class(None)\n",
        "2. object = Class(1)\n",
        "3. object = Class(1,2)\n",
        "4. **object = Class()**"
      ]
    },
    {
      "cell_type": "code",
      "metadata": {
        "id": "hga9A1xFWywx",
        "colab_type": "code",
        "colab": {}
      },
      "source": [
        "class Class:\n",
        "  def __init__(self):\n",
        "    pass"
      ],
      "execution_count": 0,
      "outputs": []
    },
    {
      "cell_type": "markdown",
      "metadata": {
        "id": "uT_JJXC-Xs9E",
        "colab_type": "text"
      },
      "source": [
        "Q39. What will be the output of the following code?\n",
        "   class A:\n",
        "```\n",
        "A = 1\n",
        "def __init__(self,v = 2):\n",
        "  self.v = v + A.A\n",
        "  A.A += 1\n",
        "def set(self,v):\n",
        "  self.v += v\n",
        "  A.A += 1\n",
        "  return\n",
        "a = A()\n",
        "a.set(2)\n",
        "print(a.v)\n",
        "```\n",
        "1. 7\n",
        "2. **5**\n",
        "3. 1\n",
        "4. 3"
      ]
    },
    {
      "cell_type": "code",
      "metadata": {
        "id": "JAoJuqFuYANC",
        "colab_type": "code",
        "outputId": "b88a4005-3196-4287-f4b1-c4ae9af73409",
        "colab": {
          "base_uri": "https://localhost:8080/",
          "height": 34
        }
      },
      "source": [
        "class A:\n",
        "  A = 1\n",
        "  def __init__(self,v = 2):\n",
        "    self.v = v + A.A\n",
        "    A.A += 1\n",
        "  def set(self,v):\n",
        "    self.v += v\n",
        "    A.A += 1\n",
        "    return\n",
        "a = A()\n",
        "a.set(2)\n",
        "print(a.v)"
      ],
      "execution_count": 0,
      "outputs": [
        {
          "output_type": "stream",
          "text": [
            "5\n"
          ],
          "name": "stdout"
        }
      ]
    },
    {
      "cell_type": "markdown",
      "metadata": {
        "id": "1ljp8fkxYPvT",
        "colab_type": "text"
      },
      "source": [
        "Q40. What will be the output of the following code? \n",
        "```\n",
        "class A:\n",
        "  A = 1\n",
        "def __init__(self):\n",
        "  self.a = 0\n",
        "print(hasattr(A,’A’))\n",
        "```\n",
        "1. **True**\n",
        "2. 0\n",
        "3. 1\n",
        "4. False"
      ]
    },
    {
      "cell_type": "code",
      "metadata": {
        "id": "7z5GsDtGYckJ",
        "colab_type": "code",
        "outputId": "29fa28cd-d817-4d7f-fe5e-005c50cf4f84",
        "colab": {
          "base_uri": "https://localhost:8080/",
          "height": 34
        }
      },
      "source": [
        "class A:\n",
        "  A = 1\n",
        "def __init__(self):\n",
        "  self.a = 0\n",
        "print(hasattr(A,'A'))"
      ],
      "execution_count": 0,
      "outputs": [
        {
          "output_type": "stream",
          "text": [
            "True\n"
          ],
          "name": "stdout"
        }
      ]
    },
    {
      "cell_type": "markdown",
      "metadata": {
        "id": "pgvcydUaYhdK",
        "colab_type": "text"
      },
      "source": [
        "Q41. What will be the result of executing the following code?\n",
        "```\n",
        "class A:\n",
        "  pass\n",
        "class B:\n",
        "  pass\n",
        "class C(A,B):\n",
        "  pass\n",
        "print(issubclass(C,A) and issubclass(C,B))\n",
        "```\n",
        "1. **it will print True**\n",
        "2. it will raise an exception\n",
        "3. it will print an empty line\n",
        "4. it will print False"
      ]
    },
    {
      "cell_type": "code",
      "metadata": {
        "id": "BSORSsJJYvx2",
        "colab_type": "code",
        "outputId": "abb88b2b-a1af-47a4-c377-098f0491703b",
        "colab": {
          "base_uri": "https://localhost:8080/",
          "height": 34
        }
      },
      "source": [
        "class A:\n",
        "  pass\n",
        "class B:\n",
        "  pass\n",
        "class C(A,B):\n",
        "  pass\n",
        "print(issubclass(C,A) and issubclass(C,B))"
      ],
      "execution_count": 0,
      "outputs": [
        {
          "output_type": "stream",
          "text": [
            "True\n"
          ],
          "name": "stdout"
        }
      ]
    },
    {
      "cell_type": "markdown",
      "metadata": {
        "id": "HIxRKMDlY1Zp",
        "colab_type": "text"
      },
      "source": [
        "Q42. The sys.stdout stream is normally associated with:\n",
        "1. **the screen**\n",
        "2. a null device\n",
        "3. the keyboard\n",
        "4. the printer"
      ]
    },
    {
      "cell_type": "markdown",
      "metadata": {
        "id": "IED3UjXJZVvD",
        "colab_type": "text"
      },
      "source": [
        "Q43. What will be the effect of running the following code?\n",
        "```\n",
        "class A:\n",
        "  def __init__(self,v):\n",
        "    self._a = v + 1\n",
        "a = A(0)\n",
        "print(a._a)\n",
        "```\n",
        "1. it will print 0\n",
        "2. it will print 1\n",
        "3. it will print 2\n",
        "4. it will raise an AttributeError exception"
      ]
    },
    {
      "cell_type": "code",
      "metadata": {
        "id": "EXgIujgYZhDZ",
        "colab_type": "code",
        "outputId": "a27357ba-e0f1-4843-dfd2-86d9c9b29452",
        "colab": {
          "base_uri": "https://localhost:8080/",
          "height": 34
        }
      },
      "source": [
        "class A:\n",
        "  def __init__(self,v):\n",
        "    self._a = v + 1\n",
        "a = A(0)\n",
        "print(a._a)"
      ],
      "execution_count": 0,
      "outputs": [
        {
          "output_type": "stream",
          "text": [
            "1\n"
          ],
          "name": "stdout"
        }
      ]
    },
    {
      "cell_type": "markdown",
      "metadata": {
        "id": "ACfwcOHIZn8h",
        "colab_type": "text"
      },
      "source": [
        "Q44. What will be the result of executing the following code?\n",
        "```\n",
        "class A:\n",
        "  def __init__(self):\n",
        "    pass\n",
        "  def f(self):\n",
        "    return 1\n",
        "  def g():\n",
        "    return self.f()\n",
        "a = A()\n",
        "print(a.g())\n",
        "```\n",
        "1. it will print 0\n",
        "2. it will print True\n",
        "3. it will print 1\n",
        "4. it will raise an exception"
      ]
    },
    {
      "cell_type": "code",
      "metadata": {
        "id": "Fi8_TkorZ2iH",
        "colab_type": "code",
        "outputId": "90a98616-f4a4-4f35-aed0-6046bd84edfe",
        "colab": {
          "base_uri": "https://localhost:8080/",
          "height": 203
        }
      },
      "source": [
        "# The code will raise an exception. TypeError: g() takes 0 positional arguments but 1 was given\n",
        "class A:\n",
        "  def __init__(self):\n",
        "    pass\n",
        "  def f(self):\n",
        "    return 1\n",
        "  def g():\n",
        "    return self.f()\n",
        "a = A()\n",
        "print(a.g())"
      ],
      "execution_count": 0,
      "outputs": [
        {
          "output_type": "error",
          "ename": "TypeError",
          "evalue": "ignored",
          "traceback": [
            "\u001b[0;31m---------------------------------------------------------------------------\u001b[0m",
            "\u001b[0;31mTypeError\u001b[0m                                 Traceback (most recent call last)",
            "\u001b[0;32m<ipython-input-45-976ff4659488>\u001b[0m in \u001b[0;36m<module>\u001b[0;34m()\u001b[0m\n\u001b[1;32m      7\u001b[0m     \u001b[0;32mreturn\u001b[0m \u001b[0mself\u001b[0m\u001b[0;34m.\u001b[0m\u001b[0mf\u001b[0m\u001b[0;34m(\u001b[0m\u001b[0;34m)\u001b[0m\u001b[0;34m\u001b[0m\u001b[0;34m\u001b[0m\u001b[0m\n\u001b[1;32m      8\u001b[0m \u001b[0ma\u001b[0m \u001b[0;34m=\u001b[0m \u001b[0mA\u001b[0m\u001b[0;34m(\u001b[0m\u001b[0;34m)\u001b[0m\u001b[0;34m\u001b[0m\u001b[0;34m\u001b[0m\u001b[0m\n\u001b[0;32m----> 9\u001b[0;31m \u001b[0mprint\u001b[0m\u001b[0;34m(\u001b[0m\u001b[0ma\u001b[0m\u001b[0;34m.\u001b[0m\u001b[0mg\u001b[0m\u001b[0;34m(\u001b[0m\u001b[0;34m)\u001b[0m\u001b[0;34m)\u001b[0m\u001b[0;34m\u001b[0m\u001b[0;34m\u001b[0m\u001b[0m\n\u001b[0m",
            "\u001b[0;31mTypeError\u001b[0m: g() takes 0 positional arguments but 1 was given"
          ]
        }
      ]
    },
    {
      "cell_type": "markdown",
      "metadata": {
        "id": "t2V3N9R3aV4s",
        "colab_type": "text"
      },
      "source": [
        "Q45. What will be the result of executing the following code?\n",
        "\n",
        "```\n",
        "class A:\n",
        "  def a(self):\n",
        "    print(‘a’)\n",
        "class B:\n",
        "  def a(self):\n",
        "    print(‘b’)\n",
        "class C(A,B):\n",
        "  def c(self):\n",
        "    self.a()\n",
        "o = C()\n",
        "o.c()\n",
        "```\n",
        "1. it will print b\n",
        "2. **it will print a**\n",
        "3. it will raise an exception\n",
        "4. it will print c"
      ]
    },
    {
      "cell_type": "code",
      "metadata": {
        "id": "QzT5Gt4Hao1j",
        "colab_type": "code",
        "outputId": "02bc9ae5-ca42-4642-9f12-88ccb8f2d447",
        "colab": {
          "base_uri": "https://localhost:8080/",
          "height": 34
        }
      },
      "source": [
        "class A:\n",
        "  def a(self):\n",
        "    print('a')\n",
        "class B:\n",
        "  def a(self):\n",
        "    print('b')\n",
        "class C(A,B):\n",
        "  def c(self):\n",
        "    self.a()\n",
        "o = C()\n",
        "o.c()"
      ],
      "execution_count": 0,
      "outputs": [
        {
          "output_type": "stream",
          "text": [
            "a\n"
          ],
          "name": "stdout"
        }
      ]
    },
    {
      "cell_type": "markdown",
      "metadata": {
        "id": "FLn4_QkQbwhe",
        "colab_type": "text"
      },
      "source": [
        "Q46. The Exception class contains a property named args, and it is a:\n",
        "1. string\n",
        "2. **tuple**\n",
        "3. list\n",
        "4. dictionary"
      ]
    },
    {
      "cell_type": "markdown",
      "metadata": {
        "id": "mxYsSbCRcNDS",
        "colab_type": "text"
      },
      "source": [
        "Q47. What will be the result of executing the following code?\n",
        "```\n",
        "def I(n):\n",
        "  s = ”\n",
        "  for i in range(n):\n",
        "    s += ‘*’\n",
        "    yield s\n",
        "  for x in I(3):\n",
        "    print(x,end=”)\n",
        "```\n",
        "1. it will print * * *\n",
        "2. it will print * * * *\n",
        "3. it will print *\n",
        "4. it will print * * * * * * (answer)"
      ]
    },
    {
      "cell_type": "code",
      "metadata": {
        "id": "zldMzxu-c1p7",
        "colab_type": "code",
        "outputId": "f76d5b74-d456-4591-cf9e-24945eddbc59",
        "colab": {
          "base_uri": "https://localhost:8080/",
          "height": 34
        }
      },
      "source": [
        "def I(n):\n",
        "  s = ''\n",
        "  for i in range(n):\n",
        "    s += '*'\n",
        "    yield s\n",
        "for x in I(3):\n",
        "  print(x,end='')"
      ],
      "execution_count": 0,
      "outputs": [
        {
          "output_type": "stream",
          "text": [
            "******"
          ],
          "name": "stdout"
        }
      ]
    },
    {
      "cell_type": "markdown",
      "metadata": {
        "id": "QNXNohUSdYVz",
        "colab_type": "text"
      },
      "source": [
        "Q48. What will be the result of executing the following code?\n",
        "```\n",
        "def a(x):\n",
        "  def b():\n",
        "    return x + x\n",
        "    return b\n",
        "x = a('x')\n",
        "y = a('')\n",
        "print(x() + y())\n",
        "```\n",
        "1. it will print xxxxxx\n",
        "2. it will print x\n",
        "3. **it will print xx**\n",
        "4. it will print xxxx"
      ]
    },
    {
      "cell_type": "code",
      "metadata": {
        "id": "gT-l4owmdqv8",
        "colab_type": "code",
        "outputId": "303a8f4a-aa92-4a1b-af86-d24ea5eeca5b",
        "colab": {
          "base_uri": "https://localhost:8080/",
          "height": 34
        }
      },
      "source": [
        "def a(x):\n",
        "  def b():\n",
        "    return x + x\n",
        "  return b\n",
        "x = a('x')\n",
        "y = a('')\n",
        "print(x() + y())"
      ],
      "execution_count": 0,
      "outputs": [
        {
          "output_type": "stream",
          "text": [
            "xx\n"
          ],
          "name": "stdout"
        }
      ]
    },
    {
      "cell_type": "markdown",
      "metadata": {
        "id": "epmIjTpMd05K",
        "colab_type": "text"
      },
      "source": [
        "Q49. If s is a stream opened in read mode, the following line\n",
        "```\n",
        "q = s.readlines()\n",
        "```\n",
        "will assign q as a:\n",
        "1. string\n",
        "2. dictionary\n",
        "3. **list**\n",
        "4. tuple"
      ]
    },
    {
      "cell_type": "markdown",
      "metadata": {
        "id": "k1cGHi6EeCWD",
        "colab_type": "text"
      },
      "source": [
        "Q50. If you want to write a byte array’s content to a stream, you’d use:\n",
        "1. **the write() method**\n",
        "2. writebytearray() method\n",
        "3. the writefrom() method\n",
        "4. writeto() method"
      ]
    }
  ]
}