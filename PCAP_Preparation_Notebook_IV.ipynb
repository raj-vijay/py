{
  "nbformat": 4,
  "nbformat_minor": 0,
  "metadata": {
    "colab": {
      "name": "PCAP_Preparation_Notebook_IV.ipynb",
      "provenance": [],
      "authorship_tag": "ABX9TyOxSH8Vi74Vl9bzf6zyErPq",
      "include_colab_link": true
    },
    "kernelspec": {
      "name": "python3",
      "display_name": "Python 3"
    }
  },
  "cells": [
    {
      "cell_type": "markdown",
      "metadata": {
        "id": "view-in-github",
        "colab_type": "text"
      },
      "source": [
        "<a href=\"https://colab.research.google.com/github/raj-vijay/py/blob/master/PCAP_Preparation_Notebook_IV.ipynb\" target=\"_parent\"><img src=\"https://colab.research.google.com/assets/colab-badge.svg\" alt=\"Open In Colab\"/></a>"
      ]
    },
    {
      "cell_type": "markdown",
      "metadata": {
        "id": "6bF1EifTwHu-",
        "colab_type": "text"
      },
      "source": [
        "Q1. Knowing that a function named fun() resides in a module named mod, choose the proper way to import it:\n",
        "1. import fun from mod\n",
        "2. import fun\n",
        "3. **from mod import fun**\n",
        "4. from fun import mod"
      ]
    },
    {
      "cell_type": "code",
      "metadata": {
        "id": "WuQYL8tnvgzW",
        "colab_type": "code",
        "colab": {
          "base_uri": "https://localhost:8080/",
          "height": 34
        },
        "outputId": "89480e02-eb33-4d8c-9931-7bc16520b79c"
      },
      "source": [
        "from math import sqrt\n",
        "print(sqrt(25))"
      ],
      "execution_count": 1,
      "outputs": [
        {
          "output_type": "stream",
          "text": [
            "5.0\n"
          ],
          "name": "stdout"
        }
      ]
    },
    {
      "cell_type": "markdown",
      "metadata": {
        "id": "0rkle0Y0wZeP",
        "colab_type": "text"
      },
      "source": [
        "Q2. Knowing that a function named fun() resides in a module named mod, and it has been imported using the following line:\n",
        "\n",
        "import mod\n",
        "\n",
        "choose the way it can be invoked in your code:\n",
        "1. **mod.fun()**\n",
        "2. mod::fun()\n",
        "3. fun()\n",
        "4. mod‑>fun("
      ]
    },
    {
      "cell_type": "code",
      "metadata": {
        "id": "ZEOGsuUvwrRF",
        "colab_type": "code",
        "colab": {
          "base_uri": "https://localhost:8080/",
          "height": 34
        },
        "outputId": "0044342d-d008-4bd2-96f9-99687a509fd6"
      },
      "source": [
        "import math\n",
        "print(math.sqrt(25))"
      ],
      "execution_count": 2,
      "outputs": [
        {
          "output_type": "stream",
          "text": [
            "5.0\n"
          ],
          "name": "stdout"
        }
      ]
    },
    {
      "cell_type": "markdown",
      "metadata": {
        "id": "s4n0RcJcwvtX",
        "colab_type": "text"
      },
      "source": [
        "Q3. A function returning a list of all entities available in a module is called:\n",
        "1. content()\n",
        "2. **dir()**\n",
        "3. entities()\n",
        "4. listmodule()"
      ]
    },
    {
      "cell_type": "code",
      "metadata": {
        "id": "Kn5yczXjw3Rx",
        "colab_type": "code",
        "colab": {
          "base_uri": "https://localhost:8080/",
          "height": 935
        },
        "outputId": "53d5978f-1ce0-410e-f8ec-40386cb93d94"
      },
      "source": [
        "dir(math)"
      ],
      "execution_count": 3,
      "outputs": [
        {
          "output_type": "execute_result",
          "data": {
            "text/plain": [
              "['__doc__',\n",
              " '__loader__',\n",
              " '__name__',\n",
              " '__package__',\n",
              " '__spec__',\n",
              " 'acos',\n",
              " 'acosh',\n",
              " 'asin',\n",
              " 'asinh',\n",
              " 'atan',\n",
              " 'atan2',\n",
              " 'atanh',\n",
              " 'ceil',\n",
              " 'copysign',\n",
              " 'cos',\n",
              " 'cosh',\n",
              " 'degrees',\n",
              " 'e',\n",
              " 'erf',\n",
              " 'erfc',\n",
              " 'exp',\n",
              " 'expm1',\n",
              " 'fabs',\n",
              " 'factorial',\n",
              " 'floor',\n",
              " 'fmod',\n",
              " 'frexp',\n",
              " 'fsum',\n",
              " 'gamma',\n",
              " 'gcd',\n",
              " 'hypot',\n",
              " 'inf',\n",
              " 'isclose',\n",
              " 'isfinite',\n",
              " 'isinf',\n",
              " 'isnan',\n",
              " 'ldexp',\n",
              " 'lgamma',\n",
              " 'log',\n",
              " 'log10',\n",
              " 'log1p',\n",
              " 'log2',\n",
              " 'modf',\n",
              " 'nan',\n",
              " 'pi',\n",
              " 'pow',\n",
              " 'radians',\n",
              " 'sin',\n",
              " 'sinh',\n",
              " 'sqrt',\n",
              " 'tan',\n",
              " 'tanh',\n",
              " 'tau',\n",
              " 'trunc']"
            ]
          },
          "metadata": {
            "tags": []
          },
          "execution_count": 3
        }
      ]
    },
    {
      "cell_type": "markdown",
      "metadata": {
        "id": "m8oz4_3exBQU",
        "colab_type": "text"
      },
      "source": [
        "Q4. The pyc file contains:\n",
        "1. **compiled Python code**\n",
        "2. a Python interpreter\n",
        "3. a Python compiler\n",
        "4. Python source code"
      ]
    },
    {
      "cell_type": "markdown",
      "metadata": {
        "id": "cJXhSRUjxTwK",
        "colab_type": "text"
      },
      "source": [
        "Q5. When a module is imported, its contents:\n",
        "1. **are executed once (implicitly)**\n",
        "2. are executed as many times as they are imported\n",
        "3. are ignored\n",
        "4. may be executed (explicitly)"
      ]
    },
    {
      "cell_type": "markdown",
      "metadata": {
        "id": "8kyDR5OGyGva",
        "colab_type": "text"
      },
      "source": [
        "Q6. A predefined Python variable, storing the current module name, is called:\n",
        "1. __ modname __\n",
        "2. **__ name __**\n",
        "3. __ mod __\n",
        "4. __ module __"
      ]
    },
    {
      "cell_type": "code",
      "metadata": {
        "id": "8t3GCH6cydXJ",
        "colab_type": "code",
        "colab": {
          "base_uri": "https://localhost:8080/",
          "height": 34
        },
        "outputId": "64272a8e-599c-4c08-902a-f74cad07a382"
      },
      "source": [
        "# The varible __name__ stores the current module name.\n",
        "print(__name__)"
      ],
      "execution_count": 6,
      "outputs": [
        {
          "output_type": "stream",
          "text": [
            "__main__\n"
          ],
          "name": "stdout"
        }
      ]
    },
    {
      "cell_type": "markdown",
      "metadata": {
        "id": "3Aif-X-Myxtl",
        "colab_type": "text"
      },
      "source": [
        "Q7. The following statement:\n",
        "\n",
        "from a.b import c\n",
        "\n",
        "causes the import of:\n",
        "1. entity c from module b from package a\n",
        "2. entity a from module b from package c\n",
        "3. **entity c from module a from package b**\n",
        "4. entity b from module a from package c"
      ]
    },
    {
      "cell_type": "code",
      "metadata": {
        "id": "mCYzEpCmziBY",
        "colab_type": "code",
        "colab": {}
      },
      "source": [
        "import random"
      ],
      "execution_count": 0,
      "outputs": []
    },
    {
      "cell_type": "code",
      "metadata": {
        "id": "hz_uxQvTy_3n",
        "colab_type": "code",
        "colab": {
          "base_uri": "https://localhost:8080/",
          "height": 282
        },
        "outputId": "90ebb4c7-fa8b-4561-ed4a-575913c67ddc"
      },
      "source": [
        "# imports the function plot within the package pyplot from module matplotlib\n",
        "from matplotlib.pyplot import plot\n",
        "x = [random.randint(0, 25) for i in range(20)]\n",
        "plot(x)"
      ],
      "execution_count": 18,
      "outputs": [
        {
          "output_type": "execute_result",
          "data": {
            "text/plain": [
              "[<matplotlib.lines.Line2D at 0x7f634089f048>]"
            ]
          },
          "metadata": {
            "tags": []
          },
          "execution_count": 18
        },
        {
          "output_type": "display_data",
          "data": {
            "image/png": "[encoded data removed]",
            "text/plain": [
              "<Figure size 432x288 with 1 Axes>"
            ]
          },
          "metadata": {
            "tags": []
          }
        }
      ]
    }
  ]
}